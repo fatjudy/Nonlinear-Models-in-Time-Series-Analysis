{
 "cells": [
  {
   "cell_type": "code",
   "execution_count": 1,
   "id": "846755cc",
   "metadata": {},
   "outputs": [],
   "source": [
    "import numpy as np\n",
    "import pandas as pd\n",
    "\n",
    "from scipy.optimize import minimize"
   ]
  },
  {
   "cell_type": "markdown",
   "id": "59ca91cb",
   "metadata": {},
   "source": [
    "## Try my estimator"
   ]
  },
  {
   "cell_type": "markdown",
   "id": "581846c2",
   "metadata": {},
   "source": [
    "## load data"
   ]
  },
  {
   "cell_type": "code",
   "execution_count": 2,
   "id": "90b58b62",
   "metadata": {},
   "outputs": [],
   "source": [
    "x = pd.read_excel('data/EQP_Quarterly.xlsx')\n",
    "x1 = x[['DP', 'EP', 'b/m']]\n",
    "y = x['EQP']"
   ]
  },
  {
   "cell_type": "code",
   "execution_count": 3,
   "id": "518735cb",
   "metadata": {},
   "outputs": [
    {
     "data": {
      "text/html": [
       "<div>\n",
       "<style scoped>\n",
       "    .dataframe tbody tr th:only-of-type {\n",
       "        vertical-align: middle;\n",
       "    }\n",
       "\n",
       "    .dataframe tbody tr th {\n",
       "        vertical-align: top;\n",
       "    }\n",
       "\n",
       "    .dataframe thead th {\n",
       "        text-align: right;\n",
       "    }\n",
       "</style>\n",
       "<table border=\"1\" class=\"dataframe\">\n",
       "  <thead>\n",
       "    <tr style=\"text-align: right;\">\n",
       "      <th></th>\n",
       "      <th>DP</th>\n",
       "      <th>EP</th>\n",
       "      <th>b/m</th>\n",
       "    </tr>\n",
       "  </thead>\n",
       "  <tbody>\n",
       "    <tr>\n",
       "      <th>0</th>\n",
       "      <td>-2.976535</td>\n",
       "      <td>-2.445079</td>\n",
       "      <td>0.469765</td>\n",
       "    </tr>\n",
       "    <tr>\n",
       "      <th>1</th>\n",
       "      <td>-3.007309</td>\n",
       "      <td>-2.531330</td>\n",
       "      <td>0.452385</td>\n",
       "    </tr>\n",
       "    <tr>\n",
       "      <th>2</th>\n",
       "      <td>-3.129097</td>\n",
       "      <td>-2.707759</td>\n",
       "      <td>0.380586</td>\n",
       "    </tr>\n",
       "    <tr>\n",
       "      <th>3</th>\n",
       "      <td>-3.132667</td>\n",
       "      <td>-2.766942</td>\n",
       "      <td>0.374689</td>\n",
       "    </tr>\n",
       "    <tr>\n",
       "      <th>4</th>\n",
       "      <td>-3.186980</td>\n",
       "      <td>-2.788289</td>\n",
       "      <td>0.363255</td>\n",
       "    </tr>\n",
       "  </tbody>\n",
       "</table>\n",
       "</div>"
      ],
      "text/plain": [
       "         DP        EP       b/m\n",
       "0 -2.976535 -2.445079  0.469765\n",
       "1 -3.007309 -2.531330  0.452385\n",
       "2 -3.129097 -2.707759  0.380586\n",
       "3 -3.132667 -2.766942  0.374689\n",
       "4 -3.186980 -2.788289  0.363255"
      ]
     },
     "execution_count": 3,
     "metadata": {},
     "output_type": "execute_result"
    }
   ],
   "source": [
    "x1.head()"
   ]
  },
  {
   "cell_type": "code",
   "execution_count": 4,
   "id": "f53f5936",
   "metadata": {},
   "outputs": [
    {
     "data": {
      "text/plain": [
       "0    0.041254\n",
       "1    0.044875\n",
       "2    0.157863\n",
       "3    0.032668\n",
       "4    0.072796\n",
       "Name: EQP, dtype: float64"
      ]
     },
     "execution_count": 4,
     "metadata": {},
     "output_type": "execute_result"
    }
   ],
   "source": [
    "y.head()"
   ]
  },
  {
   "cell_type": "markdown",
   "id": "f91a4d53",
   "metadata": {},
   "source": [
    "##  Nonlinear function with unknown parameters"
   ]
  },
  {
   "cell_type": "markdown",
   "id": "7c58c5f3",
   "metadata": {},
   "source": [
    "We define a linear combination of x with unknown parameter $\\theta$ and we call it the \"single-index\":"
   ]
  },
  {
   "cell_type": "markdown",
   "id": "de63ea5f",
   "metadata": {},
   "source": [
    "$$\n",
    "single\\_index = \\theta x^{T}\n",
    "$$"
   ]
  },
  {
   "cell_type": "markdown",
   "id": "c18115d6",
   "metadata": {},
   "source": [
    "The function below calculate the single-index and return a function with unknown parameter $\\theta$:"
   ]
  },
  {
   "cell_type": "markdown",
   "id": "4d8faa01",
   "metadata": {},
   "source": [
    "We then put this single-index into nonlinear functions. \n",
    "Take sin function as an example:\n",
    "$$\n",
    "f = sin\\left(\\left(\\theta x^{T}\\right) + \\gamma\\right)\n",
    "$$\n",
    "where $\\theta$ and $\\gamma$ are unkown parameters."
   ]
  },
  {
   "cell_type": "markdown",
   "id": "f32d5c70",
   "metadata": {},
   "source": [
    "The function below defines the above sin function and returns a function with unknow parameters $\\theta$\n",
    "and $\\gamma$:"
   ]
  },
  {
   "cell_type": "markdown",
   "id": "c8b38e6f",
   "metadata": {},
   "source": [
    "## Construct loss function\n",
    "Loss function is defined as the sum of squared errors:\n",
    "$$\n",
    "Loss = \\sum\\left(y-sin\\left(\\left(\\theta x^{T}\\right) + \\gamma\\right)\\right)^2\n",
    "$$"
   ]
  },
  {
   "cell_type": "markdown",
   "id": "6c7bd498",
   "metadata": {},
   "source": [
    "The loss function below returns a function with unknow parameters $\\theta$ and $\\gamma$:"
   ]
  },
  {
   "cell_type": "markdown",
   "id": "8cf4b6c2",
   "metadata": {},
   "source": [
    "## run the minimizer:\n",
    "We minimize the loss function and get a estimate of $\\theta$ and $\\gamma$"
   ]
  },
  {
   "cell_type": "markdown",
   "id": "6e03f14e",
   "metadata": {},
   "source": [
    "## Using BaseEstimator:"
   ]
  },
  {
   "cell_type": "code",
   "execution_count": 5,
   "id": "0addd75d",
   "metadata": {},
   "outputs": [],
   "source": [
    "from sklearn.base import BaseEstimator\n",
    "from sklearn.base import RegressorMixin\n",
    "from sklearn.utils.validation import check_X_y, check_array, check_is_fitted"
   ]
  },
  {
   "cell_type": "code",
   "execution_count": 6,
   "id": "4488c822",
   "metadata": {},
   "outputs": [],
   "source": [
    "def single_index(x):\n",
    "    if isinstance(x, (pd.DataFrame, np.ndarray)):\n",
    "        if isinstance(x,pd.DataFrame):\n",
    "            x_values = x.values\n",
    "        else:\n",
    "            pass\n",
    "    else:\n",
    "        raise Exception('wrong type')\n",
    "\n",
    "    def u(theta):\n",
    "        if len(theta) == x_values.shape[1]:\n",
    "            sum_up = [x_values[:,i]*theta[i] for i in range(x_values.shape[1])]\n",
    "            index = np.sum(sum_up, axis = 0)\n",
    "        else:\n",
    "            raise Exception('wrong parameter dimension')\n",
    "        return index\n",
    "    return u\n",
    "    \n",
    "class CLS_Estimator(BaseEstimator, RegressorMixin):\n",
    "\n",
    "    \n",
    "    def __init__(self, obj_func=None, x0=0, method='SLSQP', constraints = ()):\n",
    "        self.obj_func = obj_func\n",
    "        self.x0 = x0\n",
    "        self.method = method\n",
    "        self.constraints = constraints\n",
    "        self.params_ = None\n",
    "        \n",
    "    def constraint_func(self, x):\n",
    "        def constraint(params):\n",
    "            con = 0\n",
    "            for j in np.arange(0, x1.shape[1]):\n",
    "                con += params[j]**2\n",
    "                cons = con - 1\n",
    "            return cons\n",
    "        return {'type':'eq', 'fun': constraint}\n",
    "\n",
    "    def loss(self, x, y):\n",
    "        def loss_func(params):\n",
    "            error = np.sum((y - self.obj_func(x)(params)) ** 2)\n",
    "            return error\n",
    "        return loss_func\n",
    "    \n",
    "    def fit(self, x, y):\n",
    "        self._train_data = x\n",
    "        self._train_target = y\n",
    "\n",
    "        res = minimize(\n",
    "            self.loss(x,y),\n",
    "            x0 = self.x0,\n",
    "            method = self.method,\n",
    "            constraints = self.constraints\n",
    "        )\n",
    "\n",
    "#         res = self.optimizer\n",
    "        if res.success:\n",
    "            self.params_ = res.x\n",
    "        return self\n",
    "    \n",
    "    def predict(self, X):\n",
    "        self.yhat=self.obj_func(X)(self.params_)\n",
    "        return self.yhat"
   ]
  },
  {
   "cell_type": "code",
   "execution_count": 7,
   "id": "17b89f3a",
   "metadata": {},
   "outputs": [],
   "source": [
    "def sin_func(x):\n",
    "    def objective_func(params):\n",
    "        func = np.sin(single_index(x)(params[0:x.shape[1]])+params[x.shape[1]])\n",
    "        return func\n",
    "    return objective_func"
   ]
  },
  {
   "cell_type": "code",
   "execution_count": 8,
   "id": "17a97753",
   "metadata": {},
   "outputs": [],
   "source": [
    "def constraint_func(x):\n",
    "    def constraint(params):\n",
    "        con = 0\n",
    "        for j in np.arange(0, x.shape[1]):\n",
    "            con += params[j]**2\n",
    "            cons = con - 1\n",
    "        return cons\n",
    "    return {'type':'eq', 'fun': constraint}"
   ]
  },
  {
   "cell_type": "code",
   "execution_count": 9,
   "id": "c6814118",
   "metadata": {},
   "outputs": [],
   "source": [
    "cls = CLS_Estimator(obj_func = sin_func, x0 = [0.001]*4)"
   ]
  },
  {
   "cell_type": "code",
   "execution_count": 10,
   "id": "525ab7db",
   "metadata": {},
   "outputs": [
    {
     "data": {
      "text/plain": [
       "CLS_Estimator(obj_func=<function sin_func at 0x0000019752E976A8>,\n",
       "              x0=[0.001, 0.001, 0.001, 0.001])"
      ]
     },
     "execution_count": 10,
     "metadata": {},
     "output_type": "execute_result"
    }
   ],
   "source": [
    "cls.fit(x1,y)"
   ]
  },
  {
   "cell_type": "code",
   "execution_count": 11,
   "id": "1071cfae",
   "metadata": {},
   "outputs": [],
   "source": [
    "yhat = cls.predict(x1[-1:])"
   ]
  },
  {
   "cell_type": "code",
   "execution_count": 12,
   "id": "49d1a857",
   "metadata": {},
   "outputs": [
    {
     "data": {
      "text/plain": [
       "array([0.03733195])"
      ]
     },
     "execution_count": 12,
     "metadata": {},
     "output_type": "execute_result"
    }
   ],
   "source": [
    "yhat"
   ]
  },
  {
   "cell_type": "code",
   "execution_count": 13,
   "id": "0bcc937c",
   "metadata": {},
   "outputs": [],
   "source": [
    "import DataPreparation as dpr\n",
    "import ModelRun as mr\n",
    "\n",
    "from sklearn.model_selection import TimeSeriesSplit"
   ]
  },
  {
   "cell_type": "code",
   "execution_count": 14,
   "id": "b74292a5",
   "metadata": {},
   "outputs": [],
   "source": [
    "df = dpr.read_data('EQP_Monthly')\n",
    "df = dpr.data_clean(df, '1927-01-01')"
   ]
  },
  {
   "cell_type": "code",
   "execution_count": 15,
   "id": "3ac62e00",
   "metadata": {},
   "outputs": [
    {
     "data": {
      "text/html": [
       "<div>\n",
       "<style scoped>\n",
       "    .dataframe tbody tr th:only-of-type {\n",
       "        vertical-align: middle;\n",
       "    }\n",
       "\n",
       "    .dataframe tbody tr th {\n",
       "        vertical-align: top;\n",
       "    }\n",
       "\n",
       "    .dataframe thead th {\n",
       "        text-align: right;\n",
       "    }\n",
       "</style>\n",
       "<table border=\"1\" class=\"dataframe\">\n",
       "  <thead>\n",
       "    <tr style=\"text-align: right;\">\n",
       "      <th></th>\n",
       "      <th>EQP</th>\n",
       "      <th>DP</th>\n",
       "      <th>DY</th>\n",
       "      <th>EP</th>\n",
       "      <th>DE</th>\n",
       "      <th>svar</th>\n",
       "      <th>b/m</th>\n",
       "      <th>ntis</th>\n",
       "      <th>tbl</th>\n",
       "      <th>lty</th>\n",
       "      <th>ltr</th>\n",
       "      <th>TMS</th>\n",
       "      <th>DFR</th>\n",
       "      <th>DFY</th>\n",
       "      <th>infl</th>\n",
       "    </tr>\n",
       "    <tr>\n",
       "      <th>time</th>\n",
       "      <th></th>\n",
       "      <th></th>\n",
       "      <th></th>\n",
       "      <th></th>\n",
       "      <th></th>\n",
       "      <th></th>\n",
       "      <th></th>\n",
       "      <th></th>\n",
       "      <th></th>\n",
       "      <th></th>\n",
       "      <th></th>\n",
       "      <th></th>\n",
       "      <th></th>\n",
       "      <th></th>\n",
       "      <th></th>\n",
       "    </tr>\n",
       "  </thead>\n",
       "  <tbody>\n",
       "    <tr>\n",
       "      <th>1927-01-01</th>\n",
       "      <td>-0.005469</td>\n",
       "      <td>-2.942374</td>\n",
       "      <td>-2.963349</td>\n",
       "      <td>-2.374773</td>\n",
       "      <td>-0.567601</td>\n",
       "      <td>0.000470</td>\n",
       "      <td>0.443706</td>\n",
       "      <td>0.050833</td>\n",
       "      <td>0.0307</td>\n",
       "      <td>0.0351</td>\n",
       "      <td>0.0075</td>\n",
       "      <td>0.0044</td>\n",
       "      <td>-0.0019</td>\n",
       "      <td>0.0095</td>\n",
       "      <td>-0.011299</td>\n",
       "    </tr>\n",
       "    <tr>\n",
       "      <th>1927-02-01</th>\n",
       "      <td>0.041828</td>\n",
       "      <td>-2.979535</td>\n",
       "      <td>-2.932946</td>\n",
       "      <td>-2.430353</td>\n",
       "      <td>-0.549182</td>\n",
       "      <td>0.000287</td>\n",
       "      <td>0.428501</td>\n",
       "      <td>0.051681</td>\n",
       "      <td>0.0323</td>\n",
       "      <td>0.0347</td>\n",
       "      <td>0.0088</td>\n",
       "      <td>0.0024</td>\n",
       "      <td>-0.0019</td>\n",
       "      <td>0.0092</td>\n",
       "      <td>-0.005714</td>\n",
       "    </tr>\n",
       "    <tr>\n",
       "      <th>1927-03-01</th>\n",
       "      <td>0.004559</td>\n",
       "      <td>-2.976535</td>\n",
       "      <td>-2.970053</td>\n",
       "      <td>-2.445079</td>\n",
       "      <td>-0.531456</td>\n",
       "      <td>0.000924</td>\n",
       "      <td>0.469765</td>\n",
       "      <td>0.046370</td>\n",
       "      <td>0.0329</td>\n",
       "      <td>0.0331</td>\n",
       "      <td>0.0253</td>\n",
       "      <td>0.0002</td>\n",
       "      <td>-0.0170</td>\n",
       "      <td>0.0092</td>\n",
       "      <td>-0.005747</td>\n",
       "    </tr>\n",
       "    <tr>\n",
       "      <th>1927-04-01</th>\n",
       "      <td>0.010274</td>\n",
       "      <td>-2.984225</td>\n",
       "      <td>-2.967143</td>\n",
       "      <td>-2.471309</td>\n",
       "      <td>-0.512916</td>\n",
       "      <td>0.000603</td>\n",
       "      <td>0.456754</td>\n",
       "      <td>0.050518</td>\n",
       "      <td>0.0320</td>\n",
       "      <td>0.0333</td>\n",
       "      <td>-0.0005</td>\n",
       "      <td>0.0013</td>\n",
       "      <td>0.0060</td>\n",
       "      <td>0.0090</td>\n",
       "      <td>0.000000</td>\n",
       "    </tr>\n",
       "    <tr>\n",
       "      <th>1927-05-01</th>\n",
       "      <td>0.057665</td>\n",
       "      <td>-3.025963</td>\n",
       "      <td>-2.975058</td>\n",
       "      <td>-2.531446</td>\n",
       "      <td>-0.494518</td>\n",
       "      <td>0.000392</td>\n",
       "      <td>0.434783</td>\n",
       "      <td>0.055279</td>\n",
       "      <td>0.0339</td>\n",
       "      <td>0.0327</td>\n",
       "      <td>0.0109</td>\n",
       "      <td>-0.0012</td>\n",
       "      <td>-0.0120</td>\n",
       "      <td>0.0093</td>\n",
       "      <td>0.005780</td>\n",
       "    </tr>\n",
       "  </tbody>\n",
       "</table>\n",
       "</div>"
      ],
      "text/plain": [
       "                 EQP        DP        DY        EP        DE      svar  \\\n",
       "time                                                                     \n",
       "1927-01-01 -0.005469 -2.942374 -2.963349 -2.374773 -0.567601  0.000470   \n",
       "1927-02-01  0.041828 -2.979535 -2.932946 -2.430353 -0.549182  0.000287   \n",
       "1927-03-01  0.004559 -2.976535 -2.970053 -2.445079 -0.531456  0.000924   \n",
       "1927-04-01  0.010274 -2.984225 -2.967143 -2.471309 -0.512916  0.000603   \n",
       "1927-05-01  0.057665 -3.025963 -2.975058 -2.531446 -0.494518  0.000392   \n",
       "\n",
       "                 b/m      ntis     tbl     lty     ltr     TMS     DFR  \\\n",
       "time                                                                     \n",
       "1927-01-01  0.443706  0.050833  0.0307  0.0351  0.0075  0.0044 -0.0019   \n",
       "1927-02-01  0.428501  0.051681  0.0323  0.0347  0.0088  0.0024 -0.0019   \n",
       "1927-03-01  0.469765  0.046370  0.0329  0.0331  0.0253  0.0002 -0.0170   \n",
       "1927-04-01  0.456754  0.050518  0.0320  0.0333 -0.0005  0.0013  0.0060   \n",
       "1927-05-01  0.434783  0.055279  0.0339  0.0327  0.0109 -0.0012 -0.0120   \n",
       "\n",
       "               DFY      infl  \n",
       "time                          \n",
       "1927-01-01  0.0095 -0.011299  \n",
       "1927-02-01  0.0092 -0.005714  \n",
       "1927-03-01  0.0092 -0.005747  \n",
       "1927-04-01  0.0090  0.000000  \n",
       "1927-05-01  0.0093  0.005780  "
      ]
     },
     "execution_count": 15,
     "metadata": {},
     "output_type": "execute_result"
    }
   ],
   "source": [
    "df.head()"
   ]
  },
  {
   "cell_type": "code",
   "execution_count": 16,
   "id": "06613a02",
   "metadata": {},
   "outputs": [],
   "source": [
    "df = df[['DP','EP','b/m','EQP']]\n",
    "X = df[['DP','EP','b/m']]\n",
    "y = df[['EQP']]"
   ]
  },
  {
   "cell_type": "code",
   "execution_count": 17,
   "id": "d86dec79",
   "metadata": {},
   "outputs": [],
   "source": [
    "X_train, X_test, y_train, y_test = dpr.data_split(df, 'EQP', \"1987-12-01\", \"2019-12-01\")"
   ]
  },
  {
   "cell_type": "code",
   "execution_count": 18,
   "id": "9409677a",
   "metadata": {},
   "outputs": [],
   "source": [
    "y = y.squeeze()"
   ]
  },
  {
   "cell_type": "code",
   "execution_count": 19,
   "id": "37fe4574",
   "metadata": {},
   "outputs": [
    {
     "data": {
      "text/plain": [
       "pandas.core.series.Series"
      ]
     },
     "execution_count": 19,
     "metadata": {},
     "output_type": "execute_result"
    }
   ],
   "source": [
    "type(y)"
   ]
  },
  {
   "cell_type": "code",
   "execution_count": 20,
   "id": "c5fb9039",
   "metadata": {},
   "outputs": [],
   "source": [
    "val_length = 1\n",
    "test_length = 32\n",
    "step = 1\n",
    "cv_outer = TimeSeriesSplit(gap=0, max_train_size=None, n_splits=12 * test_length, test_size=step)\n",
    "cv_inner = TimeSeriesSplit(gap=0, max_train_size=None, n_splits=12 * val_length, test_size=step)"
   ]
  },
  {
   "cell_type": "code",
   "execution_count": 21,
   "id": "26da6b90",
   "metadata": {},
   "outputs": [],
   "source": [
    "cls = CLS_Estimator(obj_func = sin_func, x0 = [0.001]*4, constraints = constraint_func(X_train))"
   ]
  },
  {
   "cell_type": "code",
   "execution_count": 22,
   "id": "ef373fb5",
   "metadata": {},
   "outputs": [
    {
     "data": {
      "text/plain": [
       "CLS_Estimator(constraints={'fun': <function constraint_func.<locals>.constraint at 0x0000019754401D08>,\n",
       "                           'type': 'eq'},\n",
       "              obj_func=<function sin_func at 0x0000019752E976A8>,\n",
       "              x0=[0.001, 0.001, 0.001, 0.001])"
      ]
     },
     "execution_count": 22,
     "metadata": {},
     "output_type": "execute_result"
    }
   ],
   "source": [
    "cls.fit(X,y)"
   ]
  },
  {
   "cell_type": "code",
   "execution_count": 23,
   "id": "e0819e73",
   "metadata": {},
   "outputs": [
    {
     "name": "stdout",
     "output_type": "stream",
     "text": [
      "[-0.40727032 -0.10465808  0.90729134 -2.16980752]\n"
     ]
    }
   ],
   "source": [
    "print(cls.params_)"
   ]
  },
  {
   "cell_type": "code",
   "execution_count": 24,
   "id": "72fb77e8",
   "metadata": {},
   "outputs": [],
   "source": [
    "space = dict()\n",
    "space['constraints'] = [(), constraint_func(X_train)]"
   ]
  },
  {
   "cell_type": "code",
   "execution_count": 25,
   "id": "873ef119",
   "metadata": {
    "scrolled": true
   },
   "outputs": [],
   "source": [
    "# models, model_pred, model_mse = mr.Nested_CV(X = X, y = y, model = cls, \n",
    "#                                              cv_inner = cv_inner, cv_outer = cv_outer, \n",
    "#                                              search_method = 'Grid', space = space)"
   ]
  },
  {
   "cell_type": "code",
   "execution_count": 26,
   "id": "eb44142e",
   "metadata": {},
   "outputs": [],
   "source": [
    "# val_length = 1\n",
    "# test_length = 32\n",
    "# step = 3\n",
    "# cv_outer = TimeSeriesSplit(gap=0, max_train_size=None, n_splits=int((12/step) * test_length), test_size=step)\n",
    "# cv_inner = TimeSeriesSplit(gap=0, max_train_size=None, n_splits=int((12/step) * val_length), test_size=step)"
   ]
  },
  {
   "cell_type": "code",
   "execution_count": 27,
   "id": "f6b13b03",
   "metadata": {},
   "outputs": [],
   "source": [
    "# for train_index, test_index in cv_outer.split(X):\n",
    "#     X_train, X_test = X.iloc[train_index, :], X.iloc[test_index, :]\n",
    "#     y_train, y_test = y.iloc[train_index], y.iloc[test_index]\n",
    "#     print(\"outer\",train_index[-1:], test_index)\n",
    "    \n",
    "#     for train_inner, test_inner in cv_inner.split(X_train):\n",
    "#         print(train_inner[-1:], test_inner)"
   ]
  },
  {
   "cell_type": "code",
   "execution_count": null,
   "id": "1526f46b",
   "metadata": {},
   "outputs": [],
   "source": []
  },
  {
   "cell_type": "code",
   "execution_count": null,
   "id": "e18ef252",
   "metadata": {},
   "outputs": [],
   "source": []
  }
 ],
 "metadata": {
  "kernelspec": {
   "display_name": "Python 3",
   "language": "python",
   "name": "python3"
  },
  "language_info": {
   "codemirror_mode": {
    "name": "ipython",
    "version": 3
   },
   "file_extension": ".py",
   "mimetype": "text/x-python",
   "name": "python",
   "nbconvert_exporter": "python",
   "pygments_lexer": "ipython3",
   "version": "3.7.3"
  }
 },
 "nbformat": 4,
 "nbformat_minor": 5
}
