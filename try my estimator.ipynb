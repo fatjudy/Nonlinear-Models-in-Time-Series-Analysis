{
 "cells": [
  {
   "cell_type": "code",
   "execution_count": 1,
   "id": "846755cc",
   "metadata": {},
   "outputs": [],
   "source": [
    "import numpy as np\n",
    "import pandas as pd\n",
    "\n",
    "from scipy.optimize import minimize"
   ]
  },
  {
   "cell_type": "markdown",
   "id": "59ca91cb",
   "metadata": {},
   "source": [
    "## Try my estimator"
   ]
  },
  {
   "cell_type": "markdown",
   "id": "581846c2",
   "metadata": {},
   "source": [
    "## load data"
   ]
  },
  {
   "cell_type": "code",
   "execution_count": 226,
   "id": "90b58b62",
   "metadata": {},
   "outputs": [],
   "source": [
    "x = pd.read_excel('data/EQP_Monthly.xlsx')\n",
    "x1 = x[['DP', 'EP', 'b/m']]\n",
    "y = x['EQP']"
   ]
  },
  {
   "cell_type": "code",
   "execution_count": 227,
   "id": "518735cb",
   "metadata": {},
   "outputs": [
    {
     "data": {
      "text/html": [
       "<div>\n",
       "<style scoped>\n",
       "    .dataframe tbody tr th:only-of-type {\n",
       "        vertical-align: middle;\n",
       "    }\n",
       "\n",
       "    .dataframe tbody tr th {\n",
       "        vertical-align: top;\n",
       "    }\n",
       "\n",
       "    .dataframe thead th {\n",
       "        text-align: right;\n",
       "    }\n",
       "</style>\n",
       "<table border=\"1\" class=\"dataframe\">\n",
       "  <thead>\n",
       "    <tr style=\"text-align: right;\">\n",
       "      <th></th>\n",
       "      <th>DP</th>\n",
       "      <th>EP</th>\n",
       "      <th>b/m</th>\n",
       "    </tr>\n",
       "  </thead>\n",
       "  <tbody>\n",
       "    <tr>\n",
       "      <th>0</th>\n",
       "      <td>-2.942374</td>\n",
       "      <td>-2.374773</td>\n",
       "      <td>0.443706</td>\n",
       "    </tr>\n",
       "    <tr>\n",
       "      <th>1</th>\n",
       "      <td>-2.979535</td>\n",
       "      <td>-2.430353</td>\n",
       "      <td>0.428501</td>\n",
       "    </tr>\n",
       "    <tr>\n",
       "      <th>2</th>\n",
       "      <td>-2.976535</td>\n",
       "      <td>-2.445079</td>\n",
       "      <td>0.469765</td>\n",
       "    </tr>\n",
       "    <tr>\n",
       "      <th>3</th>\n",
       "      <td>-2.984225</td>\n",
       "      <td>-2.471309</td>\n",
       "      <td>0.456754</td>\n",
       "    </tr>\n",
       "    <tr>\n",
       "      <th>4</th>\n",
       "      <td>-3.025963</td>\n",
       "      <td>-2.531446</td>\n",
       "      <td>0.434783</td>\n",
       "    </tr>\n",
       "  </tbody>\n",
       "</table>\n",
       "</div>"
      ],
      "text/plain": [
       "         DP        EP       b/m\n",
       "0 -2.942374 -2.374773  0.443706\n",
       "1 -2.979535 -2.430353  0.428501\n",
       "2 -2.976535 -2.445079  0.469765\n",
       "3 -2.984225 -2.471309  0.456754\n",
       "4 -3.025963 -2.531446  0.434783"
      ]
     },
     "execution_count": 227,
     "metadata": {},
     "output_type": "execute_result"
    }
   ],
   "source": [
    "x1.head()"
   ]
  },
  {
   "cell_type": "code",
   "execution_count": 228,
   "id": "f53f5936",
   "metadata": {},
   "outputs": [
    {
     "data": {
      "text/plain": [
       "0   -0.005469\n",
       "1    0.041828\n",
       "2    0.004559\n",
       "3    0.010274\n",
       "4    0.057665\n",
       "Name: EQP, dtype: float64"
      ]
     },
     "execution_count": 228,
     "metadata": {},
     "output_type": "execute_result"
    }
   ],
   "source": [
    "y.head()"
   ]
  },
  {
   "cell_type": "markdown",
   "id": "f91a4d53",
   "metadata": {},
   "source": [
    "##  Nonlinear function with unknown parameters"
   ]
  },
  {
   "cell_type": "markdown",
   "id": "7c58c5f3",
   "metadata": {},
   "source": [
    "We define a linear combination of x with unknown parameter $\\theta$ and we call it the \"single-index\":"
   ]
  },
  {
   "cell_type": "markdown",
   "id": "de63ea5f",
   "metadata": {},
   "source": [
    "$$\n",
    "single\\_index = \\theta x^{T}\n",
    "$$"
   ]
  },
  {
   "cell_type": "markdown",
   "id": "c18115d6",
   "metadata": {},
   "source": [
    "The function below calculate the single-index and return a function with unknown parameter $\\theta$:"
   ]
  },
  {
   "cell_type": "markdown",
   "id": "4d8faa01",
   "metadata": {},
   "source": [
    "We then put this single-index into nonlinear functions. \n",
    "Take sin function as an example:\n",
    "$$\n",
    "f = sin\\left(\\left(\\theta x^{T}\\right) + \\gamma\\right)\n",
    "$$\n",
    "where $\\theta$ and $\\gamma$ are unkown parameters."
   ]
  },
  {
   "cell_type": "markdown",
   "id": "f32d5c70",
   "metadata": {},
   "source": [
    "The function below defines the above sin function and returns a function with unknow parameters $\\theta$\n",
    "and $\\gamma$:"
   ]
  },
  {
   "cell_type": "markdown",
   "id": "c8b38e6f",
   "metadata": {},
   "source": [
    "## Construct loss function\n",
    "Loss function is defined as the sum of squared errors:\n",
    "$$\n",
    "Loss = \\sum\\left(y-sin\\left(\\left(\\theta x^{T}\\right) + \\gamma\\right)\\right)^2\n",
    "$$"
   ]
  },
  {
   "cell_type": "markdown",
   "id": "6c7bd498",
   "metadata": {},
   "source": [
    "The loss function below returns a function with unknow parameters $\\theta$ and $\\gamma$:"
   ]
  },
  {
   "cell_type": "markdown",
   "id": "8cf4b6c2",
   "metadata": {},
   "source": [
    "## run the minimizer:\n",
    "We minimize the loss function and get a estimate of $\\theta$ and $\\gamma$"
   ]
  },
  {
   "cell_type": "markdown",
   "id": "6e03f14e",
   "metadata": {},
   "source": [
    "## Using BaseEstimator:"
   ]
  },
  {
   "cell_type": "code",
   "execution_count": 8,
   "id": "0addd75d",
   "metadata": {},
   "outputs": [],
   "source": [
    "from sklearn.base import BaseEstimator\n",
    "from sklearn.base import RegressorMixin\n",
    "from sklearn.utils.validation import check_X_y, check_array, check_is_fitted"
   ]
  },
  {
   "cell_type": "code",
   "execution_count": 219,
   "id": "4488c822",
   "metadata": {},
   "outputs": [],
   "source": [
    "def single_index(x):\n",
    "    if isinstance(x, (pd.DataFrame, np.ndarray)):\n",
    "        if isinstance(x,pd.DataFrame):\n",
    "            x_values = x.values\n",
    "        else:\n",
    "            pass\n",
    "    else:\n",
    "        raise Exception('wrong type')\n",
    "\n",
    "    def u(theta):\n",
    "        if len(theta) == x_values.shape[1]:\n",
    "            sum_up = [x_values[:,i]*theta[i] for i in range(x_values.shape[1])]\n",
    "            index = np.sum(sum_up, axis = 0)\n",
    "        else:\n",
    "            raise Exception('wrong parameter dimension')\n",
    "        return index\n",
    "    return u\n",
    "    \n",
    "class CLS_Estimator(BaseEstimator, RegressorMixin):\n",
    "\n",
    "    \n",
    "    def __init__(self, obj_func=None, x0=0, method='SLSQP', constraints = ()):\n",
    "        self.obj_func = obj_func\n",
    "        self.x0 = x0\n",
    "        self.method = method\n",
    "        self.constraints = constraints\n",
    "        self.params_ = None\n",
    "        \n",
    "    def constraint_func(self, x):\n",
    "        def constraint(params):\n",
    "            con = 0\n",
    "            for j in np.arange(0, x1.shape[1]):\n",
    "                con += params[j]**2\n",
    "                cons = con - 1\n",
    "            return cons\n",
    "        return {'type':'eq', 'fun': constraint}\n",
    "\n",
    "    def loss(self, x, y):\n",
    "        def loss_func(params):\n",
    "            error = np.sum((y - self.obj_func(x)(params)) ** 2)\n",
    "            return error\n",
    "        return loss_func\n",
    "    \n",
    "    def fit(self, x, y):\n",
    "        self._train_data = x\n",
    "        self._train_target = y\n",
    "\n",
    "        res = minimize(\n",
    "            self.loss(x,y),\n",
    "            x0 = self.x0,\n",
    "            method = self.method,\n",
    "            constraints = self.constraints\n",
    "        )\n",
    "\n",
    "#         res = self.optimizer\n",
    "        if res.success:\n",
    "            self.params_ = res.x\n",
    "        return self\n",
    "    \n",
    "    def predict(self, X):\n",
    "        self.yhat=self.obj_func(X)(self.params_)\n",
    "        return self.yhat"
   ]
  },
  {
   "cell_type": "code",
   "execution_count": 220,
   "id": "407e13b4",
   "metadata": {},
   "outputs": [],
   "source": [
    "def sin_func(x):\n",
    "    def objective_func(params):\n",
    "        func = np.sin(single_index(x)(params[0:x.shape[1]])+params[x.shape[1]])\n",
    "        return func\n",
    "    return objective_func"
   ]
  },
  {
   "cell_type": "code",
   "execution_count": 221,
   "id": "33ca9faa",
   "metadata": {},
   "outputs": [],
   "source": [
    "def constraint_func(x):\n",
    "    def constraint(params):\n",
    "        con = 0\n",
    "        for j in np.arange(0, x1.shape[1]):\n",
    "            con += params[j]**2\n",
    "            cons = con - 1\n",
    "        return cons\n",
    "    return {'type':'eq', 'fun': constraint}"
   ]
  },
  {
   "cell_type": "code",
   "execution_count": 222,
   "id": "c6814118",
   "metadata": {},
   "outputs": [],
   "source": [
    "cls = CLS_Estimator(obj_func = sin_func, x0 = [0.001]*4)"
   ]
  },
  {
   "cell_type": "code",
   "execution_count": 223,
   "id": "525ab7db",
   "metadata": {},
   "outputs": [
    {
     "data": {
      "text/plain": [
       "CLS_Estimator(obj_func=<function sin_func at 0x000001AB0B16ED90>,\n",
       "              x0=[0.001, 0.001, 0.001, 0.001])"
      ]
     },
     "execution_count": 223,
     "metadata": {},
     "output_type": "execute_result"
    }
   ],
   "source": [
    "cls.fit(x1,y_train)"
   ]
  },
  {
   "cell_type": "code",
   "execution_count": 224,
   "id": "1071cfae",
   "metadata": {},
   "outputs": [],
   "source": [
    "yhat = cls.predict(x1[-1:])"
   ]
  },
  {
   "cell_type": "code",
   "execution_count": 225,
   "id": "49d1a857",
   "metadata": {},
   "outputs": [
    {
     "data": {
      "text/plain": [
       "array([0.01107173])"
      ]
     },
     "execution_count": 225,
     "metadata": {},
     "output_type": "execute_result"
    }
   ],
   "source": [
    "yhat"
   ]
  },
  {
   "cell_type": "code",
   "execution_count": 230,
   "id": "eac0c5c8",
   "metadata": {},
   "outputs": [],
   "source": [
    "import DataPreparation as dpr\n",
    "import ModelRun as mr\n",
    "\n",
    "from sklearn.model_selection import TimeSeriesSplit"
   ]
  },
  {
   "cell_type": "code",
   "execution_count": 248,
   "id": "4fb7a17e",
   "metadata": {},
   "outputs": [],
   "source": [
    "df = dpr.read_data('EQP_Monthly')\n",
    "df = dpr.data_clean(df, '1927-01-01')"
   ]
  },
  {
   "cell_type": "code",
   "execution_count": 249,
   "id": "6089d6ae",
   "metadata": {},
   "outputs": [
    {
     "data": {
      "text/html": [
       "<div>\n",
       "<style scoped>\n",
       "    .dataframe tbody tr th:only-of-type {\n",
       "        vertical-align: middle;\n",
       "    }\n",
       "\n",
       "    .dataframe tbody tr th {\n",
       "        vertical-align: top;\n",
       "    }\n",
       "\n",
       "    .dataframe thead th {\n",
       "        text-align: right;\n",
       "    }\n",
       "</style>\n",
       "<table border=\"1\" class=\"dataframe\">\n",
       "  <thead>\n",
       "    <tr style=\"text-align: right;\">\n",
       "      <th></th>\n",
       "      <th>EQP</th>\n",
       "      <th>DP</th>\n",
       "      <th>DY</th>\n",
       "      <th>EP</th>\n",
       "      <th>DE</th>\n",
       "      <th>svar</th>\n",
       "      <th>b/m</th>\n",
       "      <th>ntis</th>\n",
       "      <th>tbl</th>\n",
       "      <th>lty</th>\n",
       "      <th>ltr</th>\n",
       "      <th>TMS</th>\n",
       "      <th>DFR</th>\n",
       "      <th>DFY</th>\n",
       "      <th>infl</th>\n",
       "    </tr>\n",
       "    <tr>\n",
       "      <th>time</th>\n",
       "      <th></th>\n",
       "      <th></th>\n",
       "      <th></th>\n",
       "      <th></th>\n",
       "      <th></th>\n",
       "      <th></th>\n",
       "      <th></th>\n",
       "      <th></th>\n",
       "      <th></th>\n",
       "      <th></th>\n",
       "      <th></th>\n",
       "      <th></th>\n",
       "      <th></th>\n",
       "      <th></th>\n",
       "      <th></th>\n",
       "    </tr>\n",
       "  </thead>\n",
       "  <tbody>\n",
       "    <tr>\n",
       "      <th>1927-01-01</th>\n",
       "      <td>-0.005469</td>\n",
       "      <td>-2.942374</td>\n",
       "      <td>-2.963349</td>\n",
       "      <td>-2.374773</td>\n",
       "      <td>-0.567601</td>\n",
       "      <td>0.000470</td>\n",
       "      <td>0.443706</td>\n",
       "      <td>0.050833</td>\n",
       "      <td>0.0307</td>\n",
       "      <td>0.0351</td>\n",
       "      <td>0.0075</td>\n",
       "      <td>0.0044</td>\n",
       "      <td>-0.0019</td>\n",
       "      <td>0.0095</td>\n",
       "      <td>-0.011299</td>\n",
       "    </tr>\n",
       "    <tr>\n",
       "      <th>1927-02-01</th>\n",
       "      <td>0.041828</td>\n",
       "      <td>-2.979535</td>\n",
       "      <td>-2.932946</td>\n",
       "      <td>-2.430353</td>\n",
       "      <td>-0.549182</td>\n",
       "      <td>0.000287</td>\n",
       "      <td>0.428501</td>\n",
       "      <td>0.051681</td>\n",
       "      <td>0.0323</td>\n",
       "      <td>0.0347</td>\n",
       "      <td>0.0088</td>\n",
       "      <td>0.0024</td>\n",
       "      <td>-0.0019</td>\n",
       "      <td>0.0092</td>\n",
       "      <td>-0.005714</td>\n",
       "    </tr>\n",
       "    <tr>\n",
       "      <th>1927-03-01</th>\n",
       "      <td>0.004559</td>\n",
       "      <td>-2.976535</td>\n",
       "      <td>-2.970053</td>\n",
       "      <td>-2.445079</td>\n",
       "      <td>-0.531456</td>\n",
       "      <td>0.000924</td>\n",
       "      <td>0.469765</td>\n",
       "      <td>0.046370</td>\n",
       "      <td>0.0329</td>\n",
       "      <td>0.0331</td>\n",
       "      <td>0.0253</td>\n",
       "      <td>0.0002</td>\n",
       "      <td>-0.0170</td>\n",
       "      <td>0.0092</td>\n",
       "      <td>-0.005747</td>\n",
       "    </tr>\n",
       "    <tr>\n",
       "      <th>1927-04-01</th>\n",
       "      <td>0.010274</td>\n",
       "      <td>-2.984225</td>\n",
       "      <td>-2.967143</td>\n",
       "      <td>-2.471309</td>\n",
       "      <td>-0.512916</td>\n",
       "      <td>0.000603</td>\n",
       "      <td>0.456754</td>\n",
       "      <td>0.050518</td>\n",
       "      <td>0.0320</td>\n",
       "      <td>0.0333</td>\n",
       "      <td>-0.0005</td>\n",
       "      <td>0.0013</td>\n",
       "      <td>0.0060</td>\n",
       "      <td>0.0090</td>\n",
       "      <td>0.000000</td>\n",
       "    </tr>\n",
       "    <tr>\n",
       "      <th>1927-05-01</th>\n",
       "      <td>0.057665</td>\n",
       "      <td>-3.025963</td>\n",
       "      <td>-2.975058</td>\n",
       "      <td>-2.531446</td>\n",
       "      <td>-0.494518</td>\n",
       "      <td>0.000392</td>\n",
       "      <td>0.434783</td>\n",
       "      <td>0.055279</td>\n",
       "      <td>0.0339</td>\n",
       "      <td>0.0327</td>\n",
       "      <td>0.0109</td>\n",
       "      <td>-0.0012</td>\n",
       "      <td>-0.0120</td>\n",
       "      <td>0.0093</td>\n",
       "      <td>0.005780</td>\n",
       "    </tr>\n",
       "  </tbody>\n",
       "</table>\n",
       "</div>"
      ],
      "text/plain": [
       "                 EQP        DP        DY        EP        DE      svar  \\\n",
       "time                                                                     \n",
       "1927-01-01 -0.005469 -2.942374 -2.963349 -2.374773 -0.567601  0.000470   \n",
       "1927-02-01  0.041828 -2.979535 -2.932946 -2.430353 -0.549182  0.000287   \n",
       "1927-03-01  0.004559 -2.976535 -2.970053 -2.445079 -0.531456  0.000924   \n",
       "1927-04-01  0.010274 -2.984225 -2.967143 -2.471309 -0.512916  0.000603   \n",
       "1927-05-01  0.057665 -3.025963 -2.975058 -2.531446 -0.494518  0.000392   \n",
       "\n",
       "                 b/m      ntis     tbl     lty     ltr     TMS     DFR  \\\n",
       "time                                                                     \n",
       "1927-01-01  0.443706  0.050833  0.0307  0.0351  0.0075  0.0044 -0.0019   \n",
       "1927-02-01  0.428501  0.051681  0.0323  0.0347  0.0088  0.0024 -0.0019   \n",
       "1927-03-01  0.469765  0.046370  0.0329  0.0331  0.0253  0.0002 -0.0170   \n",
       "1927-04-01  0.456754  0.050518  0.0320  0.0333 -0.0005  0.0013  0.0060   \n",
       "1927-05-01  0.434783  0.055279  0.0339  0.0327  0.0109 -0.0012 -0.0120   \n",
       "\n",
       "               DFY      infl  \n",
       "time                          \n",
       "1927-01-01  0.0095 -0.011299  \n",
       "1927-02-01  0.0092 -0.005714  \n",
       "1927-03-01  0.0092 -0.005747  \n",
       "1927-04-01  0.0090  0.000000  \n",
       "1927-05-01  0.0093  0.005780  "
      ]
     },
     "execution_count": 249,
     "metadata": {},
     "output_type": "execute_result"
    }
   ],
   "source": [
    "df.head()"
   ]
  },
  {
   "cell_type": "code",
   "execution_count": 250,
   "id": "2384f876",
   "metadata": {},
   "outputs": [],
   "source": [
    "df = df[['DP','EP','b/m','EQP']]"
   ]
  },
  {
   "cell_type": "code",
   "execution_count": 251,
   "id": "d00d3e3e",
   "metadata": {},
   "outputs": [],
   "source": [
    "X_train, X_test, y_train, y_test = dpr.data_split(df, 'EQP', \"1987-12-01\", \"2019-12-01\")"
   ]
  },
  {
   "cell_type": "code",
   "execution_count": 253,
   "id": "186f98da",
   "metadata": {},
   "outputs": [
    {
     "data": {
      "text/html": [
       "<div>\n",
       "<style scoped>\n",
       "    .dataframe tbody tr th:only-of-type {\n",
       "        vertical-align: middle;\n",
       "    }\n",
       "\n",
       "    .dataframe tbody tr th {\n",
       "        vertical-align: top;\n",
       "    }\n",
       "\n",
       "    .dataframe thead th {\n",
       "        text-align: right;\n",
       "    }\n",
       "</style>\n",
       "<table border=\"1\" class=\"dataframe\">\n",
       "  <thead>\n",
       "    <tr style=\"text-align: right;\">\n",
       "      <th></th>\n",
       "      <th>DP</th>\n",
       "      <th>EP</th>\n",
       "      <th>b/m</th>\n",
       "    </tr>\n",
       "    <tr>\n",
       "      <th>time</th>\n",
       "      <th></th>\n",
       "      <th></th>\n",
       "      <th></th>\n",
       "    </tr>\n",
       "  </thead>\n",
       "  <tbody>\n",
       "    <tr>\n",
       "      <th>1927-01-01</th>\n",
       "      <td>-2.942374</td>\n",
       "      <td>-2.374773</td>\n",
       "      <td>0.443706</td>\n",
       "    </tr>\n",
       "    <tr>\n",
       "      <th>1927-02-01</th>\n",
       "      <td>-2.979535</td>\n",
       "      <td>-2.430353</td>\n",
       "      <td>0.428501</td>\n",
       "    </tr>\n",
       "    <tr>\n",
       "      <th>1927-03-01</th>\n",
       "      <td>-2.976535</td>\n",
       "      <td>-2.445079</td>\n",
       "      <td>0.469765</td>\n",
       "    </tr>\n",
       "  </tbody>\n",
       "</table>\n",
       "</div>"
      ],
      "text/plain": [
       "                  DP        EP       b/m\n",
       "time                                    \n",
       "1927-01-01 -2.942374 -2.374773  0.443706\n",
       "1927-02-01 -2.979535 -2.430353  0.428501\n",
       "1927-03-01 -2.976535 -2.445079  0.469765"
      ]
     },
     "execution_count": 253,
     "metadata": {},
     "output_type": "execute_result"
    }
   ],
   "source": [
    "X_train.head(3)"
   ]
  },
  {
   "cell_type": "code",
   "execution_count": 243,
   "id": "1481d926",
   "metadata": {},
   "outputs": [],
   "source": [
    "val_length = 1\n",
    "test_length = 32\n",
    "step = 1\n",
    "cv_outer = TimeSeriesSplit(gap=0, max_train_size=None, n_splits=12 * test_length, test_size=step)\n",
    "cv_inner = TimeSeriesSplit(gap=0, max_train_size=None, n_splits=12 * val_length, test_size=step)"
   ]
  },
  {
   "cell_type": "code",
   "execution_count": 262,
   "id": "faf432e4",
   "metadata": {},
   "outputs": [],
   "source": [
    "cls = CLS_Estimator(obj_func = sin_func, x0 = [0.001]*4)"
   ]
  },
  {
   "cell_type": "code",
   "execution_count": 263,
   "id": "0700c4ff",
   "metadata": {},
   "outputs": [
    {
     "data": {
      "text/plain": [
       "CLS_Estimator(obj_func=<function sin_func at 0x000001AB0B16ED90>,\n",
       "              x0=[0.001, 0.001, 0.001, 0.001])"
      ]
     },
     "execution_count": 263,
     "metadata": {},
     "output_type": "execute_result"
    }
   ],
   "source": [
    "cls.fit(X_train,y_train)"
   ]
  },
  {
   "cell_type": "code",
   "execution_count": 267,
   "id": "b14b5316",
   "metadata": {},
   "outputs": [],
   "source": [
    "space = dict()\n",
    "space['constraints'] = [constraint_func(X_train)]"
   ]
  },
  {
   "cell_type": "code",
   "execution_count": 269,
   "id": "d17e06ca",
   "metadata": {},
   "outputs": [
    {
     "name": "stdout",
     "output_type": "stream",
     "text": [
      "mse=0.0066, best=-0.0210, cfg={'constraints': {'type': 'eq', 'fun': <function constraint_func.<locals>.constraint at 0x000001AB0C712E18>}}\n",
      "mse=0.0233, best=-0.0207, cfg={'constraints': {'type': 'eq', 'fun': <function constraint_func.<locals>.constraint at 0x000001AB0C712E18>}}\n",
      "mse=0.0441, best=-0.0219, cfg={'constraints': {'type': 'eq', 'fun': <function constraint_func.<locals>.constraint at 0x000001AB0C712E18>}}\n",
      "mse=0.0155, best=-0.0249, cfg={'constraints': {'type': 'eq', 'fun': <function constraint_func.<locals>.constraint at 0x000001AB0C712E18>}}\n",
      "mse=0.0023, best=-0.0246, cfg={'constraints': {'type': 'eq', 'fun': <function constraint_func.<locals>.constraint at 0x000001AB0C712E18>}}\n",
      "mse=0.0201, best=-0.0237, cfg={'constraints': {'type': 'eq', 'fun': <function constraint_func.<locals>.constraint at 0x000001AB0C712E18>}}\n",
      "mse=0.0227, best=-0.0220, cfg={'constraints': {'type': 'eq', 'fun': <function constraint_func.<locals>.constraint at 0x000001AB0C712E18>}}\n",
      "mse=0.0026, best=-0.0207, cfg={'constraints': {'type': 'eq', 'fun': <function constraint_func.<locals>.constraint at 0x000001AB0C712E18>}}\n",
      "mse=0.0008, best=-0.0196, cfg={'constraints': {'type': 'eq', 'fun': <function constraint_func.<locals>.constraint at 0x000001AB0C712E18>}}\n",
      "mse=0.0081, best=-0.0179, cfg={'constraints': {'type': 'eq', 'fun': <function constraint_func.<locals>.constraint at 0x000001AB0C712E18>}}\n",
      "mse=0.0087, best=-0.0179, cfg={'constraints': {'type': 'eq', 'fun': <function constraint_func.<locals>.constraint at 0x000001AB0C712E18>}}\n",
      "mse=0.0192, best=-0.0144, cfg={'constraints': {'type': 'eq', 'fun': <function constraint_func.<locals>.constraint at 0x000001AB0C712E18>}}\n",
      "mse=0.0033, best=-0.0145, cfg={'constraints': {'type': 'eq', 'fun': <function constraint_func.<locals>.constraint at 0x000001AB0C712E18>}}"
     ]
    },
    {
     "ename": "KeyboardInterrupt",
     "evalue": "",
     "output_type": "error",
     "traceback": [
      "\u001b[1;31m---------------------------------------------------------------------------\u001b[0m",
      "\u001b[1;31mKeyboardInterrupt\u001b[0m                         Traceback (most recent call last)",
      "\u001b[1;32m<ipython-input-269-9d34d194955f>\u001b[0m in \u001b[0;36m<module>\u001b[1;34m\u001b[0m\n\u001b[1;32m----> 1\u001b[1;33m \u001b[0mmodels\u001b[0m\u001b[1;33m,\u001b[0m \u001b[0mmodel_pred\u001b[0m\u001b[1;33m,\u001b[0m \u001b[0mmodel_mse\u001b[0m \u001b[1;33m=\u001b[0m \u001b[0mmr\u001b[0m\u001b[1;33m.\u001b[0m\u001b[0mNested_CV\u001b[0m\u001b[1;33m(\u001b[0m\u001b[0mX\u001b[0m \u001b[1;33m=\u001b[0m \u001b[0mX_train\u001b[0m\u001b[1;33m,\u001b[0m \u001b[0my\u001b[0m \u001b[1;33m=\u001b[0m \u001b[0my_train\u001b[0m\u001b[1;33m,\u001b[0m \u001b[0mmodel\u001b[0m \u001b[1;33m=\u001b[0m \u001b[0mcls\u001b[0m\u001b[1;33m,\u001b[0m \u001b[0mcv_inner\u001b[0m \u001b[1;33m=\u001b[0m \u001b[0mcv_inner\u001b[0m\u001b[1;33m,\u001b[0m \u001b[0mcv_outer\u001b[0m \u001b[1;33m=\u001b[0m \u001b[0mcv_outer\u001b[0m\u001b[1;33m,\u001b[0m \u001b[0msearch_method\u001b[0m \u001b[1;33m=\u001b[0m \u001b[1;34m'Grid'\u001b[0m\u001b[1;33m,\u001b[0m \u001b[0mspace\u001b[0m \u001b[1;33m=\u001b[0m \u001b[0mspace\u001b[0m\u001b[1;33m)\u001b[0m\u001b[1;33m\u001b[0m\u001b[1;33m\u001b[0m\u001b[0m\n\u001b[0m",
      "\u001b[1;32m~\\Nonlinear Models in Time Series Analysis\\ModelRun.py\u001b[0m in \u001b[0;36mNested_CV\u001b[1;34m(X, y, model, cv_inner, cv_outer, search_method, space)\u001b[0m\n\u001b[0;32m     50\u001b[0m         \u001b[0mmse\u001b[0m \u001b[1;33m=\u001b[0m \u001b[0mmean_squared_error\u001b[0m\u001b[1;33m(\u001b[0m\u001b[0my_test\u001b[0m\u001b[1;33m,\u001b[0m \u001b[0myhat\u001b[0m\u001b[1;33m)\u001b[0m\u001b[1;33m\u001b[0m\u001b[1;33m\u001b[0m\u001b[0m\n\u001b[0;32m     51\u001b[0m         \u001b[0mmse_list\u001b[0m\u001b[1;33m.\u001b[0m\u001b[0mappend\u001b[0m\u001b[1;33m(\u001b[0m\u001b[0mmse\u001b[0m\u001b[1;33m)\u001b[0m\u001b[1;33m\u001b[0m\u001b[1;33m\u001b[0m\u001b[0m\n\u001b[1;32m---> 52\u001b[1;33m         \u001b[0mprint\u001b[0m\u001b[1;33m(\u001b[0m\u001b[1;34m'mse=%.4f, best=%.4f, cfg=%s'\u001b[0m \u001b[1;33m%\u001b[0m \u001b[1;33m(\u001b[0m\u001b[0mmse\u001b[0m\u001b[1;33m,\u001b[0m \u001b[0mresult\u001b[0m\u001b[1;33m.\u001b[0m\u001b[0mbest_score_\u001b[0m\u001b[1;33m,\u001b[0m \u001b[0mresult\u001b[0m\u001b[1;33m.\u001b[0m\u001b[0mbest_params_\u001b[0m\u001b[1;33m)\u001b[0m\u001b[1;33m)\u001b[0m\u001b[1;33m\u001b[0m\u001b[1;33m\u001b[0m\u001b[0m\n\u001b[0m\u001b[0;32m     53\u001b[0m \u001b[1;33m\u001b[0m\u001b[0m\n\u001b[0;32m     54\u001b[0m     \u001b[1;32mreturn\u001b[0m \u001b[0mbest_models\u001b[0m\u001b[1;33m,\u001b[0m \u001b[0mprediction\u001b[0m\u001b[1;33m,\u001b[0m \u001b[0mmse_list\u001b[0m\u001b[1;33m\u001b[0m\u001b[1;33m\u001b[0m\u001b[0m\n",
      "\u001b[1;32mC:\\ProgramData\\Anaconda3\\lib\\site-packages\\ipykernel\\iostream.py\u001b[0m in \u001b[0;36mwrite\u001b[1;34m(self, string)\u001b[0m\n\u001b[0;32m    402\u001b[0m             \u001b[0mis_child\u001b[0m \u001b[1;33m=\u001b[0m \u001b[1;33m(\u001b[0m\u001b[1;32mnot\u001b[0m \u001b[0mself\u001b[0m\u001b[1;33m.\u001b[0m\u001b[0m_is_master_process\u001b[0m\u001b[1;33m(\u001b[0m\u001b[1;33m)\u001b[0m\u001b[1;33m)\u001b[0m\u001b[1;33m\u001b[0m\u001b[1;33m\u001b[0m\u001b[0m\n\u001b[0;32m    403\u001b[0m             \u001b[1;31m# only touch the buffer in the IO thread to avoid races\u001b[0m\u001b[1;33m\u001b[0m\u001b[1;33m\u001b[0m\u001b[1;33m\u001b[0m\u001b[0m\n\u001b[1;32m--> 404\u001b[1;33m             \u001b[0mself\u001b[0m\u001b[1;33m.\u001b[0m\u001b[0mpub_thread\u001b[0m\u001b[1;33m.\u001b[0m\u001b[0mschedule\u001b[0m\u001b[1;33m(\u001b[0m\u001b[1;32mlambda\u001b[0m \u001b[1;33m:\u001b[0m \u001b[0mself\u001b[0m\u001b[1;33m.\u001b[0m\u001b[0m_buffer\u001b[0m\u001b[1;33m.\u001b[0m\u001b[0mwrite\u001b[0m\u001b[1;33m(\u001b[0m\u001b[0mstring\u001b[0m\u001b[1;33m)\u001b[0m\u001b[1;33m)\u001b[0m\u001b[1;33m\u001b[0m\u001b[1;33m\u001b[0m\u001b[0m\n\u001b[0m\u001b[0;32m    405\u001b[0m             \u001b[1;32mif\u001b[0m \u001b[0mis_child\u001b[0m\u001b[1;33m:\u001b[0m\u001b[1;33m\u001b[0m\u001b[1;33m\u001b[0m\u001b[0m\n\u001b[0;32m    406\u001b[0m                 \u001b[1;31m# mp.Pool cannot be trusted to flush promptly (or ever),\u001b[0m\u001b[1;33m\u001b[0m\u001b[1;33m\u001b[0m\u001b[1;33m\u001b[0m\u001b[0m\n",
      "\u001b[1;32mC:\\ProgramData\\Anaconda3\\lib\\site-packages\\ipykernel\\iostream.py\u001b[0m in \u001b[0;36mschedule\u001b[1;34m(self, f)\u001b[0m\n\u001b[0;32m    203\u001b[0m             \u001b[0mself\u001b[0m\u001b[1;33m.\u001b[0m\u001b[0m_events\u001b[0m\u001b[1;33m.\u001b[0m\u001b[0mappend\u001b[0m\u001b[1;33m(\u001b[0m\u001b[0mf\u001b[0m\u001b[1;33m)\u001b[0m\u001b[1;33m\u001b[0m\u001b[1;33m\u001b[0m\u001b[0m\n\u001b[0;32m    204\u001b[0m             \u001b[1;31m# wake event thread (message content is ignored)\u001b[0m\u001b[1;33m\u001b[0m\u001b[1;33m\u001b[0m\u001b[1;33m\u001b[0m\u001b[0m\n\u001b[1;32m--> 205\u001b[1;33m             \u001b[0mself\u001b[0m\u001b[1;33m.\u001b[0m\u001b[0m_event_pipe\u001b[0m\u001b[1;33m.\u001b[0m\u001b[0msend\u001b[0m\u001b[1;33m(\u001b[0m\u001b[1;34mb''\u001b[0m\u001b[1;33m)\u001b[0m\u001b[1;33m\u001b[0m\u001b[1;33m\u001b[0m\u001b[0m\n\u001b[0m\u001b[0;32m    206\u001b[0m         \u001b[1;32melse\u001b[0m\u001b[1;33m:\u001b[0m\u001b[1;33m\u001b[0m\u001b[1;33m\u001b[0m\u001b[0m\n\u001b[0;32m    207\u001b[0m             \u001b[0mf\u001b[0m\u001b[1;33m(\u001b[0m\u001b[1;33m)\u001b[0m\u001b[1;33m\u001b[0m\u001b[1;33m\u001b[0m\u001b[0m\n",
      "\u001b[1;32mC:\\ProgramData\\Anaconda3\\lib\\site-packages\\zmq\\sugar\\socket.py\u001b[0m in \u001b[0;36msend\u001b[1;34m(self, data, flags, copy, track, routing_id, group)\u001b[0m\n\u001b[0;32m    489\u001b[0m                                  copy_threshold=self.copy_threshold)\n\u001b[0;32m    490\u001b[0m             \u001b[0mdata\u001b[0m\u001b[1;33m.\u001b[0m\u001b[0mgroup\u001b[0m \u001b[1;33m=\u001b[0m \u001b[0mgroup\u001b[0m\u001b[1;33m\u001b[0m\u001b[1;33m\u001b[0m\u001b[0m\n\u001b[1;32m--> 491\u001b[1;33m         \u001b[1;32mreturn\u001b[0m \u001b[0msuper\u001b[0m\u001b[1;33m(\u001b[0m\u001b[0mSocket\u001b[0m\u001b[1;33m,\u001b[0m \u001b[0mself\u001b[0m\u001b[1;33m)\u001b[0m\u001b[1;33m.\u001b[0m\u001b[0msend\u001b[0m\u001b[1;33m(\u001b[0m\u001b[0mdata\u001b[0m\u001b[1;33m,\u001b[0m \u001b[0mflags\u001b[0m\u001b[1;33m=\u001b[0m\u001b[0mflags\u001b[0m\u001b[1;33m,\u001b[0m \u001b[0mcopy\u001b[0m\u001b[1;33m=\u001b[0m\u001b[0mcopy\u001b[0m\u001b[1;33m,\u001b[0m \u001b[0mtrack\u001b[0m\u001b[1;33m=\u001b[0m\u001b[0mtrack\u001b[0m\u001b[1;33m)\u001b[0m\u001b[1;33m\u001b[0m\u001b[1;33m\u001b[0m\u001b[0m\n\u001b[0m\u001b[0;32m    492\u001b[0m \u001b[1;33m\u001b[0m\u001b[0m\n\u001b[0;32m    493\u001b[0m     \u001b[1;32mdef\u001b[0m \u001b[0msend_multipart\u001b[0m\u001b[1;33m(\u001b[0m\u001b[0mself\u001b[0m\u001b[1;33m,\u001b[0m \u001b[0mmsg_parts\u001b[0m\u001b[1;33m,\u001b[0m \u001b[0mflags\u001b[0m\u001b[1;33m=\u001b[0m\u001b[1;36m0\u001b[0m\u001b[1;33m,\u001b[0m \u001b[0mcopy\u001b[0m\u001b[1;33m=\u001b[0m\u001b[1;32mTrue\u001b[0m\u001b[1;33m,\u001b[0m \u001b[0mtrack\u001b[0m\u001b[1;33m=\u001b[0m\u001b[1;32mFalse\u001b[0m\u001b[1;33m,\u001b[0m \u001b[1;33m**\u001b[0m\u001b[0mkwargs\u001b[0m\u001b[1;33m)\u001b[0m\u001b[1;33m:\u001b[0m\u001b[1;33m\u001b[0m\u001b[1;33m\u001b[0m\u001b[0m\n",
      "\u001b[1;32mzmq/backend/cython/socket.pyx\u001b[0m in \u001b[0;36mzmq.backend.cython.socket.Socket.send\u001b[1;34m()\u001b[0m\n",
      "\u001b[1;32mzmq/backend/cython/socket.pyx\u001b[0m in \u001b[0;36mzmq.backend.cython.socket.Socket.send\u001b[1;34m()\u001b[0m\n",
      "\u001b[1;32mzmq/backend/cython/socket.pyx\u001b[0m in \u001b[0;36mzmq.backend.cython.socket._send_copy\u001b[1;34m()\u001b[0m\n",
      "\u001b[1;32mC:\\ProgramData\\Anaconda3\\lib\\site-packages\\zmq\\backend\\cython\\checkrc.pxd\u001b[0m in \u001b[0;36mzmq.backend.cython.checkrc._check_rc\u001b[1;34m()\u001b[0m\n",
      "\u001b[1;31mKeyboardInterrupt\u001b[0m: "
     ]
    }
   ],
   "source": [
    "models, model_pred, model_mse = mr.Nested_CV(X = X_train, y = y_train, model = cls, cv_inner = cv_inner, cv_outer = cv_outer, search_method = 'Grid', space = space)"
   ]
  },
  {
   "cell_type": "code",
   "execution_count": null,
   "id": "d1a41a7a",
   "metadata": {},
   "outputs": [],
   "source": []
  },
  {
   "cell_type": "code",
   "execution_count": null,
   "id": "009f046c",
   "metadata": {},
   "outputs": [],
   "source": []
  },
  {
   "cell_type": "code",
   "execution_count": null,
   "id": "6f521f19",
   "metadata": {},
   "outputs": [],
   "source": []
  },
  {
   "cell_type": "code",
   "execution_count": null,
   "id": "b3a1e78e",
   "metadata": {},
   "outputs": [],
   "source": []
  }
 ],
 "metadata": {
  "kernelspec": {
   "display_name": "Python 3",
   "language": "python",
   "name": "python3"
  },
  "language_info": {
   "codemirror_mode": {
    "name": "ipython",
    "version": 3
   },
   "file_extension": ".py",
   "mimetype": "text/x-python",
   "name": "python",
   "nbconvert_exporter": "python",
   "pygments_lexer": "ipython3",
   "version": "3.7.3"
  }
 },
 "nbformat": 4,
 "nbformat_minor": 5
}
