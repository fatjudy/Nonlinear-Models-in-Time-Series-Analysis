{
 "cells": [
  {
   "cell_type": "code",
   "execution_count": 1,
   "id": "5c86b0d7",
   "metadata": {},
   "outputs": [],
   "source": [
    "import numpy as np\n",
    "import pandas as pd\n",
    "from sklearn.linear_model import LinearRegression\n",
    "import statsmodels.api as sm \n",
    "import matplotlib.pyplot as plt\n"
   ]
  },
  {
   "cell_type": "code",
   "execution_count": null,
   "id": "0eef210e",
   "metadata": {},
   "outputs": [],
   "source": [
    "lr = LinearRegression()"
   ]
  },
  {
   "cell_type": "code",
   "execution_count": null,
   "id": "ca2ba257",
   "metadata": {},
   "outputs": [],
   "source": [
    "x.reshape(-1,1).shape"
   ]
  },
  {
   "cell_type": "code",
   "execution_count": null,
   "id": "93cba9fc",
   "metadata": {},
   "outputs": [],
   "source": [
    "x = np.random.normal(2,9,1000)\n",
    "x1 = np.random.normal(3,3,1000)\n",
    "X=np.concatenate((x.reshape(-1,1), x1.reshape(-1,1)), axis = 1)"
   ]
  },
  {
   "cell_type": "code",
   "execution_count": null,
   "id": "2e0c5ba8",
   "metadata": {},
   "outputs": [],
   "source": [
    "X"
   ]
  },
  {
   "cell_type": "code",
   "execution_count": null,
   "id": "91f7d324",
   "metadata": {},
   "outputs": [],
   "source": [
    "inter = []\n",
    "co1 = []\n",
    "t1 = []\n",
    "\n",
    "i = 0\n",
    "while i < 1000:\n",
    "    ep = np.random.standard_normal(1000)\n",
    "#     x = np.random.normal(2,9,1000)\n",
    "#     x1 = np.random.normal(3,3,1000)\n",
    "#     X=np.concatenate((x.reshape(-1,1), x1.reshape(-1,1)), axis = 1)\n",
    "    x = np.arange(1000)\n",
    "    y = 3+2*x+ep\n",
    "    X = sm.add_constant(x)\n",
    "    model = sm.OLS(y, X)\n",
    "    results = model.fit()\n",
    "    t1_ = (results.params[1]-2)/results.bse[1]\n",
    "    t1.append(t1_)\n",
    "    inter.append(results.tvalues[0])\n",
    "    co1.append(results.tvalues[1])\n",
    "#     t1.append(results.tvalues[2])\n",
    "    print(i)\n",
    "    i+=1"
   ]
  },
  {
   "cell_type": "code",
   "execution_count": null,
   "id": "59cbb2f6",
   "metadata": {},
   "outputs": [],
   "source": [
    "list_1 = [1 if np.abs(i)<1.96 else 0 for i in inter]\n",
    "list_2 = [1 if np.abs(i)<1.96 else 0 for i in co1]\n",
    "list_3 = [1 if np.abs(i)<1.96 else 0 for i in t1]"
   ]
  },
  {
   "cell_type": "code",
   "execution_count": null,
   "id": "e55a3ae9",
   "metadata": {},
   "outputs": [],
   "source": [
    "np.sum(list_1)/len(list_1)"
   ]
  },
  {
   "cell_type": "code",
   "execution_count": null,
   "id": "bda99d8e",
   "metadata": {},
   "outputs": [],
   "source": [
    "np.sum(list_2)/len(list_2)"
   ]
  },
  {
   "cell_type": "code",
   "execution_count": null,
   "id": "02e38aea",
   "metadata": {},
   "outputs": [],
   "source": [
    "np.sum(list_3)/len(list_2)"
   ]
  },
  {
   "cell_type": "code",
   "execution_count": null,
   "id": "5e7c5382",
   "metadata": {},
   "outputs": [],
   "source": [
    "t1"
   ]
  },
  {
   "cell_type": "code",
   "execution_count": null,
   "id": "3c8f311e",
   "metadata": {},
   "outputs": [],
   "source": [
    "results.summary()"
   ]
  },
  {
   "cell_type": "code",
   "execution_count": null,
   "id": "e76a2534",
   "metadata": {},
   "outputs": [],
   "source": [
    "ep = np.random.standard_normal(100)\n",
    "x = np.arange(100)\n",
    "y = 3+2*x+ep"
   ]
  },
  {
   "cell_type": "code",
   "execution_count": null,
   "id": "55f5423a",
   "metadata": {},
   "outputs": [],
   "source": [
    "x[1:99]"
   ]
  },
  {
   "cell_type": "code",
   "execution_count": null,
   "id": "379427c4",
   "metadata": {},
   "outputs": [],
   "source": [
    "plt.plot(x[0:99],y[1:])"
   ]
  },
  {
   "cell_type": "code",
   "execution_count": null,
   "id": "018770e8",
   "metadata": {},
   "outputs": [],
   "source": [
    "plt.plot(3+2*x+ep)"
   ]
  },
  {
   "cell_type": "code",
   "execution_count": null,
   "id": "8702f898",
   "metadata": {},
   "outputs": [],
   "source": [
    "3+2*x+ep"
   ]
  },
  {
   "cell_type": "code",
   "execution_count": null,
   "id": "e21005f9",
   "metadata": {},
   "outputs": [],
   "source": []
  }
 ],
 "metadata": {
  "kernelspec": {
   "display_name": "Python 3",
   "language": "python",
   "name": "python3"
  },
  "language_info": {
   "codemirror_mode": {
    "name": "ipython",
    "version": 3
   },
   "file_extension": ".py",
   "mimetype": "text/x-python",
   "name": "python",
   "nbconvert_exporter": "python",
   "pygments_lexer": "ipython3",
   "version": "3.8.8"
  }
 },
 "nbformat": 4,
 "nbformat_minor": 5
}
