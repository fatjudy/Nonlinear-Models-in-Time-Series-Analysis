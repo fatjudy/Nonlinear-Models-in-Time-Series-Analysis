{
 "cells": [
  {
   "cell_type": "code",
   "execution_count": 1,
   "id": "846755cc",
   "metadata": {},
   "outputs": [
    {
     "data": {
      "text/plain": [
       "<Figure size 720x360 with 0 Axes>"
      ]
     },
     "metadata": {},
     "output_type": "display_data"
    }
   ],
   "source": [
    "import DataPreparation as dpr\n",
    "import ModelRun as mr\n",
    "import benchmarks as bench\n",
    "\n",
    "import os\n",
    "import itertools\n",
    "import numpy as np\n",
    "import pandas as pd\n",
    "from scipy.optimize import minimize\n",
    "from sklearn.model_selection import TimeSeriesSplit\n",
    "from sklearn.linear_model import LinearRegression\n",
    "import matplotlib.pyplot as plt\n",
    "\n",
    "from MyEstimators import CLS_Estimator"
   ]
  },
  {
   "cell_type": "markdown",
   "id": "7c16d8c1",
   "metadata": {},
   "source": [
    "### Load data"
   ]
  },
  {
   "cell_type": "code",
   "execution_count": 2,
   "id": "122f4c6a",
   "metadata": {},
   "outputs": [],
   "source": [
    "df = dpr.read_data('EQP_Quarterly')\n",
    "df = dpr.data_clean(df, '1956-01-01')"
   ]
  },
  {
   "cell_type": "code",
   "execution_count": 3,
   "id": "cd407162",
   "metadata": {},
   "outputs": [
    {
     "data": {
      "text/html": [
       "<div>\n",
       "<style scoped>\n",
       "    .dataframe tbody tr th:only-of-type {\n",
       "        vertical-align: middle;\n",
       "    }\n",
       "\n",
       "    .dataframe tbody tr th {\n",
       "        vertical-align: top;\n",
       "    }\n",
       "\n",
       "    .dataframe thead th {\n",
       "        text-align: right;\n",
       "    }\n",
       "</style>\n",
       "<table border=\"1\" class=\"dataframe\">\n",
       "  <thead>\n",
       "    <tr style=\"text-align: right;\">\n",
       "      <th></th>\n",
       "      <th>EQP</th>\n",
       "      <th>DP</th>\n",
       "      <th>DY</th>\n",
       "      <th>EP</th>\n",
       "      <th>DE</th>\n",
       "      <th>svar</th>\n",
       "      <th>b/m</th>\n",
       "      <th>ntis</th>\n",
       "      <th>tbl</th>\n",
       "      <th>lty</th>\n",
       "      <th>...</th>\n",
       "      <th>TMS</th>\n",
       "      <th>DFR</th>\n",
       "      <th>DFY</th>\n",
       "      <th>infl</th>\n",
       "      <th>c</th>\n",
       "      <th>w</th>\n",
       "      <th>y</th>\n",
       "      <th>cay</th>\n",
       "      <th>AAA</th>\n",
       "      <th>BAA</th>\n",
       "    </tr>\n",
       "    <tr>\n",
       "      <th>time</th>\n",
       "      <th></th>\n",
       "      <th></th>\n",
       "      <th></th>\n",
       "      <th></th>\n",
       "      <th></th>\n",
       "      <th></th>\n",
       "      <th></th>\n",
       "      <th></th>\n",
       "      <th></th>\n",
       "      <th></th>\n",
       "      <th></th>\n",
       "      <th></th>\n",
       "      <th></th>\n",
       "      <th></th>\n",
       "      <th></th>\n",
       "      <th></th>\n",
       "      <th></th>\n",
       "      <th></th>\n",
       "      <th></th>\n",
       "      <th></th>\n",
       "      <th></th>\n",
       "    </tr>\n",
       "  </thead>\n",
       "  <tbody>\n",
       "    <tr>\n",
       "      <th>1956-03-01</th>\n",
       "      <td>0.066512</td>\n",
       "      <td>-3.333030</td>\n",
       "      <td>-3.269151</td>\n",
       "      <td>-2.575525</td>\n",
       "      <td>-0.757505</td>\n",
       "      <td>0.003289</td>\n",
       "      <td>0.531077</td>\n",
       "      <td>0.026695</td>\n",
       "      <td>0.0225</td>\n",
       "      <td>0.0303</td>\n",
       "      <td>...</td>\n",
       "      <td>0.0078</td>\n",
       "      <td>0.005159</td>\n",
       "      <td>0.0050</td>\n",
       "      <td>0.000000</td>\n",
       "      <td>9.272498</td>\n",
       "      <td>11.092725</td>\n",
       "      <td>9.100386</td>\n",
       "      <td>0.007275</td>\n",
       "      <td>0.0310</td>\n",
       "      <td>0.0360</td>\n",
       "    </tr>\n",
       "    <tr>\n",
       "      <th>1956-06-01</th>\n",
       "      <td>-0.028264</td>\n",
       "      <td>-3.261722</td>\n",
       "      <td>-3.293365</td>\n",
       "      <td>-2.568575</td>\n",
       "      <td>-0.693147</td>\n",
       "      <td>0.003688</td>\n",
       "      <td>0.551565</td>\n",
       "      <td>0.025672</td>\n",
       "      <td>0.0249</td>\n",
       "      <td>0.0299</td>\n",
       "      <td>...</td>\n",
       "      <td>0.0050</td>\n",
       "      <td>-0.021824</td>\n",
       "      <td>0.0050</td>\n",
       "      <td>0.014925</td>\n",
       "      <td>9.271728</td>\n",
       "      <td>11.091665</td>\n",
       "      <td>9.107828</td>\n",
       "      <td>0.000775</td>\n",
       "      <td>0.0326</td>\n",
       "      <td>0.0376</td>\n",
       "    </tr>\n",
       "    <tr>\n",
       "      <th>1956-09-01</th>\n",
       "      <td>-0.034415</td>\n",
       "      <td>-3.204645</td>\n",
       "      <td>-3.239744</td>\n",
       "      <td>-2.573142</td>\n",
       "      <td>-0.631503</td>\n",
       "      <td>0.002519</td>\n",
       "      <td>0.571910</td>\n",
       "      <td>0.029362</td>\n",
       "      <td>0.0284</td>\n",
       "      <td>0.0324</td>\n",
       "      <td>...</td>\n",
       "      <td>0.0040</td>\n",
       "      <td>0.005663</td>\n",
       "      <td>0.0051</td>\n",
       "      <td>0.007353</td>\n",
       "      <td>9.269304</td>\n",
       "      <td>11.086198</td>\n",
       "      <td>9.106428</td>\n",
       "      <td>0.000663</td>\n",
       "      <td>0.0356</td>\n",
       "      <td>0.0407</td>\n",
       "    </tr>\n",
       "    <tr>\n",
       "      <th>1956-12-01</th>\n",
       "      <td>0.033241</td>\n",
       "      <td>-3.289216</td>\n",
       "      <td>-3.260525</td>\n",
       "      <td>-2.616389</td>\n",
       "      <td>-0.672827</td>\n",
       "      <td>0.004394</td>\n",
       "      <td>0.544177</td>\n",
       "      <td>0.026149</td>\n",
       "      <td>0.0321</td>\n",
       "      <td>0.0345</td>\n",
       "      <td>...</td>\n",
       "      <td>0.0024</td>\n",
       "      <td>-0.002208</td>\n",
       "      <td>0.0062</td>\n",
       "      <td>0.007299</td>\n",
       "      <td>9.277993</td>\n",
       "      <td>11.096678</td>\n",
       "      <td>9.118405</td>\n",
       "      <td>-0.002524</td>\n",
       "      <td>0.0375</td>\n",
       "      <td>0.0437</td>\n",
       "    </tr>\n",
       "    <tr>\n",
       "      <th>1957-03-01</th>\n",
       "      <td>-0.050750</td>\n",
       "      <td>-3.238565</td>\n",
       "      <td>-3.294980</td>\n",
       "      <td>-2.562911</td>\n",
       "      <td>-0.675654</td>\n",
       "      <td>0.002288</td>\n",
       "      <td>0.599819</td>\n",
       "      <td>0.026600</td>\n",
       "      <td>0.0308</td>\n",
       "      <td>0.0331</td>\n",
       "      <td>...</td>\n",
       "      <td>0.0023</td>\n",
       "      <td>-0.000368</td>\n",
       "      <td>0.0077</td>\n",
       "      <td>0.007246</td>\n",
       "      <td>9.280482</td>\n",
       "      <td>11.090721</td>\n",
       "      <td>9.117433</td>\n",
       "      <td>0.002041</td>\n",
       "      <td>0.0366</td>\n",
       "      <td>0.0443</td>\n",
       "    </tr>\n",
       "  </tbody>\n",
       "</table>\n",
       "<p>5 rows × 21 columns</p>\n",
       "</div>"
      ],
      "text/plain": [
       "                 EQP        DP        DY        EP        DE      svar  \\\n",
       "time                                                                     \n",
       "1956-03-01  0.066512 -3.333030 -3.269151 -2.575525 -0.757505  0.003289   \n",
       "1956-06-01 -0.028264 -3.261722 -3.293365 -2.568575 -0.693147  0.003688   \n",
       "1956-09-01 -0.034415 -3.204645 -3.239744 -2.573142 -0.631503  0.002519   \n",
       "1956-12-01  0.033241 -3.289216 -3.260525 -2.616389 -0.672827  0.004394   \n",
       "1957-03-01 -0.050750 -3.238565 -3.294980 -2.562911 -0.675654  0.002288   \n",
       "\n",
       "                 b/m      ntis     tbl     lty  ...     TMS       DFR     DFY  \\\n",
       "time                                            ...                             \n",
       "1956-03-01  0.531077  0.026695  0.0225  0.0303  ...  0.0078  0.005159  0.0050   \n",
       "1956-06-01  0.551565  0.025672  0.0249  0.0299  ...  0.0050 -0.021824  0.0050   \n",
       "1956-09-01  0.571910  0.029362  0.0284  0.0324  ...  0.0040  0.005663  0.0051   \n",
       "1956-12-01  0.544177  0.026149  0.0321  0.0345  ...  0.0024 -0.002208  0.0062   \n",
       "1957-03-01  0.599819  0.026600  0.0308  0.0331  ...  0.0023 -0.000368  0.0077   \n",
       "\n",
       "                infl         c          w         y       cay     AAA     BAA  \n",
       "time                                                                           \n",
       "1956-03-01  0.000000  9.272498  11.092725  9.100386  0.007275  0.0310  0.0360  \n",
       "1956-06-01  0.014925  9.271728  11.091665  9.107828  0.000775  0.0326  0.0376  \n",
       "1956-09-01  0.007353  9.269304  11.086198  9.106428  0.000663  0.0356  0.0407  \n",
       "1956-12-01  0.007299  9.277993  11.096678  9.118405 -0.002524  0.0375  0.0437  \n",
       "1957-03-01  0.007246  9.280482  11.090721  9.117433  0.002041  0.0366  0.0443  \n",
       "\n",
       "[5 rows x 21 columns]"
      ]
     },
     "execution_count": 3,
     "metadata": {},
     "output_type": "execute_result"
    }
   ],
   "source": [
    "df.head()"
   ]
  },
  {
   "cell_type": "markdown",
   "id": "c9d180e8",
   "metadata": {},
   "source": [
    "### Add $y_{t-1}$ and construct X and y"
   ]
  },
  {
   "cell_type": "code",
   "execution_count": 4,
   "id": "a4aeb277",
   "metadata": {},
   "outputs": [
    {
     "data": {
      "text/html": [
       "<div>\n",
       "<style scoped>\n",
       "    .dataframe tbody tr th:only-of-type {\n",
       "        vertical-align: middle;\n",
       "    }\n",
       "\n",
       "    .dataframe tbody tr th {\n",
       "        vertical-align: top;\n",
       "    }\n",
       "\n",
       "    .dataframe thead th {\n",
       "        text-align: right;\n",
       "    }\n",
       "</style>\n",
       "<table border=\"1\" class=\"dataframe\">\n",
       "  <thead>\n",
       "    <tr style=\"text-align: right;\">\n",
       "      <th></th>\n",
       "      <th>EQP</th>\n",
       "      <th>DP</th>\n",
       "      <th>DY</th>\n",
       "      <th>EP</th>\n",
       "      <th>DE</th>\n",
       "      <th>svar</th>\n",
       "      <th>b/m</th>\n",
       "      <th>ntis</th>\n",
       "      <th>tbl</th>\n",
       "      <th>lty</th>\n",
       "      <th>...</th>\n",
       "      <th>DFR</th>\n",
       "      <th>DFY</th>\n",
       "      <th>infl</th>\n",
       "      <th>c</th>\n",
       "      <th>w</th>\n",
       "      <th>y</th>\n",
       "      <th>cay</th>\n",
       "      <th>AAA</th>\n",
       "      <th>BAA</th>\n",
       "      <th>y_lag</th>\n",
       "    </tr>\n",
       "    <tr>\n",
       "      <th>time</th>\n",
       "      <th></th>\n",
       "      <th></th>\n",
       "      <th></th>\n",
       "      <th></th>\n",
       "      <th></th>\n",
       "      <th></th>\n",
       "      <th></th>\n",
       "      <th></th>\n",
       "      <th></th>\n",
       "      <th></th>\n",
       "      <th></th>\n",
       "      <th></th>\n",
       "      <th></th>\n",
       "      <th></th>\n",
       "      <th></th>\n",
       "      <th></th>\n",
       "      <th></th>\n",
       "      <th></th>\n",
       "      <th></th>\n",
       "      <th></th>\n",
       "      <th></th>\n",
       "    </tr>\n",
       "  </thead>\n",
       "  <tbody>\n",
       "    <tr>\n",
       "      <th>1956-06-01</th>\n",
       "      <td>-0.028264</td>\n",
       "      <td>-3.261722</td>\n",
       "      <td>-3.293365</td>\n",
       "      <td>-2.568575</td>\n",
       "      <td>-0.693147</td>\n",
       "      <td>0.003688</td>\n",
       "      <td>0.551565</td>\n",
       "      <td>0.025672</td>\n",
       "      <td>0.0249</td>\n",
       "      <td>0.0299</td>\n",
       "      <td>...</td>\n",
       "      <td>-0.021824</td>\n",
       "      <td>0.0050</td>\n",
       "      <td>0.014925</td>\n",
       "      <td>9.271728</td>\n",
       "      <td>11.091665</td>\n",
       "      <td>9.107828</td>\n",
       "      <td>0.000775</td>\n",
       "      <td>0.0326</td>\n",
       "      <td>0.0376</td>\n",
       "      <td>0.066512</td>\n",
       "    </tr>\n",
       "    <tr>\n",
       "      <th>1956-09-01</th>\n",
       "      <td>-0.034415</td>\n",
       "      <td>-3.204645</td>\n",
       "      <td>-3.239744</td>\n",
       "      <td>-2.573142</td>\n",
       "      <td>-0.631503</td>\n",
       "      <td>0.002519</td>\n",
       "      <td>0.571910</td>\n",
       "      <td>0.029362</td>\n",
       "      <td>0.0284</td>\n",
       "      <td>0.0324</td>\n",
       "      <td>...</td>\n",
       "      <td>0.005663</td>\n",
       "      <td>0.0051</td>\n",
       "      <td>0.007353</td>\n",
       "      <td>9.269304</td>\n",
       "      <td>11.086198</td>\n",
       "      <td>9.106428</td>\n",
       "      <td>0.000663</td>\n",
       "      <td>0.0356</td>\n",
       "      <td>0.0407</td>\n",
       "      <td>-0.028264</td>\n",
       "    </tr>\n",
       "    <tr>\n",
       "      <th>1956-12-01</th>\n",
       "      <td>0.033241</td>\n",
       "      <td>-3.289216</td>\n",
       "      <td>-3.260525</td>\n",
       "      <td>-2.616389</td>\n",
       "      <td>-0.672827</td>\n",
       "      <td>0.004394</td>\n",
       "      <td>0.544177</td>\n",
       "      <td>0.026149</td>\n",
       "      <td>0.0321</td>\n",
       "      <td>0.0345</td>\n",
       "      <td>...</td>\n",
       "      <td>-0.002208</td>\n",
       "      <td>0.0062</td>\n",
       "      <td>0.007299</td>\n",
       "      <td>9.277993</td>\n",
       "      <td>11.096678</td>\n",
       "      <td>9.118405</td>\n",
       "      <td>-0.002524</td>\n",
       "      <td>0.0375</td>\n",
       "      <td>0.0437</td>\n",
       "      <td>-0.034415</td>\n",
       "    </tr>\n",
       "    <tr>\n",
       "      <th>1957-03-01</th>\n",
       "      <td>-0.050750</td>\n",
       "      <td>-3.238565</td>\n",
       "      <td>-3.294980</td>\n",
       "      <td>-2.562911</td>\n",
       "      <td>-0.675654</td>\n",
       "      <td>0.002288</td>\n",
       "      <td>0.599819</td>\n",
       "      <td>0.026600</td>\n",
       "      <td>0.0308</td>\n",
       "      <td>0.0331</td>\n",
       "      <td>...</td>\n",
       "      <td>-0.000368</td>\n",
       "      <td>0.0077</td>\n",
       "      <td>0.007246</td>\n",
       "      <td>9.280482</td>\n",
       "      <td>11.090721</td>\n",
       "      <td>9.117433</td>\n",
       "      <td>0.002041</td>\n",
       "      <td>0.0366</td>\n",
       "      <td>0.0443</td>\n",
       "      <td>0.033241</td>\n",
       "    </tr>\n",
       "    <tr>\n",
       "      <th>1957-06-01</th>\n",
       "      <td>0.075114</td>\n",
       "      <td>-3.309868</td>\n",
       "      <td>-3.238565</td>\n",
       "      <td>-2.628349</td>\n",
       "      <td>-0.681519</td>\n",
       "      <td>0.001363</td>\n",
       "      <td>0.565877</td>\n",
       "      <td>0.030528</td>\n",
       "      <td>0.0329</td>\n",
       "      <td>0.0361</td>\n",
       "      <td>...</td>\n",
       "      <td>-0.003789</td>\n",
       "      <td>0.0072</td>\n",
       "      <td>0.010791</td>\n",
       "      <td>9.278119</td>\n",
       "      <td>11.104916</td>\n",
       "      <td>9.118823</td>\n",
       "      <td>-0.004528</td>\n",
       "      <td>0.0391</td>\n",
       "      <td>0.0463</td>\n",
       "      <td>-0.050750</td>\n",
       "    </tr>\n",
       "  </tbody>\n",
       "</table>\n",
       "<p>5 rows × 22 columns</p>\n",
       "</div>"
      ],
      "text/plain": [
       "                 EQP        DP        DY        EP        DE      svar  \\\n",
       "time                                                                     \n",
       "1956-06-01 -0.028264 -3.261722 -3.293365 -2.568575 -0.693147  0.003688   \n",
       "1956-09-01 -0.034415 -3.204645 -3.239744 -2.573142 -0.631503  0.002519   \n",
       "1956-12-01  0.033241 -3.289216 -3.260525 -2.616389 -0.672827  0.004394   \n",
       "1957-03-01 -0.050750 -3.238565 -3.294980 -2.562911 -0.675654  0.002288   \n",
       "1957-06-01  0.075114 -3.309868 -3.238565 -2.628349 -0.681519  0.001363   \n",
       "\n",
       "                 b/m      ntis     tbl     lty  ...       DFR     DFY  \\\n",
       "time                                            ...                     \n",
       "1956-06-01  0.551565  0.025672  0.0249  0.0299  ... -0.021824  0.0050   \n",
       "1956-09-01  0.571910  0.029362  0.0284  0.0324  ...  0.005663  0.0051   \n",
       "1956-12-01  0.544177  0.026149  0.0321  0.0345  ... -0.002208  0.0062   \n",
       "1957-03-01  0.599819  0.026600  0.0308  0.0331  ... -0.000368  0.0077   \n",
       "1957-06-01  0.565877  0.030528  0.0329  0.0361  ... -0.003789  0.0072   \n",
       "\n",
       "                infl         c          w         y       cay     AAA     BAA  \\\n",
       "time                                                                            \n",
       "1956-06-01  0.014925  9.271728  11.091665  9.107828  0.000775  0.0326  0.0376   \n",
       "1956-09-01  0.007353  9.269304  11.086198  9.106428  0.000663  0.0356  0.0407   \n",
       "1956-12-01  0.007299  9.277993  11.096678  9.118405 -0.002524  0.0375  0.0437   \n",
       "1957-03-01  0.007246  9.280482  11.090721  9.117433  0.002041  0.0366  0.0443   \n",
       "1957-06-01  0.010791  9.278119  11.104916  9.118823 -0.004528  0.0391  0.0463   \n",
       "\n",
       "               y_lag  \n",
       "time                  \n",
       "1956-06-01  0.066512  \n",
       "1956-09-01 -0.028264  \n",
       "1956-12-01 -0.034415  \n",
       "1957-03-01  0.033241  \n",
       "1957-06-01 -0.050750  \n",
       "\n",
       "[5 rows x 22 columns]"
      ]
     },
     "execution_count": 4,
     "metadata": {},
     "output_type": "execute_result"
    }
   ],
   "source": [
    "df['y_lag'] = df['EQP'].shift()\n",
    "df = df.dropna()\n",
    "df.head()"
   ]
  },
  {
   "cell_type": "code",
   "execution_count": 5,
   "id": "8caa52c3",
   "metadata": {},
   "outputs": [
    {
     "data": {
      "text/html": [
       "<div>\n",
       "<style scoped>\n",
       "    .dataframe tbody tr th:only-of-type {\n",
       "        vertical-align: middle;\n",
       "    }\n",
       "\n",
       "    .dataframe tbody tr th {\n",
       "        vertical-align: top;\n",
       "    }\n",
       "\n",
       "    .dataframe thead th {\n",
       "        text-align: right;\n",
       "    }\n",
       "</style>\n",
       "<table border=\"1\" class=\"dataframe\">\n",
       "  <thead>\n",
       "    <tr style=\"text-align: right;\">\n",
       "      <th></th>\n",
       "      <th>DP</th>\n",
       "      <th>DY</th>\n",
       "    </tr>\n",
       "    <tr>\n",
       "      <th>time</th>\n",
       "      <th></th>\n",
       "      <th></th>\n",
       "    </tr>\n",
       "  </thead>\n",
       "  <tbody>\n",
       "    <tr>\n",
       "      <th>1956-06-01</th>\n",
       "      <td>-3.261722</td>\n",
       "      <td>-3.293365</td>\n",
       "    </tr>\n",
       "    <tr>\n",
       "      <th>1956-09-01</th>\n",
       "      <td>-3.204645</td>\n",
       "      <td>-3.239744</td>\n",
       "    </tr>\n",
       "  </tbody>\n",
       "</table>\n",
       "</div>"
      ],
      "text/plain": [
       "                  DP        DY\n",
       "time                          \n",
       "1956-06-01 -3.261722 -3.293365\n",
       "1956-09-01 -3.204645 -3.239744"
      ]
     },
     "execution_count": 5,
     "metadata": {},
     "output_type": "execute_result"
    }
   ],
   "source": [
    "X = df[['DP','DY']]\n",
    "station = pd.DataFrame()\n",
    "y = df[['EQP']].squeeze()\n",
    "X.head(2)"
   ]
  },
  {
   "cell_type": "markdown",
   "id": "6e03f14e",
   "metadata": {},
   "source": [
    "### Construct single-index and nonlinear models"
   ]
  },
  {
   "cell_type": "code",
   "execution_count": 6,
   "id": "24da26b3",
   "metadata": {},
   "outputs": [],
   "source": [
    "def single_index(x):\n",
    "    if isinstance(x, (pd.DataFrame, np.ndarray)):\n",
    "        if isinstance(x, pd.DataFrame):\n",
    "            x_values = x.values\n",
    "        else:\n",
    "            pass\n",
    "    else:\n",
    "        raise Exception('wrong type')\n",
    "\n",
    "    def u(theta):\n",
    "        if len(theta) == x_values.shape[1]:\n",
    "            sum_up = [x_values[:, i] * theta[i] for i in range(x_values.shape[1])]\n",
    "            index = np.sum(sum_up, axis=0)\n",
    "        else:\n",
    "            raise Exception('wrong parameter dimension')\n",
    "        return index\n",
    "\n",
    "    return u"
   ]
  },
  {
   "cell_type": "code",
   "execution_count": 7,
   "id": "dbdda074",
   "metadata": {},
   "outputs": [],
   "source": [
    "extra_params = {'sin_func':1,\n",
    "               'cos_func':1,\n",
    "               'scaled_sin_func':2,\n",
    "               'scaled_cos_func':2,\n",
    "               'exp_func':2,\n",
    "               'exp_shift_func':2,\n",
    "                'poly_func':3\n",
    "               }"
   ]
  },
  {
   "cell_type": "code",
   "execution_count": 8,
   "id": "37ec4390",
   "metadata": {},
   "outputs": [],
   "source": [
    "def dimensions(non_sta, sta, func):\n",
    "    stas = sta.shape[1]\n",
    "    nonstas = non_sta.shape[1]\n",
    "    extra = range(0, extra_params[func])\n",
    "    return nonstas, stas, extra"
   ]
  },
  {
   "cell_type": "code",
   "execution_count": 9,
   "id": "b64e4cac",
   "metadata": {},
   "outputs": [],
   "source": [
    "def sin_func(x):\n",
    "    def objective_func(params):\n",
    "        func = np.sin(single_index(x.iloc[:,:d1])(params[0:d1])+params[d1+d2+extra[0]])+np.dot(\n",
    "            x.iloc[:,d1:d1+d2], params[d1:d1+d2])\n",
    "        return func\n",
    "    return objective_func"
   ]
  },
  {
   "cell_type": "code",
   "execution_count": 10,
   "id": "cd7ec4fc",
   "metadata": {},
   "outputs": [],
   "source": [
    "def cos_func(x):\n",
    "    def objective_func(params):\n",
    "        func = np.cos(single_index(x.iloc[:,:d1])(params[0:d1])+params[d1+d2+extra[0]])+np.dot(\n",
    "            x.iloc[:,d1:d1+d2], params[d1:d1+d2])\n",
    "        return func\n",
    "    return objective_func"
   ]
  },
  {
   "cell_type": "code",
   "execution_count": 11,
   "id": "2d660659",
   "metadata": {},
   "outputs": [],
   "source": [
    "def scaled_sin_func(x):\n",
    "    def objective_func(params):\n",
    "        func = np.sin(params[d1+d2+extra[1]]*single_index(x.iloc[:,:d1])(\n",
    "            params[0:d1])+params[d1+d2+extra[0]])+np.dot(x.iloc[:,d1:d1+d2], params[d1:d1+d2])\n",
    "        return func\n",
    "    return objective_func"
   ]
  },
  {
   "cell_type": "code",
   "execution_count": 12,
   "id": "e40efcb7",
   "metadata": {},
   "outputs": [],
   "source": [
    "def scaled_cos_func(x):\n",
    "    def objective_func(params):\n",
    "        func = np.cos(params[d1+d2+extra[1]]*single_index(x.iloc[:,:d1])(\n",
    "            params[0:d1])+params[d1+d2+extra[0]])+np.dot(x.iloc[:,d1:d1+d2], params[d1:d1+d2])\n",
    "        return func\n",
    "    return objective_func"
   ]
  },
  {
   "cell_type": "code",
   "execution_count": 13,
   "id": "a8d48477",
   "metadata": {},
   "outputs": [],
   "source": [
    "def exp_shift_func(x):\n",
    "    def objective_func(params):\n",
    "        func = 1 - np.exp(params[d1+d2+extra[1]]*((single_index(x.iloc[:,:d1])(\n",
    "            params[0:d1]))-params[d1+d2+extra[0]])**2)+np.dot(x.iloc[:,d1:d1+d2], params[d1:d1+d2])\n",
    "        return func\n",
    "    return objective_func"
   ]
  },
  {
   "cell_type": "code",
   "execution_count": 14,
   "id": "62c2cf5c",
   "metadata": {},
   "outputs": [],
   "source": [
    "def exp_func(x):\n",
    "    def objective_func(params):\n",
    "        func = params[d1+d2+extra[0]]*np.exp(-params[d1+d2+extra[1]]*(single_index(x.iloc[:,:d1])(params[0:d1]))**2\n",
    "                                )+np.dot(x.iloc[:,d1:d1+d2], params[d1:d1+d2])\n",
    "        return func\n",
    "    return objective_func"
   ]
  },
  {
   "cell_type": "code",
   "execution_count": 15,
   "id": "a28e01fe",
   "metadata": {},
   "outputs": [],
   "source": [
    "def poly_func(x):\n",
    "    def objective_func(params):\n",
    "        func = params[d1+d2+extra[0]]+params[d1+d2+extra[1]]*(single_index(x.iloc[:,:d1])(\n",
    "            params[0:d1]))+params[d1+d2+extra[2]]*((single_index(x.iloc[:,:d1])(\n",
    "            params[0:d1]))**2)+np.dot(x.iloc[:,d1:d1+d2], params[d1:d1+d2])\n",
    "#                (single_index(x.iloc[:,:d1])(params[0:d1])\n",
    "        return func\n",
    "    return objective_func"
   ]
  },
  {
   "cell_type": "markdown",
   "id": "7e97d438",
   "metadata": {},
   "source": [
    "### Model Estimation"
   ]
  },
  {
   "cell_type": "code",
   "execution_count": 16,
   "id": "eb982ee6",
   "metadata": {},
   "outputs": [],
   "source": [
    "def constraint_func(x):\n",
    "    def constraint(params):\n",
    "        con = 0\n",
    "        for j in np.arange(0, x.iloc[:,:d1].shape[1]):\n",
    "            con += params[j]**2\n",
    "            cons = con - 1\n",
    "        return cons\n",
    "    return {'type':'eq', 'fun': constraint}"
   ]
  },
  {
   "cell_type": "code",
   "execution_count": 17,
   "id": "c6814118",
   "metadata": {},
   "outputs": [],
   "source": [
    "d1, d2, extra = dimensions(X, station,'poly_func')\n",
    "cls_nls = CLS_Estimator(obj_func = poly_func, x0 = [0.001]*(d1+d2+extra[-1]+1))\n",
    "cls = CLS_Estimator(obj_func = poly_func, x0 = [0.001]*(d1+d2+extra[-1]+1), constraints = constraint_func(X))"
   ]
  },
  {
   "cell_type": "code",
   "execution_count": 18,
   "id": "525ab7db",
   "metadata": {},
   "outputs": [
    {
     "data": {
      "text/plain": [
       "CLS_Estimator(constraints={'fun': <function constraint_func.<locals>.constraint at 0x0000016CD8FB2D08>,\n",
       "                           'type': 'eq'},\n",
       "              obj_func=<function poly_func at 0x0000016CD8FB2AE8>,\n",
       "              x0=[0.001, 0.001, 0.001, 0.001, 0.001])"
      ]
     },
     "execution_count": 18,
     "metadata": {},
     "output_type": "execute_result"
    }
   ],
   "source": [
    "cls_nls.fit(X,y)\n",
    "cls.fit(X,y)"
   ]
  },
  {
   "cell_type": "code",
   "execution_count": 19,
   "id": "b65b346d",
   "metadata": {},
   "outputs": [
    {
     "name": "stdout",
     "output_type": "stream",
     "text": [
      "[-8.94841330e-04  1.92702711e-03  1.24399499e-02 -2.56973660e-05\n",
      "  1.01218548e-03]\n",
      "[-0.16930924  0.98556298  0.00341686 -0.03364998 -0.01037493]\n"
     ]
    }
   ],
   "source": [
    "print(cls_nls.params_)\n",
    "print(cls.params_)"
   ]
  },
  {
   "cell_type": "code",
   "execution_count": 20,
   "id": "332ebe6d",
   "metadata": {},
   "outputs": [
    {
     "data": {
      "text/plain": [
       "-0.16930923753093413"
      ]
     },
     "execution_count": 20,
     "metadata": {},
     "output_type": "execute_result"
    }
   ],
   "source": [
    "cls.params_[0]"
   ]
  },
  {
   "cell_type": "code",
   "execution_count": 21,
   "id": "150c57ae",
   "metadata": {},
   "outputs": [
    {
     "data": {
      "text/plain": [
       "1.0000000010637105"
      ]
     },
     "execution_count": 21,
     "metadata": {},
     "output_type": "execute_result"
    }
   ],
   "source": [
    "cls.params_[0]**2+cls.params_[1]**2"
   ]
  },
  {
   "cell_type": "markdown",
   "id": "12dfc443",
   "metadata": {},
   "source": [
    "## Empirical Study"
   ]
  },
  {
   "cell_type": "markdown",
   "id": "89ef5845",
   "metadata": {},
   "source": [
    "### Cointegrated predictors\n",
    "- dividend-price ratio and dividend yield\n",
    "- T-bill rate and long-term yield\n",
    "- dividend-price ratio and earningprice ratio\n",
    "- baa- and aaa-rated corporate bond yields"
   ]
  },
  {
   "cell_type": "code",
   "execution_count": 22,
   "id": "a7c43534",
   "metadata": {},
   "outputs": [],
   "source": [
    "co1 = df[['DP', 'DY']]\n",
    "co2 = df[['tbl', 'lty']]\n",
    "co3 = df[['DP', 'EP']]\n",
    "co4 = df[['BAA', 'AAA']]"
   ]
  },
  {
   "cell_type": "code",
   "execution_count": 23,
   "id": "27478a2d",
   "metadata": {},
   "outputs": [],
   "source": [
    "cointe_variables = [co1, co2, co3, co4]"
   ]
  },
  {
   "cell_type": "markdown",
   "id": "bb4964be",
   "metadata": {},
   "source": [
    "### Stationary variables"
   ]
  },
  {
   "cell_type": "code",
   "execution_count": 24,
   "id": "c7d98212",
   "metadata": {},
   "outputs": [],
   "source": [
    "station = df[['y_lag', 'cay']]"
   ]
  },
  {
   "cell_type": "markdown",
   "id": "e25b1b8e",
   "metadata": {},
   "source": [
    "### Fit model and Save Results"
   ]
  },
  {
   "cell_type": "code",
   "execution_count": 25,
   "id": "f4e98549",
   "metadata": {},
   "outputs": [],
   "source": [
    "def get_df_name(df):\n",
    "    name =[x for x in globals() if globals()[x] is df][0]\n",
    "    return name"
   ]
  },
  {
   "cell_type": "code",
   "execution_count": 26,
   "id": "b67c7e67",
   "metadata": {},
   "outputs": [],
   "source": [
    "fun_list = [sin_func,\n",
    "            cos_func,\n",
    "            scaled_sin_func,\n",
    "            scaled_cos_func,\n",
    "            exp_func,\n",
    "            exp_shift_func,\n",
    "            poly_func\n",
    "           ]"
   ]
  },
  {
   "cell_type": "code",
   "execution_count": 27,
   "id": "8b571081",
   "metadata": {},
   "outputs": [],
   "source": [
    "# Set up hierachical index\n",
    "fun_names = [i.__name__ for i in fun_list]\n",
    "cointe_names = [get_df_name(i) for i in cointe_variables]\n",
    "iterables_a = [fun_names, cointe_names]"
   ]
  },
  {
   "cell_type": "code",
   "execution_count": 28,
   "id": "d2aa57c7",
   "metadata": {},
   "outputs": [],
   "source": [
    "#Set up directory\n",
    "parent = os.getcwd()\n",
    "folder = 'results'\n",
    "path = os.path.join(parent, folder)\n",
    "if not os.path.exists(path):\n",
    "    os.makedirs(path)"
   ]
  },
  {
   "cell_type": "code",
   "execution_count": 29,
   "id": "32f68e32",
   "metadata": {
    "scrolled": true
   },
   "outputs": [],
   "source": [
    "results = pd.DataFrame()\n",
    "for i, j in itertools.product(fun_list, cointe_variables):\n",
    "    # Set up dimensions\n",
    "    d1, d2, extra= dimensions(j,station, i.__name__)\n",
    "    initial_len = d1+d2+extra[-1]+1\n",
    "    \n",
    "    # Set up dataframes\n",
    "    iterables = [[i.__name__], [get_df_name(j)]]\n",
    "    sec_columns = ['param_'+str(i) for i in range(1,initial_len+1)]\n",
    "    multi_index = pd.MultiIndex.from_product(iterables, names=[\"function\", \"variables\"])\n",
    "    multi_columns = pd.MultiIndex.from_product([['NLS', 'CLS'], sec_columns],\n",
    "                                               names=['Estimator', 'Parameters'])\n",
    "    result = pd.DataFrame(index = multi_index, columns = multi_columns)\n",
    "    # Prepare X\n",
    "    X_ = j.join(station)\n",
    "    # Fit models\n",
    "    nls = CLS_Estimator(obj_func = i, x0 = [0.001]*initial_len)\n",
    "    cls = CLS_Estimator(obj_func = i, x0 = [0.001]*initial_len, constraints = constraint_func(X_))\n",
    "    nls.params_ = nls.fit(X_,y).params_\n",
    "    cls.params_ = cls.fit(X_,y).params_\n",
    "    # Save results to dataframe\n",
    "    result.loc[i.__name__,get_df_name(j)].loc['NLS'] = nls.params_ \n",
    "    result.loc[i.__name__,get_df_name(j)].loc['CLS'] = cls.params_ \n",
    "    # Put into one table\n",
    "    results = results.append(result, ignore_index = False, sort = False)\n",
    "    \n",
    "# Export to Excel\n",
    "results.to_excel('Results/full_sample.xlsx')"
   ]
  },
  {
   "cell_type": "code",
   "execution_count": 30,
   "id": "1a0a7d70",
   "metadata": {},
   "outputs": [
    {
     "data": {
      "text/html": [
       "<div>\n",
       "<style scoped>\n",
       "    .dataframe tbody tr th:only-of-type {\n",
       "        vertical-align: middle;\n",
       "    }\n",
       "\n",
       "    .dataframe tbody tr th {\n",
       "        vertical-align: top;\n",
       "    }\n",
       "\n",
       "    .dataframe thead tr th {\n",
       "        text-align: left;\n",
       "    }\n",
       "\n",
       "    .dataframe thead tr:last-of-type th {\n",
       "        text-align: right;\n",
       "    }\n",
       "</style>\n",
       "<table border=\"1\" class=\"dataframe\">\n",
       "  <thead>\n",
       "    <tr>\n",
       "      <th></th>\n",
       "      <th>Estimator</th>\n",
       "      <th colspan=\"7\" halign=\"left\">CLS</th>\n",
       "      <th colspan=\"7\" halign=\"left\">NLS</th>\n",
       "    </tr>\n",
       "    <tr>\n",
       "      <th></th>\n",
       "      <th>Parameters</th>\n",
       "      <th>param_1</th>\n",
       "      <th>param_2</th>\n",
       "      <th>param_3</th>\n",
       "      <th>param_4</th>\n",
       "      <th>param_5</th>\n",
       "      <th>param_6</th>\n",
       "      <th>param_7</th>\n",
       "      <th>param_1</th>\n",
       "      <th>param_2</th>\n",
       "      <th>param_3</th>\n",
       "      <th>param_4</th>\n",
       "      <th>param_5</th>\n",
       "      <th>param_6</th>\n",
       "      <th>param_7</th>\n",
       "    </tr>\n",
       "    <tr>\n",
       "      <th>function</th>\n",
       "      <th>variables</th>\n",
       "      <th></th>\n",
       "      <th></th>\n",
       "      <th></th>\n",
       "      <th></th>\n",
       "      <th></th>\n",
       "      <th></th>\n",
       "      <th></th>\n",
       "      <th></th>\n",
       "      <th></th>\n",
       "      <th></th>\n",
       "      <th></th>\n",
       "      <th></th>\n",
       "      <th></th>\n",
       "      <th></th>\n",
       "    </tr>\n",
       "  </thead>\n",
       "  <tbody>\n",
       "    <tr>\n",
       "      <th rowspan=\"3\" valign=\"top\">sin_func</th>\n",
       "      <th>co1</th>\n",
       "      <td>0.709838</td>\n",
       "      <td>-0.704365</td>\n",
       "      <td>0.022517</td>\n",
       "      <td>-0.104848</td>\n",
       "      <td>-15.689339</td>\n",
       "      <td>NaN</td>\n",
       "      <td>NaN</td>\n",
       "      <td>-1.008436</td>\n",
       "      <td>1.002847</td>\n",
       "      <td>0.000839</td>\n",
       "      <td>-0.073964</td>\n",
       "      <td>-0.023462</td>\n",
       "      <td>NaN</td>\n",
       "      <td>NaN</td>\n",
       "    </tr>\n",
       "    <tr>\n",
       "      <th>co2</th>\n",
       "      <td>0.495116</td>\n",
       "      <td>-0.868827</td>\n",
       "      <td>0.079209</td>\n",
       "      <td>0.054524</td>\n",
       "      <td>-50.222284</td>\n",
       "      <td>NaN</td>\n",
       "      <td>NaN</td>\n",
       "      <td>-0.786401</td>\n",
       "      <td>0.690315</td>\n",
       "      <td>0.066833</td>\n",
       "      <td>-0.247875</td>\n",
       "      <td>0.003686</td>\n",
       "      <td>NaN</td>\n",
       "      <td>NaN</td>\n",
       "    </tr>\n",
       "    <tr>\n",
       "      <th>co3</th>\n",
       "      <td>0.715437</td>\n",
       "      <td>-0.698678</td>\n",
       "      <td>-0.221696</td>\n",
       "      <td>-0.790349</td>\n",
       "      <td>-2.565328</td>\n",
       "      <td>NaN</td>\n",
       "      <td>NaN</td>\n",
       "      <td>-0.026356</td>\n",
       "      <td>-0.00009</td>\n",
       "      <td>0.059006</td>\n",
       "      <td>-0.224006</td>\n",
       "      <td>-0.083221</td>\n",
       "      <td>NaN</td>\n",
       "      <td>NaN</td>\n",
       "    </tr>\n",
       "  </tbody>\n",
       "</table>\n",
       "</div>"
      ],
      "text/plain": [
       "Estimator                CLS                                                   \\\n",
       "Parameters           param_1   param_2   param_3   param_4    param_5 param_6   \n",
       "function variables                                                              \n",
       "sin_func co1        0.709838 -0.704365  0.022517 -0.104848 -15.689339     NaN   \n",
       "         co2        0.495116 -0.868827  0.079209  0.054524 -50.222284     NaN   \n",
       "         co3        0.715437 -0.698678 -0.221696 -0.790349  -2.565328     NaN   \n",
       "\n",
       "Estimator                        NLS                                          \\\n",
       "Parameters         param_7   param_1   param_2   param_3   param_4   param_5   \n",
       "function variables                                                             \n",
       "sin_func co1           NaN -1.008436  1.002847  0.000839 -0.073964 -0.023462   \n",
       "         co2           NaN -0.786401  0.690315  0.066833 -0.247875  0.003686   \n",
       "         co3           NaN -0.026356  -0.00009  0.059006 -0.224006 -0.083221   \n",
       "\n",
       "Estimator                           \n",
       "Parameters         param_6 param_7  \n",
       "function variables                  \n",
       "sin_func co1           NaN     NaN  \n",
       "         co2           NaN     NaN  \n",
       "         co3           NaN     NaN  "
      ]
     },
     "execution_count": 30,
     "metadata": {},
     "output_type": "execute_result"
    }
   ],
   "source": [
    "results.head(3)"
   ]
  },
  {
   "cell_type": "markdown",
   "id": "41092ef8",
   "metadata": {},
   "source": [
    "# WTF is hapenning here?!!!"
   ]
  },
  {
   "cell_type": "code",
   "execution_count": 31,
   "id": "094d39d4",
   "metadata": {},
   "outputs": [],
   "source": [
    "# def fit_model(functions, variables, file_name):   \n",
    "#     results = pd.DataFrame()\n",
    "#     for i, j in itertools.product(functions, variables):\n",
    "#         # Set up dimensions\n",
    "#         d1, d2, extra= dimensions(j,station, i.__name__)\n",
    "# #         print(d1,d2,extra[-1])\n",
    "#         initial_len = d1+d2+extra[-1]+1\n",
    "\n",
    "#         # Set up dataframes\n",
    "#         iterables = [[i.__name__], [get_df_name(j)]]\n",
    "#         sec_columns = ['param_'+str(i) for i in range(1,initial_len+1)]\n",
    "#         multi_index = pd.MultiIndex.from_product(iterables, names=[\"function\", \"variables\"])\n",
    "#         multi_columns = pd.MultiIndex.from_product([['NLS', 'CLS'], sec_columns],\n",
    "#                                                    names=['Estimator', 'Parameters'])\n",
    "#         result = pd.DataFrame(index = multi_index, columns = multi_columns)\n",
    "#         # Prepare X\n",
    "#         X_ = j.join(station)\n",
    "#         # Fit models\n",
    "#         nls = CLS_Estimator(obj_func = i, x0 = [0.001]*initial_len)\n",
    "#         cls = CLS_Estimator(obj_func = i, x0 = [0.001]*initial_len, constraints = constraint_func(X))\n",
    "#         nls.params_ = nls.fit(X_,y).params_\n",
    "#         cls.params_ = cls.fit(X_,y).params_\n",
    "#         print(initial_len)\n",
    "#         # Save results to dataframe\n",
    "#         result.loc[i.__name__,get_df_name(j)].loc['NLS'] = nls.params_ \n",
    "#         result.loc[i.__name__,get_df_name(j)].loc['CLS'] = cls.params_ \n",
    "#         # Put into one table\n",
    "#         results = results.append(result, ignore_index = False, sort = False)\n",
    "#     # Export to Excel\n",
    "#     path = 'Results/' + file_name +'.xlsx'\n",
    "#     results.to_excel(path)\n",
    "#     return results"
   ]
  },
  {
   "cell_type": "code",
   "execution_count": 32,
   "id": "da6be342",
   "metadata": {},
   "outputs": [],
   "source": [
    "# fit_model(fun_list, cointe_variables,'results_1835')"
   ]
  },
  {
   "cell_type": "markdown",
   "id": "96ced3ad",
   "metadata": {},
   "source": [
    "## Use initial values from Linear regression (using Taylor expansion)"
   ]
  },
  {
   "cell_type": "code",
   "execution_count": 45,
   "id": "d92e854a",
   "metadata": {},
   "outputs": [],
   "source": [
    "orders = {'sin_func':1,\n",
    "          'cos_func':2,\n",
    "          'scaled_sin_func':1,\n",
    "          'scaled_cos_func':2,\n",
    "          'exp_func':6,\n",
    "          'exp_shift_func':4,\n",
    "          'poly_func':2\n",
    "               }"
   ]
  },
  {
   "cell_type": "code",
   "execution_count": 172,
   "id": "a0a09c01",
   "metadata": {},
   "outputs": [],
   "source": [
    "def Taylor_init(variables, function):\n",
    "    \n",
    "    # find the initials for theta\n",
    "    LR_theta = LR.fit(variables.iloc[:,1:], variables.iloc[:,:1])\n",
    "    theta = np.array(-alpha/np.linalg.norm(alpha))\n",
    "    \n",
    "    # calculate single-index\n",
    "    u = single_index(variables)(theta)\n",
    "    \n",
    "    # find the initials for beta\n",
    "    Xs = station.copy()\n",
    "    Xs['u'], Xs['u2'], Xs['u3'], Xs['u4'], Xs['u6'] = u, u**2, u**3, u**4, u**6\n",
    "    t_order = orders.get(function.__name__)\n",
    "    X_reg = Xs.iloc[:, 0:d2+t_order]\n",
    "    LR_taylor = LR.fit(X_reg, y)\n",
    "    theta_gamma = np.append(theta,LR_taylor.coef_[:d2])\n",
    "    print(X_reg.head(2))\n",
    "    \n",
    "    # initials for gammas\n",
    "    initials = []\n",
    "    if function == sin_func:\n",
    "        initials = np.append(theta_gamma, LR_taylor.intercept_)\n",
    "    elif function == scaled_sin_func:\n",
    "        initials = np.append(theta_gamma, ([LR_taylor.intercept_], [LR_taylor.coef_[0]]))\n",
    "    elif function == poly_func:\n",
    "        ini_poly_ = np.append(theta_gamma,LR_taylor.coef_[d2:])\n",
    "        initials = np.insert(ini_poly_, 4, LR_taylor.intercept_)\n",
    "    elif function == cos_func:\n",
    "        initials = np.append(theta_gamma, [-LR_taylor.coef_[d2]])\n",
    "    elif function == scaled_cos_func:\n",
    "        initials = np.append(theta_gamma,([-LR_taylor.coef_[2]/np.sqrt(-2*LR_taylor.coef_[3])], [np.sqrt(-2*LR_taylor.coef_[3])]))\n",
    "    elif function == exp_shift_func:\n",
    "        initials = np.append(theta_gamma, [-LR_taylor.coef_[2]/2*LR_taylor.coef_[3], LR_taylor.coef_[3]])\n",
    "    elif function == exp_func:\n",
    "        initials =np.append(theta_gamma, [LR_taylor.intercept_, -LR_taylor.coef_[2]/LR_taylor.intercept_])\n",
    "\n",
    "    return initials"
   ]
  },
  {
   "cell_type": "code",
   "execution_count": 175,
   "id": "dbafb766",
   "metadata": {},
   "outputs": [
    {
     "name": "stdout",
     "output_type": "stream",
     "text": [
      "               y_lag       cay         u        u2\n",
      "time                                              \n",
      "1956-06-01  0.066512  0.000775 -0.049671  0.002467\n",
      "1956-09-01 -0.028264  0.000663 -0.053984  0.002914\n"
     ]
    },
    {
     "data": {
      "text/plain": [
       "array([-0.7138883 , -0.70025959,  0.07374016, -0.11891175,  0.0446384 ,\n",
       "        1.20445632])"
      ]
     },
     "execution_count": 175,
     "metadata": {},
     "output_type": "execute_result"
    }
   ],
   "source": [
    "Taylor_init(co4, scaled_cos_func)"
   ]
  },
  {
   "cell_type": "markdown",
   "id": "b740c138",
   "metadata": {},
   "source": [
    "### Initial values for $\\beta$ and $\\gamma$"
   ]
  },
  {
   "cell_type": "markdown",
   "id": "dd17b3b8",
   "metadata": {},
   "source": [
    "#### 1st order Taylor"
   ]
  },
  {
   "cell_type": "code",
   "execution_count": 32,
   "id": "78beb918",
   "metadata": {},
   "outputs": [],
   "source": [
    "station = df[['y_lag', 'cay']]"
   ]
  },
  {
   "cell_type": "code",
   "execution_count": 41,
   "id": "703f7e49",
   "metadata": {},
   "outputs": [],
   "source": [
    "u = single_index(co1)(theta)"
   ]
  },
  {
   "cell_type": "code",
   "execution_count": 39,
   "id": "ef9053de",
   "metadata": {},
   "outputs": [
    {
     "data": {
      "text/html": [
       "<div>\n",
       "<style scoped>\n",
       "    .dataframe tbody tr th:only-of-type {\n",
       "        vertical-align: middle;\n",
       "    }\n",
       "\n",
       "    .dataframe tbody tr th {\n",
       "        vertical-align: top;\n",
       "    }\n",
       "\n",
       "    .dataframe thead th {\n",
       "        text-align: right;\n",
       "    }\n",
       "</style>\n",
       "<table border=\"1\" class=\"dataframe\">\n",
       "  <thead>\n",
       "    <tr style=\"text-align: right;\">\n",
       "      <th></th>\n",
       "      <th>y_lag</th>\n",
       "      <th>cay</th>\n",
       "    </tr>\n",
       "    <tr>\n",
       "      <th>time</th>\n",
       "      <th></th>\n",
       "      <th></th>\n",
       "    </tr>\n",
       "  </thead>\n",
       "  <tbody>\n",
       "    <tr>\n",
       "      <th>1956-06-01</th>\n",
       "      <td>0.066512</td>\n",
       "      <td>0.000775</td>\n",
       "    </tr>\n",
       "    <tr>\n",
       "      <th>1956-09-01</th>\n",
       "      <td>-0.028264</td>\n",
       "      <td>0.000663</td>\n",
       "    </tr>\n",
       "    <tr>\n",
       "      <th>1956-12-01</th>\n",
       "      <td>-0.034415</td>\n",
       "      <td>-0.002524</td>\n",
       "    </tr>\n",
       "  </tbody>\n",
       "</table>\n",
       "</div>"
      ],
      "text/plain": [
       "               y_lag       cay\n",
       "time                          \n",
       "1956-06-01  0.066512  0.000775\n",
       "1956-09-01 -0.028264  0.000663\n",
       "1956-12-01 -0.034415 -0.002524"
      ]
     },
     "execution_count": 39,
     "metadata": {},
     "output_type": "execute_result"
    }
   ],
   "source": [
    "station.head(3)"
   ]
  },
  {
   "cell_type": "code",
   "execution_count": 40,
   "id": "4f545f72",
   "metadata": {},
   "outputs": [
    {
     "data": {
      "text/html": [
       "<div>\n",
       "<style scoped>\n",
       "    .dataframe tbody tr th:only-of-type {\n",
       "        vertical-align: middle;\n",
       "    }\n",
       "\n",
       "    .dataframe tbody tr th {\n",
       "        vertical-align: top;\n",
       "    }\n",
       "\n",
       "    .dataframe thead th {\n",
       "        text-align: right;\n",
       "    }\n",
       "</style>\n",
       "<table border=\"1\" class=\"dataframe\">\n",
       "  <thead>\n",
       "    <tr style=\"text-align: right;\">\n",
       "      <th></th>\n",
       "      <th>y_lag</th>\n",
       "      <th>cay</th>\n",
       "      <th>u</th>\n",
       "    </tr>\n",
       "    <tr>\n",
       "      <th>time</th>\n",
       "      <th></th>\n",
       "      <th></th>\n",
       "      <th></th>\n",
       "    </tr>\n",
       "  </thead>\n",
       "  <tbody>\n",
       "    <tr>\n",
       "      <th>1956-06-01</th>\n",
       "      <td>0.066512</td>\n",
       "      <td>0.000775</td>\n",
       "      <td>4.634716</td>\n",
       "    </tr>\n",
       "    <tr>\n",
       "      <th>1956-09-01</th>\n",
       "      <td>-0.028264</td>\n",
       "      <td>0.000663</td>\n",
       "      <td>4.556420</td>\n",
       "    </tr>\n",
       "    <tr>\n",
       "      <th>1956-12-01</th>\n",
       "      <td>-0.034415</td>\n",
       "      <td>-0.002524</td>\n",
       "      <td>4.631347</td>\n",
       "    </tr>\n",
       "  </tbody>\n",
       "</table>\n",
       "</div>"
      ],
      "text/plain": [
       "               y_lag       cay         u\n",
       "time                                    \n",
       "1956-06-01  0.066512  0.000775  4.634716\n",
       "1956-09-01 -0.028264  0.000663  4.556420\n",
       "1956-12-01 -0.034415 -0.002524  4.631347"
      ]
     },
     "execution_count": 40,
     "metadata": {},
     "output_type": "execute_result"
    }
   ],
   "source": [
    "X_order1 = station.copy()\n",
    "X_order1['u'] = u\n",
    "X_order1.head(3)"
   ]
  },
  {
   "cell_type": "code",
   "execution_count": 41,
   "id": "3c395ebc",
   "metadata": {},
   "outputs": [],
   "source": [
    "LR_O1 = LR.fit(X_order1, y)"
   ]
  },
  {
   "cell_type": "markdown",
   "id": "6929f015",
   "metadata": {},
   "source": [
    "#### Initials for sin_func and scaled_sin_func"
   ]
  },
  {
   "cell_type": "code",
   "execution_count": 42,
   "id": "1507eac4",
   "metadata": {},
   "outputs": [
    {
     "data": {
      "text/html": [
       "<div>\n",
       "<style scoped>\n",
       "    .dataframe tbody tr th:only-of-type {\n",
       "        vertical-align: middle;\n",
       "    }\n",
       "\n",
       "    .dataframe tbody tr th {\n",
       "        vertical-align: top;\n",
       "    }\n",
       "\n",
       "    .dataframe thead th {\n",
       "        text-align: right;\n",
       "    }\n",
       "</style>\n",
       "<table border=\"1\" class=\"dataframe\">\n",
       "  <thead>\n",
       "    <tr style=\"text-align: right;\">\n",
       "      <th></th>\n",
       "      <th>sin_func</th>\n",
       "    </tr>\n",
       "  </thead>\n",
       "  <tbody>\n",
       "    <tr>\n",
       "      <th>0</th>\n",
       "      <td>-0.713888</td>\n",
       "    </tr>\n",
       "    <tr>\n",
       "      <th>1</th>\n",
       "      <td>-0.700260</td>\n",
       "    </tr>\n",
       "    <tr>\n",
       "      <th>2</th>\n",
       "      <td>0.074586</td>\n",
       "    </tr>\n",
       "    <tr>\n",
       "      <th>3</th>\n",
       "      <td>-0.175148</td>\n",
       "    </tr>\n",
       "    <tr>\n",
       "      <th>4</th>\n",
       "      <td>-0.008753</td>\n",
       "    </tr>\n",
       "  </tbody>\n",
       "</table>\n",
       "</div>"
      ],
      "text/plain": [
       "   sin_func\n",
       "0 -0.713888\n",
       "1 -0.700260\n",
       "2  0.074586\n",
       "3 -0.175148\n",
       "4 -0.008753"
      ]
     },
     "execution_count": 42,
     "metadata": {},
     "output_type": "execute_result"
    }
   ],
   "source": [
    "ini_sin = np.append(np.append(theta,LR_O1.coef_[:d2]), LR_O1.intercept_)\n",
    "d = {'sin_func':ini_sin}\n",
    "ini_sin = pd.DataFrame(d)\n",
    "ini_sin"
   ]
  },
  {
   "cell_type": "code",
   "execution_count": 43,
   "id": "d25a8b33",
   "metadata": {},
   "outputs": [
    {
     "data": {
      "text/plain": [
       "array([-0.7138883 , -0.70025959,  0.07458612, -0.17514771, -0.00875318,\n",
       "        0.07458612])"
      ]
     },
     "execution_count": 43,
     "metadata": {},
     "output_type": "execute_result"
    }
   ],
   "source": [
    "ini_scaled_sin = np.append(np.append(theta, LR_O1.coef_[:d2]),([LR_O1.intercept_], [LR_O1.coef_[0]]))\n",
    "ini_scaled_sin"
   ]
  },
  {
   "cell_type": "code",
   "execution_count": 44,
   "id": "0ad4d32c",
   "metadata": {},
   "outputs": [
    {
     "data": {
      "text/html": [
       "<div>\n",
       "<style scoped>\n",
       "    .dataframe tbody tr th:only-of-type {\n",
       "        vertical-align: middle;\n",
       "    }\n",
       "\n",
       "    .dataframe tbody tr th {\n",
       "        vertical-align: top;\n",
       "    }\n",
       "\n",
       "    .dataframe thead th {\n",
       "        text-align: right;\n",
       "    }\n",
       "</style>\n",
       "<table border=\"1\" class=\"dataframe\">\n",
       "  <thead>\n",
       "    <tr style=\"text-align: right;\">\n",
       "      <th></th>\n",
       "      <th>scaled_sin_func</th>\n",
       "    </tr>\n",
       "  </thead>\n",
       "  <tbody>\n",
       "    <tr>\n",
       "      <th>0</th>\n",
       "      <td>-0.713888</td>\n",
       "    </tr>\n",
       "    <tr>\n",
       "      <th>1</th>\n",
       "      <td>-0.700260</td>\n",
       "    </tr>\n",
       "    <tr>\n",
       "      <th>2</th>\n",
       "      <td>0.074586</td>\n",
       "    </tr>\n",
       "    <tr>\n",
       "      <th>3</th>\n",
       "      <td>-0.175148</td>\n",
       "    </tr>\n",
       "    <tr>\n",
       "      <th>4</th>\n",
       "      <td>-0.008753</td>\n",
       "    </tr>\n",
       "    <tr>\n",
       "      <th>5</th>\n",
       "      <td>0.074586</td>\n",
       "    </tr>\n",
       "  </tbody>\n",
       "</table>\n",
       "</div>"
      ],
      "text/plain": [
       "   scaled_sin_func\n",
       "0        -0.713888\n",
       "1        -0.700260\n",
       "2         0.074586\n",
       "3        -0.175148\n",
       "4        -0.008753\n",
       "5         0.074586"
      ]
     },
     "execution_count": 44,
     "metadata": {},
     "output_type": "execute_result"
    }
   ],
   "source": [
    "d = {'scaled_sin_func':ini_scaled_sin}\n",
    "ini_scaled_sin = pd.DataFrame(d)\n",
    "ini_scaled_sin"
   ]
  },
  {
   "cell_type": "markdown",
   "id": "b8247674",
   "metadata": {},
   "source": [
    "#### 2nd order Taylor"
   ]
  },
  {
   "cell_type": "code",
   "execution_count": 45,
   "id": "f5573f91",
   "metadata": {},
   "outputs": [
    {
     "data": {
      "text/html": [
       "<div>\n",
       "<style scoped>\n",
       "    .dataframe tbody tr th:only-of-type {\n",
       "        vertical-align: middle;\n",
       "    }\n",
       "\n",
       "    .dataframe tbody tr th {\n",
       "        vertical-align: top;\n",
       "    }\n",
       "\n",
       "    .dataframe thead th {\n",
       "        text-align: right;\n",
       "    }\n",
       "</style>\n",
       "<table border=\"1\" class=\"dataframe\">\n",
       "  <thead>\n",
       "    <tr style=\"text-align: right;\">\n",
       "      <th></th>\n",
       "      <th>y_lag</th>\n",
       "      <th>cay</th>\n",
       "      <th>u</th>\n",
       "      <th>u2</th>\n",
       "    </tr>\n",
       "    <tr>\n",
       "      <th>time</th>\n",
       "      <th></th>\n",
       "      <th></th>\n",
       "      <th></th>\n",
       "      <th></th>\n",
       "    </tr>\n",
       "  </thead>\n",
       "  <tbody>\n",
       "    <tr>\n",
       "      <th>1956-06-01</th>\n",
       "      <td>0.066512</td>\n",
       "      <td>0.000775</td>\n",
       "      <td>4.634716</td>\n",
       "      <td>21.480589</td>\n",
       "    </tr>\n",
       "    <tr>\n",
       "      <th>1956-09-01</th>\n",
       "      <td>-0.028264</td>\n",
       "      <td>0.000663</td>\n",
       "      <td>4.556420</td>\n",
       "      <td>20.760961</td>\n",
       "    </tr>\n",
       "    <tr>\n",
       "      <th>1956-12-01</th>\n",
       "      <td>-0.034415</td>\n",
       "      <td>-0.002524</td>\n",
       "      <td>4.631347</td>\n",
       "      <td>21.449376</td>\n",
       "    </tr>\n",
       "  </tbody>\n",
       "</table>\n",
       "</div>"
      ],
      "text/plain": [
       "               y_lag       cay         u         u2\n",
       "time                                               \n",
       "1956-06-01  0.066512  0.000775  4.634716  21.480589\n",
       "1956-09-01 -0.028264  0.000663  4.556420  20.760961\n",
       "1956-12-01 -0.034415 -0.002524  4.631347  21.449376"
      ]
     },
     "execution_count": 45,
     "metadata": {},
     "output_type": "execute_result"
    }
   ],
   "source": [
    "X_order2 = X_order1\n",
    "X_order2['u2'] = u**2\n",
    "X_order2.head(3)"
   ]
  },
  {
   "cell_type": "code",
   "execution_count": 46,
   "id": "78fa50db",
   "metadata": {},
   "outputs": [],
   "source": [
    "LR_O2 = LR.fit(X_order2, y)"
   ]
  },
  {
   "cell_type": "markdown",
   "id": "5e6766b7",
   "metadata": {},
   "source": [
    "#### Initials for cos_func and scaled_cos_func"
   ]
  },
  {
   "cell_type": "code",
   "execution_count": 47,
   "id": "92b62146",
   "metadata": {},
   "outputs": [
    {
     "data": {
      "text/html": [
       "<div>\n",
       "<style scoped>\n",
       "    .dataframe tbody tr th:only-of-type {\n",
       "        vertical-align: middle;\n",
       "    }\n",
       "\n",
       "    .dataframe tbody tr th {\n",
       "        vertical-align: top;\n",
       "    }\n",
       "\n",
       "    .dataframe thead th {\n",
       "        text-align: right;\n",
       "    }\n",
       "</style>\n",
       "<table border=\"1\" class=\"dataframe\">\n",
       "  <thead>\n",
       "    <tr style=\"text-align: right;\">\n",
       "      <th></th>\n",
       "      <th>cos_func</th>\n",
       "    </tr>\n",
       "  </thead>\n",
       "  <tbody>\n",
       "    <tr>\n",
       "      <th>0</th>\n",
       "      <td>-0.713888</td>\n",
       "    </tr>\n",
       "    <tr>\n",
       "      <th>1</th>\n",
       "      <td>-0.700260</td>\n",
       "    </tr>\n",
       "    <tr>\n",
       "      <th>2</th>\n",
       "      <td>0.068108</td>\n",
       "    </tr>\n",
       "    <tr>\n",
       "      <th>3</th>\n",
       "      <td>-0.148068</td>\n",
       "    </tr>\n",
       "    <tr>\n",
       "      <th>4</th>\n",
       "      <td>-0.119544</td>\n",
       "    </tr>\n",
       "  </tbody>\n",
       "</table>\n",
       "</div>"
      ],
      "text/plain": [
       "   cos_func\n",
       "0 -0.713888\n",
       "1 -0.700260\n",
       "2  0.068108\n",
       "3 -0.148068\n",
       "4 -0.119544"
      ]
     },
     "execution_count": 47,
     "metadata": {},
     "output_type": "execute_result"
    }
   ],
   "source": [
    "ini_cos = np.append(np.append(theta,LR_O2.coef_[:d2]), [-LR_O2.coef_[d2]])\n",
    "d = {'cos_func':ini_cos}\n",
    "ini_cos = pd.DataFrame(d)\n",
    "ini_cos"
   ]
  },
  {
   "cell_type": "code",
   "execution_count": 48,
   "id": "fe9b4aa2",
   "metadata": {},
   "outputs": [
    {
     "data": {
      "text/plain": [
       "array([-0.7138883 , -0.70025959,  0.0681076 , -0.14806838, -0.79623137,\n",
       "        0.15013681])"
      ]
     },
     "execution_count": 48,
     "metadata": {},
     "output_type": "execute_result"
    }
   ],
   "source": [
    "ini_scaled_cos = np.append(np.append(theta, LR_O2.coef_[:d2]),([-LR_O2.coef_[2]/np.sqrt(\n",
    "    -2*LR_O2.coef_[3])], [np.sqrt(-2*LR_O2.coef_[3])]))\n",
    "ini_scaled_cos"
   ]
  },
  {
   "cell_type": "code",
   "execution_count": 49,
   "id": "dd83ffc2",
   "metadata": {},
   "outputs": [
    {
     "data": {
      "text/html": [
       "<div>\n",
       "<style scoped>\n",
       "    .dataframe tbody tr th:only-of-type {\n",
       "        vertical-align: middle;\n",
       "    }\n",
       "\n",
       "    .dataframe tbody tr th {\n",
       "        vertical-align: top;\n",
       "    }\n",
       "\n",
       "    .dataframe thead th {\n",
       "        text-align: right;\n",
       "    }\n",
       "</style>\n",
       "<table border=\"1\" class=\"dataframe\">\n",
       "  <thead>\n",
       "    <tr style=\"text-align: right;\">\n",
       "      <th></th>\n",
       "      <th>scaled_cos_func</th>\n",
       "    </tr>\n",
       "  </thead>\n",
       "  <tbody>\n",
       "    <tr>\n",
       "      <th>0</th>\n",
       "      <td>-0.713888</td>\n",
       "    </tr>\n",
       "    <tr>\n",
       "      <th>1</th>\n",
       "      <td>-0.700260</td>\n",
       "    </tr>\n",
       "    <tr>\n",
       "      <th>2</th>\n",
       "      <td>0.068108</td>\n",
       "    </tr>\n",
       "    <tr>\n",
       "      <th>3</th>\n",
       "      <td>-0.148068</td>\n",
       "    </tr>\n",
       "    <tr>\n",
       "      <th>4</th>\n",
       "      <td>-0.796231</td>\n",
       "    </tr>\n",
       "    <tr>\n",
       "      <th>5</th>\n",
       "      <td>0.150137</td>\n",
       "    </tr>\n",
       "  </tbody>\n",
       "</table>\n",
       "</div>"
      ],
      "text/plain": [
       "   scaled_cos_func\n",
       "0        -0.713888\n",
       "1        -0.700260\n",
       "2         0.068108\n",
       "3        -0.148068\n",
       "4        -0.796231\n",
       "5         0.150137"
      ]
     },
     "execution_count": 49,
     "metadata": {},
     "output_type": "execute_result"
    }
   ],
   "source": [
    "d = {'scaled_cos_func':ini_scaled_cos}\n",
    "ini_scaled_cos = pd.DataFrame(d)\n",
    "ini_scaled_cos"
   ]
  },
  {
   "cell_type": "markdown",
   "id": "e5a7687c",
   "metadata": {},
   "source": [
    "#### Initials for poly_func"
   ]
  },
  {
   "cell_type": "code",
   "execution_count": 50,
   "id": "32c27cd6",
   "metadata": {},
   "outputs": [
    {
     "data": {
      "text/plain": [
       "array([-0.7138883 , -0.70025959,  0.0681076 , -0.14806838, -0.3015171 ,\n",
       "        0.11954364, -0.01127053])"
      ]
     },
     "execution_count": 50,
     "metadata": {},
     "output_type": "execute_result"
    }
   ],
   "source": [
    "ini_poly = np.append(np.append(theta, LR_O2.coef_[:d2]),LR_O2.coef_[d2:])\n",
    "ini_poly = np.insert(ini_poly, 4, LR_O2.intercept_)\n",
    "ini_poly"
   ]
  },
  {
   "cell_type": "code",
   "execution_count": 51,
   "id": "a2c63125",
   "metadata": {},
   "outputs": [
    {
     "data": {
      "text/html": [
       "<div>\n",
       "<style scoped>\n",
       "    .dataframe tbody tr th:only-of-type {\n",
       "        vertical-align: middle;\n",
       "    }\n",
       "\n",
       "    .dataframe tbody tr th {\n",
       "        vertical-align: top;\n",
       "    }\n",
       "\n",
       "    .dataframe thead th {\n",
       "        text-align: right;\n",
       "    }\n",
       "</style>\n",
       "<table border=\"1\" class=\"dataframe\">\n",
       "  <thead>\n",
       "    <tr style=\"text-align: right;\">\n",
       "      <th></th>\n",
       "      <th>poly_func</th>\n",
       "    </tr>\n",
       "  </thead>\n",
       "  <tbody>\n",
       "    <tr>\n",
       "      <th>0</th>\n",
       "      <td>-0.713888</td>\n",
       "    </tr>\n",
       "    <tr>\n",
       "      <th>1</th>\n",
       "      <td>-0.700260</td>\n",
       "    </tr>\n",
       "    <tr>\n",
       "      <th>2</th>\n",
       "      <td>0.068108</td>\n",
       "    </tr>\n",
       "    <tr>\n",
       "      <th>3</th>\n",
       "      <td>-0.148068</td>\n",
       "    </tr>\n",
       "    <tr>\n",
       "      <th>4</th>\n",
       "      <td>-0.301517</td>\n",
       "    </tr>\n",
       "    <tr>\n",
       "      <th>5</th>\n",
       "      <td>0.119544</td>\n",
       "    </tr>\n",
       "    <tr>\n",
       "      <th>6</th>\n",
       "      <td>-0.011271</td>\n",
       "    </tr>\n",
       "  </tbody>\n",
       "</table>\n",
       "</div>"
      ],
      "text/plain": [
       "   poly_func\n",
       "0  -0.713888\n",
       "1  -0.700260\n",
       "2   0.068108\n",
       "3  -0.148068\n",
       "4  -0.301517\n",
       "5   0.119544\n",
       "6  -0.011271"
      ]
     },
     "execution_count": 51,
     "metadata": {},
     "output_type": "execute_result"
    }
   ],
   "source": [
    "d = {'poly_func':ini_poly}\n",
    "ini_poly = pd.DataFrame(d)\n",
    "ini_poly"
   ]
  },
  {
   "cell_type": "markdown",
   "id": "f41ae369",
   "metadata": {},
   "source": [
    "#### 4st Taylor"
   ]
  },
  {
   "cell_type": "code",
   "execution_count": 52,
   "id": "f8053397",
   "metadata": {},
   "outputs": [
    {
     "data": {
      "text/html": [
       "<div>\n",
       "<style scoped>\n",
       "    .dataframe tbody tr th:only-of-type {\n",
       "        vertical-align: middle;\n",
       "    }\n",
       "\n",
       "    .dataframe tbody tr th {\n",
       "        vertical-align: top;\n",
       "    }\n",
       "\n",
       "    .dataframe thead th {\n",
       "        text-align: right;\n",
       "    }\n",
       "</style>\n",
       "<table border=\"1\" class=\"dataframe\">\n",
       "  <thead>\n",
       "    <tr style=\"text-align: right;\">\n",
       "      <th></th>\n",
       "      <th>y_lag</th>\n",
       "      <th>cay</th>\n",
       "      <th>u</th>\n",
       "      <th>u2</th>\n",
       "      <th>u3</th>\n",
       "      <th>u4</th>\n",
       "    </tr>\n",
       "    <tr>\n",
       "      <th>time</th>\n",
       "      <th></th>\n",
       "      <th></th>\n",
       "      <th></th>\n",
       "      <th></th>\n",
       "      <th></th>\n",
       "      <th></th>\n",
       "    </tr>\n",
       "  </thead>\n",
       "  <tbody>\n",
       "    <tr>\n",
       "      <th>1956-06-01</th>\n",
       "      <td>0.066512</td>\n",
       "      <td>0.000775</td>\n",
       "      <td>4.634716</td>\n",
       "      <td>21.480589</td>\n",
       "      <td>99.556425</td>\n",
       "      <td>461.415725</td>\n",
       "    </tr>\n",
       "    <tr>\n",
       "      <th>1956-09-01</th>\n",
       "      <td>-0.028264</td>\n",
       "      <td>0.000663</td>\n",
       "      <td>4.556420</td>\n",
       "      <td>20.760961</td>\n",
       "      <td>94.595654</td>\n",
       "      <td>431.017506</td>\n",
       "    </tr>\n",
       "    <tr>\n",
       "      <th>1956-12-01</th>\n",
       "      <td>-0.034415</td>\n",
       "      <td>-0.002524</td>\n",
       "      <td>4.631347</td>\n",
       "      <td>21.449376</td>\n",
       "      <td>99.339504</td>\n",
       "      <td>460.075723</td>\n",
       "    </tr>\n",
       "  </tbody>\n",
       "</table>\n",
       "</div>"
      ],
      "text/plain": [
       "               y_lag       cay         u         u2         u3          u4\n",
       "time                                                                      \n",
       "1956-06-01  0.066512  0.000775  4.634716  21.480589  99.556425  461.415725\n",
       "1956-09-01 -0.028264  0.000663  4.556420  20.760961  94.595654  431.017506\n",
       "1956-12-01 -0.034415 -0.002524  4.631347  21.449376  99.339504  460.075723"
      ]
     },
     "execution_count": 52,
     "metadata": {},
     "output_type": "execute_result"
    }
   ],
   "source": [
    "X_order4 = X_order2\n",
    "X_order4['u3'], X_order4['u4'] = u**3, u**4\n",
    "X_order4.head(3)"
   ]
  },
  {
   "cell_type": "code",
   "execution_count": 53,
   "id": "28db6c1e",
   "metadata": {},
   "outputs": [],
   "source": [
    "LR_O4 = LR.fit(X_order4, y)"
   ]
  },
  {
   "cell_type": "code",
   "execution_count": 54,
   "id": "179daba5",
   "metadata": {},
   "outputs": [
    {
     "data": {
      "text/plain": [
       "[1.489849622076274, -1.0219284963691389]"
      ]
     },
     "execution_count": 54,
     "metadata": {},
     "output_type": "execute_result"
    }
   ],
   "source": [
    "gamma = [-LR_O4.coef_[2]/2*LR_O4.coef_[3], LR_O4.coef_[3]]\n",
    "gamma"
   ]
  },
  {
   "cell_type": "markdown",
   "id": "bdef866b",
   "metadata": {},
   "source": [
    "#### Initials for exp_shift_func"
   ]
  },
  {
   "cell_type": "code",
   "execution_count": 55,
   "id": "8b774710",
   "metadata": {},
   "outputs": [
    {
     "data": {
      "text/html": [
       "<div>\n",
       "<style scoped>\n",
       "    .dataframe tbody tr th:only-of-type {\n",
       "        vertical-align: middle;\n",
       "    }\n",
       "\n",
       "    .dataframe tbody tr th {\n",
       "        vertical-align: top;\n",
       "    }\n",
       "\n",
       "    .dataframe thead th {\n",
       "        text-align: right;\n",
       "    }\n",
       "</style>\n",
       "<table border=\"1\" class=\"dataframe\">\n",
       "  <thead>\n",
       "    <tr style=\"text-align: right;\">\n",
       "      <th></th>\n",
       "      <th>exp_shift_func</th>\n",
       "    </tr>\n",
       "  </thead>\n",
       "  <tbody>\n",
       "    <tr>\n",
       "      <th>0</th>\n",
       "      <td>-0.713888</td>\n",
       "    </tr>\n",
       "    <tr>\n",
       "      <th>1</th>\n",
       "      <td>-0.700260</td>\n",
       "    </tr>\n",
       "    <tr>\n",
       "      <th>2</th>\n",
       "      <td>0.068523</td>\n",
       "    </tr>\n",
       "    <tr>\n",
       "      <th>3</th>\n",
       "      <td>-0.110023</td>\n",
       "    </tr>\n",
       "    <tr>\n",
       "      <th>4</th>\n",
       "      <td>1.489850</td>\n",
       "    </tr>\n",
       "    <tr>\n",
       "      <th>5</th>\n",
       "      <td>-1.021928</td>\n",
       "    </tr>\n",
       "  </tbody>\n",
       "</table>\n",
       "</div>"
      ],
      "text/plain": [
       "   exp_shift_func\n",
       "0       -0.713888\n",
       "1       -0.700260\n",
       "2        0.068523\n",
       "3       -0.110023\n",
       "4        1.489850\n",
       "5       -1.021928"
      ]
     },
     "execution_count": 55,
     "metadata": {},
     "output_type": "execute_result"
    }
   ],
   "source": [
    "ini_exp_shift = np.append(np.append(theta, LR_O4.coef_[:d2]), gamma)\n",
    "d = {'exp_shift_func':ini_exp_shift}\n",
    "ini_exp_shift = pd.DataFrame(d)\n",
    "ini_exp_shift"
   ]
  },
  {
   "cell_type": "markdown",
   "id": "bca90aa5",
   "metadata": {},
   "source": [
    "#### 6st Taylor"
   ]
  },
  {
   "cell_type": "code",
   "execution_count": 56,
   "id": "bd78b04a",
   "metadata": {},
   "outputs": [],
   "source": [
    "X_order6 = X_order4\n",
    "X_order6['u6'] = u**6\n",
    "X_order6 = X_order6.drop(['u','u3'], axis = 1)"
   ]
  },
  {
   "cell_type": "code",
   "execution_count": 57,
   "id": "661adef1",
   "metadata": {},
   "outputs": [
    {
     "data": {
      "text/html": [
       "<div>\n",
       "<style scoped>\n",
       "    .dataframe tbody tr th:only-of-type {\n",
       "        vertical-align: middle;\n",
       "    }\n",
       "\n",
       "    .dataframe tbody tr th {\n",
       "        vertical-align: top;\n",
       "    }\n",
       "\n",
       "    .dataframe thead th {\n",
       "        text-align: right;\n",
       "    }\n",
       "</style>\n",
       "<table border=\"1\" class=\"dataframe\">\n",
       "  <thead>\n",
       "    <tr style=\"text-align: right;\">\n",
       "      <th></th>\n",
       "      <th>y_lag</th>\n",
       "      <th>cay</th>\n",
       "      <th>u2</th>\n",
       "      <th>u4</th>\n",
       "      <th>u6</th>\n",
       "    </tr>\n",
       "    <tr>\n",
       "      <th>time</th>\n",
       "      <th></th>\n",
       "      <th></th>\n",
       "      <th></th>\n",
       "      <th></th>\n",
       "      <th></th>\n",
       "    </tr>\n",
       "  </thead>\n",
       "  <tbody>\n",
       "    <tr>\n",
       "      <th>1956-06-01</th>\n",
       "      <td>0.066512</td>\n",
       "      <td>0.000775</td>\n",
       "      <td>21.480589</td>\n",
       "      <td>461.415725</td>\n",
       "      <td>9911.481777</td>\n",
       "    </tr>\n",
       "    <tr>\n",
       "      <th>1956-09-01</th>\n",
       "      <td>-0.028264</td>\n",
       "      <td>0.000663</td>\n",
       "      <td>20.760961</td>\n",
       "      <td>431.017506</td>\n",
       "      <td>8948.337673</td>\n",
       "    </tr>\n",
       "    <tr>\n",
       "      <th>1956-12-01</th>\n",
       "      <td>-0.034415</td>\n",
       "      <td>-0.002524</td>\n",
       "      <td>21.449376</td>\n",
       "      <td>460.075723</td>\n",
       "      <td>9868.337099</td>\n",
       "    </tr>\n",
       "  </tbody>\n",
       "</table>\n",
       "</div>"
      ],
      "text/plain": [
       "               y_lag       cay         u2          u4           u6\n",
       "time                                                              \n",
       "1956-06-01  0.066512  0.000775  21.480589  461.415725  9911.481777\n",
       "1956-09-01 -0.028264  0.000663  20.760961  431.017506  8948.337673\n",
       "1956-12-01 -0.034415 -0.002524  21.449376  460.075723  9868.337099"
      ]
     },
     "execution_count": 57,
     "metadata": {},
     "output_type": "execute_result"
    }
   ],
   "source": [
    "X_order6.head(3)"
   ]
  },
  {
   "cell_type": "code",
   "execution_count": 58,
   "id": "261da53c",
   "metadata": {},
   "outputs": [],
   "source": [
    "LR_O6 = LR.fit(X_order6, y)"
   ]
  },
  {
   "cell_type": "code",
   "execution_count": 59,
   "id": "ee4317a0",
   "metadata": {},
   "outputs": [
    {
     "data": {
      "text/plain": [
       "[0.28827362829118247, 0.12687223534386796]"
      ]
     },
     "execution_count": 59,
     "metadata": {},
     "output_type": "execute_result"
    }
   ],
   "source": [
    "gamma = [LR_O6.intercept_, -LR_O4.coef_[2]/LR_O6.intercept_]\n",
    "gamma"
   ]
  },
  {
   "cell_type": "markdown",
   "id": "a94a2758",
   "metadata": {},
   "source": [
    "#### Initials for exp_func"
   ]
  },
  {
   "cell_type": "code",
   "execution_count": null,
   "id": "b94a3630",
   "metadata": {},
   "outputs": [],
   "source": [
    "ini_exp = np.append(np.append(theta, LR_O6.coef_[:d2]), gamma)"
   ]
  },
  {
   "cell_type": "code",
   "execution_count": 60,
   "id": "cd420579",
   "metadata": {},
   "outputs": [
    {
     "data": {
      "text/html": [
       "<div>\n",
       "<style scoped>\n",
       "    .dataframe tbody tr th:only-of-type {\n",
       "        vertical-align: middle;\n",
       "    }\n",
       "\n",
       "    .dataframe tbody tr th {\n",
       "        vertical-align: top;\n",
       "    }\n",
       "\n",
       "    .dataframe thead th {\n",
       "        text-align: right;\n",
       "    }\n",
       "</style>\n",
       "<table border=\"1\" class=\"dataframe\">\n",
       "  <thead>\n",
       "    <tr style=\"text-align: right;\">\n",
       "      <th></th>\n",
       "      <th>exp_func</th>\n",
       "    </tr>\n",
       "  </thead>\n",
       "  <tbody>\n",
       "    <tr>\n",
       "      <th>0</th>\n",
       "      <td>-0.713888</td>\n",
       "    </tr>\n",
       "    <tr>\n",
       "      <th>1</th>\n",
       "      <td>-0.700260</td>\n",
       "    </tr>\n",
       "    <tr>\n",
       "      <th>2</th>\n",
       "      <td>0.068683</td>\n",
       "    </tr>\n",
       "    <tr>\n",
       "      <th>3</th>\n",
       "      <td>-0.108124</td>\n",
       "    </tr>\n",
       "    <tr>\n",
       "      <th>4</th>\n",
       "      <td>0.288274</td>\n",
       "    </tr>\n",
       "    <tr>\n",
       "      <th>5</th>\n",
       "      <td>0.126872</td>\n",
       "    </tr>\n",
       "  </tbody>\n",
       "</table>\n",
       "</div>"
      ],
      "text/plain": [
       "   exp_func\n",
       "0 -0.713888\n",
       "1 -0.700260\n",
       "2  0.068683\n",
       "3 -0.108124\n",
       "4  0.288274\n",
       "5  0.126872"
      ]
     },
     "execution_count": 60,
     "metadata": {},
     "output_type": "execute_result"
    }
   ],
   "source": [
    "ini_exp = np.append(np.append(theta, LR_O6.coef_[:d2]), [LR_O6.intercept_, -LR_O4.coef_[2]/LR_O6.intercept_])\n",
    "d = {'exp_func':ini_exp}\n",
    "ini_exp = pd.DataFrame(d)\n",
    "ini_exp"
   ]
  },
  {
   "cell_type": "code",
   "execution_count": 61,
   "id": "f873938f",
   "metadata": {},
   "outputs": [
    {
     "data": {
      "text/html": [
       "<div>\n",
       "<style scoped>\n",
       "    .dataframe tbody tr th:only-of-type {\n",
       "        vertical-align: middle;\n",
       "    }\n",
       "\n",
       "    .dataframe tbody tr th {\n",
       "        vertical-align: top;\n",
       "    }\n",
       "\n",
       "    .dataframe thead th {\n",
       "        text-align: right;\n",
       "    }\n",
       "</style>\n",
       "<table border=\"1\" class=\"dataframe\">\n",
       "  <thead>\n",
       "    <tr style=\"text-align: right;\">\n",
       "      <th></th>\n",
       "      <th>sin_func</th>\n",
       "      <th>cos_func</th>\n",
       "      <th>scaled_sin_func</th>\n",
       "      <th>scaled_cos_func</th>\n",
       "      <th>exp_shift_func</th>\n",
       "      <th>exp_func</th>\n",
       "      <th>poly_func</th>\n",
       "    </tr>\n",
       "  </thead>\n",
       "  <tbody>\n",
       "    <tr>\n",
       "      <th>0</th>\n",
       "      <td>-0.713888</td>\n",
       "      <td>-0.713888</td>\n",
       "      <td>-0.713888</td>\n",
       "      <td>-0.713888</td>\n",
       "      <td>-0.713888</td>\n",
       "      <td>-0.713888</td>\n",
       "      <td>-0.713888</td>\n",
       "    </tr>\n",
       "    <tr>\n",
       "      <th>1</th>\n",
       "      <td>-0.700260</td>\n",
       "      <td>-0.700260</td>\n",
       "      <td>-0.700260</td>\n",
       "      <td>-0.700260</td>\n",
       "      <td>-0.700260</td>\n",
       "      <td>-0.700260</td>\n",
       "      <td>-0.700260</td>\n",
       "    </tr>\n",
       "    <tr>\n",
       "      <th>2</th>\n",
       "      <td>0.074586</td>\n",
       "      <td>0.068108</td>\n",
       "      <td>0.074586</td>\n",
       "      <td>0.068108</td>\n",
       "      <td>0.068523</td>\n",
       "      <td>0.068683</td>\n",
       "      <td>0.068108</td>\n",
       "    </tr>\n",
       "    <tr>\n",
       "      <th>3</th>\n",
       "      <td>-0.175148</td>\n",
       "      <td>-0.148068</td>\n",
       "      <td>-0.175148</td>\n",
       "      <td>-0.148068</td>\n",
       "      <td>-0.110023</td>\n",
       "      <td>-0.108124</td>\n",
       "      <td>-0.148068</td>\n",
       "    </tr>\n",
       "    <tr>\n",
       "      <th>4</th>\n",
       "      <td>-0.008753</td>\n",
       "      <td>-0.119544</td>\n",
       "      <td>-0.008753</td>\n",
       "      <td>-0.796231</td>\n",
       "      <td>1.489850</td>\n",
       "      <td>0.288274</td>\n",
       "      <td>-0.301517</td>\n",
       "    </tr>\n",
       "    <tr>\n",
       "      <th>5</th>\n",
       "      <td>NaN</td>\n",
       "      <td>NaN</td>\n",
       "      <td>0.074586</td>\n",
       "      <td>0.150137</td>\n",
       "      <td>-1.021928</td>\n",
       "      <td>0.126872</td>\n",
       "      <td>0.119544</td>\n",
       "    </tr>\n",
       "    <tr>\n",
       "      <th>6</th>\n",
       "      <td>NaN</td>\n",
       "      <td>NaN</td>\n",
       "      <td>NaN</td>\n",
       "      <td>NaN</td>\n",
       "      <td>NaN</td>\n",
       "      <td>NaN</td>\n",
       "      <td>-0.011271</td>\n",
       "    </tr>\n",
       "  </tbody>\n",
       "</table>\n",
       "</div>"
      ],
      "text/plain": [
       "   sin_func  cos_func  scaled_sin_func  scaled_cos_func  exp_shift_func  \\\n",
       "0 -0.713888 -0.713888        -0.713888        -0.713888       -0.713888   \n",
       "1 -0.700260 -0.700260        -0.700260        -0.700260       -0.700260   \n",
       "2  0.074586  0.068108         0.074586         0.068108        0.068523   \n",
       "3 -0.175148 -0.148068        -0.175148        -0.148068       -0.110023   \n",
       "4 -0.008753 -0.119544        -0.008753        -0.796231        1.489850   \n",
       "5       NaN       NaN         0.074586         0.150137       -1.021928   \n",
       "6       NaN       NaN              NaN              NaN             NaN   \n",
       "\n",
       "   exp_func  poly_func  \n",
       "0 -0.713888  -0.713888  \n",
       "1 -0.700260  -0.700260  \n",
       "2  0.068683   0.068108  \n",
       "3 -0.108124  -0.148068  \n",
       "4  0.288274  -0.301517  \n",
       "5  0.126872   0.119544  \n",
       "6       NaN  -0.011271  "
      ]
     },
     "execution_count": 61,
     "metadata": {},
     "output_type": "execute_result"
    }
   ],
   "source": [
    "dfs = [ini_sin, ini_cos, ini_scaled_sin, ini_scaled_cos, ini_exp_shift, ini_exp, ini_poly]\n",
    "taylor_init = pd.concat(dfs, axis=1)\n",
    "taylor_init"
   ]
  },
  {
   "cell_type": "markdown",
   "id": "ae998988",
   "metadata": {},
   "source": [
    "### Fit model and Save Results"
   ]
  },
  {
   "cell_type": "code",
   "execution_count": 62,
   "id": "f8bc40e9",
   "metadata": {},
   "outputs": [
    {
     "data": {
      "text/html": [
       "<div>\n",
       "<style scoped>\n",
       "    .dataframe tbody tr th:only-of-type {\n",
       "        vertical-align: middle;\n",
       "    }\n",
       "\n",
       "    .dataframe tbody tr th {\n",
       "        vertical-align: top;\n",
       "    }\n",
       "\n",
       "    .dataframe thead tr th {\n",
       "        text-align: left;\n",
       "    }\n",
       "\n",
       "    .dataframe thead tr:last-of-type th {\n",
       "        text-align: right;\n",
       "    }\n",
       "</style>\n",
       "<table border=\"1\" class=\"dataframe\">\n",
       "  <thead>\n",
       "    <tr>\n",
       "      <th></th>\n",
       "      <th>Estimator</th>\n",
       "      <th colspan=\"7\" halign=\"left\">CLS</th>\n",
       "      <th colspan=\"7\" halign=\"left\">NLS</th>\n",
       "    </tr>\n",
       "    <tr>\n",
       "      <th></th>\n",
       "      <th>Parameters</th>\n",
       "      <th>param_1</th>\n",
       "      <th>param_2</th>\n",
       "      <th>param_3</th>\n",
       "      <th>param_4</th>\n",
       "      <th>param_5</th>\n",
       "      <th>param_6</th>\n",
       "      <th>param_7</th>\n",
       "      <th>param_1</th>\n",
       "      <th>param_2</th>\n",
       "      <th>param_3</th>\n",
       "      <th>param_4</th>\n",
       "      <th>param_5</th>\n",
       "      <th>param_6</th>\n",
       "      <th>param_7</th>\n",
       "    </tr>\n",
       "    <tr>\n",
       "      <th>function</th>\n",
       "      <th>variables</th>\n",
       "      <th></th>\n",
       "      <th></th>\n",
       "      <th></th>\n",
       "      <th></th>\n",
       "      <th></th>\n",
       "      <th></th>\n",
       "      <th></th>\n",
       "      <th></th>\n",
       "      <th></th>\n",
       "      <th></th>\n",
       "      <th></th>\n",
       "      <th></th>\n",
       "      <th></th>\n",
       "      <th></th>\n",
       "    </tr>\n",
       "  </thead>\n",
       "  <tbody>\n",
       "    <tr>\n",
       "      <th>exp_shift_func</th>\n",
       "      <th>co4</th>\n",
       "      <td>0.910574</td>\n",
       "      <td>-0.413347</td>\n",
       "      <td>0.071831</td>\n",
       "      <td>-0.108883</td>\n",
       "      <td>0.103539</td>\n",
       "      <td>-2.979366</td>\n",
       "      <td>NaN</td>\n",
       "      <td>2.551573</td>\n",
       "      <td>2.390207</td>\n",
       "      <td>0.074001</td>\n",
       "      <td>-0.10841</td>\n",
       "      <td>1.014999</td>\n",
       "      <td>-0.026481</td>\n",
       "      <td>NaN</td>\n",
       "    </tr>\n",
       "    <tr>\n",
       "      <th rowspan=\"4\" valign=\"top\">poly_func</th>\n",
       "      <th>co1</th>\n",
       "      <td>-0.713889</td>\n",
       "      <td>-0.700259</td>\n",
       "      <td>0.068108</td>\n",
       "      <td>-0.148068</td>\n",
       "      <td>-0.301517</td>\n",
       "      <td>0.119544</td>\n",
       "      <td>-0.011271</td>\n",
       "      <td>-0.713889</td>\n",
       "      <td>-0.700259</td>\n",
       "      <td>0.068108</td>\n",
       "      <td>-0.148068</td>\n",
       "      <td>-0.301517</td>\n",
       "      <td>0.119544</td>\n",
       "      <td>-0.011271</td>\n",
       "    </tr>\n",
       "    <tr>\n",
       "      <th>co2</th>\n",
       "      <td>-0.753511</td>\n",
       "      <td>0.657435</td>\n",
       "      <td>0.066707</td>\n",
       "      <td>-0.247565</td>\n",
       "      <td>0.004134</td>\n",
       "      <td>1.061836</td>\n",
       "      <td>-1.817768</td>\n",
       "      <td>-2.223548</td>\n",
       "      <td>1.981999</td>\n",
       "      <td>0.067084</td>\n",
       "      <td>-0.256923</td>\n",
       "      <td>0.004605</td>\n",
       "      <td>0.41972</td>\n",
       "      <td>-1.931044</td>\n",
       "    </tr>\n",
       "    <tr>\n",
       "      <th>co3</th>\n",
       "      <td>-0.980008</td>\n",
       "      <td>0.198959</td>\n",
       "      <td>0.034296</td>\n",
       "      <td>-0.159542</td>\n",
       "      <td>-0.827409</td>\n",
       "      <td>0.533388</td>\n",
       "      <td>-0.083326</td>\n",
       "      <td>-1.577195</td>\n",
       "      <td>0.321112</td>\n",
       "      <td>0.034126</td>\n",
       "      <td>-0.15964</td>\n",
       "      <td>-0.829506</td>\n",
       "      <td>0.332488</td>\n",
       "      <td>-0.032298</td>\n",
       "    </tr>\n",
       "    <tr>\n",
       "      <th>co4</th>\n",
       "      <td>0.639797</td>\n",
       "      <td>-0.768544</td>\n",
       "      <td>0.028411</td>\n",
       "      <td>0.231277</td>\n",
       "      <td>0.030052</td>\n",
       "      <td>0.07019</td>\n",
       "      <td>-1093.419622</td>\n",
       "      <td>6.212309</td>\n",
       "      <td>-7.462416</td>\n",
       "      <td>0.028392</td>\n",
       "      <td>0.229646</td>\n",
       "      <td>0.030016</td>\n",
       "      <td>0.006881</td>\n",
       "      <td>-11.591215</td>\n",
       "    </tr>\n",
       "  </tbody>\n",
       "</table>\n",
       "</div>"
      ],
      "text/plain": [
       "Estimator                      CLS                                          \\\n",
       "Parameters                 param_1   param_2   param_3   param_4   param_5   \n",
       "function       variables                                                     \n",
       "exp_shift_func co4        0.910574 -0.413347  0.071831 -0.108883  0.103539   \n",
       "poly_func      co1       -0.713889 -0.700259  0.068108 -0.148068 -0.301517   \n",
       "               co2       -0.753511  0.657435  0.066707 -0.247565  0.004134   \n",
       "               co3       -0.980008  0.198959  0.034296 -0.159542 -0.827409   \n",
       "               co4        0.639797 -0.768544  0.028411  0.231277  0.030052   \n",
       "\n",
       "Estimator                                             NLS                      \\\n",
       "Parameters                 param_6      param_7   param_1   param_2   param_3   \n",
       "function       variables                                                        \n",
       "exp_shift_func co4       -2.979366          NaN  2.551573  2.390207  0.074001   \n",
       "poly_func      co1        0.119544    -0.011271 -0.713889 -0.700259  0.068108   \n",
       "               co2        1.061836    -1.817768 -2.223548  1.981999  0.067084   \n",
       "               co3        0.533388    -0.083326 -1.577195  0.321112  0.034126   \n",
       "               co4         0.07019 -1093.419622  6.212309 -7.462416  0.028392   \n",
       "\n",
       "Estimator                                                          \n",
       "Parameters                 param_4   param_5   param_6    param_7  \n",
       "function       variables                                           \n",
       "exp_shift_func co4        -0.10841  1.014999 -0.026481        NaN  \n",
       "poly_func      co1       -0.148068 -0.301517  0.119544  -0.011271  \n",
       "               co2       -0.256923  0.004605   0.41972  -1.931044  \n",
       "               co3        -0.15964 -0.829506  0.332488  -0.032298  \n",
       "               co4        0.229646  0.030016  0.006881 -11.591215  "
      ]
     },
     "execution_count": 62,
     "metadata": {},
     "output_type": "execute_result"
    }
   ],
   "source": [
    "results_Taylor = pd.DataFrame()\n",
    "for i, j in itertools.product(fun_list, cointe_variables):\n",
    "    # Set up dimensions\n",
    "    d1, d2, extra= dimensions(j,station, i.__name__)\n",
    "    initial_len = d1+d2+extra[-1]+1\n",
    "    # Set up dataframes\n",
    "    iterables = [[i.__name__], [get_df_name(j)]]\n",
    "    sec_columns = ['param_'+str(i) for i in range(1,initial_len+1)]\n",
    "    multi_index = pd.MultiIndex.from_product(iterables, names=[\"function\", \"variables\"])\n",
    "    multi_columns = pd.MultiIndex.from_product([['NLS', 'CLS'], sec_columns],\n",
    "                                               names=['Estimator', 'Parameters'])\n",
    "    result = pd.DataFrame(index = multi_index, columns = multi_columns)\n",
    "    # Prepare X\n",
    "    X_ = j.join(station)\n",
    "    # Fit models\n",
    "    nls = CLS_Estimator(obj_func = i, x0 = taylor_init[i.__name__].dropna())\n",
    "    cls = CLS_Estimator(obj_func = i, x0 = taylor_init[i.__name__].dropna(), constraints = constraint_func(X_))\n",
    "    nls.params_ = nls.fit(X_,y).params_\n",
    "    cls.params_ = cls.fit(X_,y).params_\n",
    "    # Save results to dataframe\n",
    "    result.loc[i.__name__,get_df_name(j)].loc['NLS'] = nls.params_ \n",
    "    result.loc[i.__name__,get_df_name(j)].loc['CLS'] = cls.params_ \n",
    "    # Put into one table\n",
    "    results_Taylor = results_Taylor.append(result, ignore_index = False, sort = False)\n",
    "    \n",
    "# Export to Excel\n",
    "results_Taylor.to_excel('Results/Taylor_fullsample.xlsx')\n",
    "results_Taylor.tail()"
   ]
  },
  {
   "cell_type": "markdown",
   "id": "1504a90e",
   "metadata": {},
   "source": [
    "### GridSearch and CrossValidation"
   ]
  },
  {
   "cell_type": "markdown",
   "id": "5e89f7e5",
   "metadata": {},
   "source": [
    "### Train_test split"
   ]
  },
  {
   "cell_type": "code",
   "execution_count": 94,
   "id": "65d36ec0",
   "metadata": {},
   "outputs": [],
   "source": [
    "X_train, X_test, y_train, y_test = dpr.data_split(df, 'EQP', \"1987-12-01\", \"2018-12-01\")"
   ]
  },
  {
   "cell_type": "code",
   "execution_count": 98,
   "id": "cecd9af0",
   "metadata": {},
   "outputs": [],
   "source": [
    "# val_length = 1\n",
    "test_length = 1\n",
    "step = 1\n",
    "# cv_outer = TimeSeriesSplit(gap=0, max_train_size=None, n_splits=int((12/step) * test_length), test_size=step)\n",
    "# cv_inner = TimeSeriesSplit(gap=0, max_train_size=None, n_splits=int((12/step) * val_length), test_size=step)\n",
    "cv_outer = TimeSeriesSplit(gap=0, max_train_size=None, n_splits=31*4, test_size=step)\n",
    "# cv_inner = TimeSeriesSplit(gap=0, max_train_size=None, n_splits=4, test_size=step)"
   ]
  },
  {
   "cell_type": "code",
   "execution_count": 102,
   "id": "1cc5d3dd",
   "metadata": {},
   "outputs": [],
   "source": [
    "test_length = 31\n",
    "step = 1\n",
    "freq = 4\n",
    "cv_outer = TimeSeriesSplit(gap=0, max_train_size=None, n_splits=test_length*freq, test_size=step)"
   ]
  },
  {
   "cell_type": "code",
   "execution_count": 104,
   "id": "fef8adcc",
   "metadata": {
    "scrolled": true
   },
   "outputs": [],
   "source": [
    "# for train_index, test_index in cv_outer.split(X):\n",
    "# #     print(train_index[-3:-1], test_index)\n",
    "#     print(X.iloc[test_index])"
   ]
  },
  {
   "cell_type": "code",
   "execution_count": 65,
   "id": "86a4b3f7",
   "metadata": {},
   "outputs": [],
   "source": [
    "space = dict()\n",
    "space['constraints'] = [(), constraint_func(x)]\n",
    "space['x0'] = [[0.01]*8,[1]*8]"
   ]
  },
  {
   "cell_type": "code",
   "execution_count": 108,
   "id": "4f0212bf",
   "metadata": {},
   "outputs": [],
   "source": [
    "X = co1.join(station)"
   ]
  },
  {
   "cell_type": "code",
   "execution_count": 113,
   "id": "8f2f6cd8",
   "metadata": {},
   "outputs": [],
   "source": [
    "constraints = constraint_func(X)"
   ]
  },
  {
   "cell_type": "code",
   "execution_count": 114,
   "id": "11b7e098",
   "metadata": {},
   "outputs": [],
   "source": [
    "nls = CLS_Estimator(obj_func = sin_func, x0 = taylor_init['sin_func'].dropna())\n",
    "cls = CLS_Estimator(obj_func = sin_func, x0 = taylor_init['sin_func'].dropna(), constraints = constraints)"
   ]
  },
  {
   "cell_type": "code",
   "execution_count": 126,
   "id": "2702dd1f",
   "metadata": {},
   "outputs": [],
   "source": [
    "from sklearn.model_selection import cross_validate\n",
    "from sklearn.metrics import explained_variance_score"
   ]
  },
  {
   "cell_type": "code",
   "execution_count": 141,
   "id": "fed5a2a2",
   "metadata": {},
   "outputs": [],
   "source": [
    "cv_result = cross_validate(nls, X, y, cv=cv_outer, scoring = 'neg_mean_squared_error')"
   ]
  },
  {
   "cell_type": "code",
   "execution_count": 136,
   "id": "ecdec4cd",
   "metadata": {},
   "outputs": [],
   "source": [
    "nls_mse = cv_result['test_score']"
   ]
  },
  {
   "cell_type": "code",
   "execution_count": 66,
   "id": "b8560483",
   "metadata": {
    "scrolled": true
   },
   "outputs": [],
   "source": [
    "# models, c, model_mse = mr.Nested_CV(X = X, y = y, model = cls, \n",
    "#                                              cv_inner = cv_inner, cv_outer = cv_outer, \n",
    "#                                              search_method = 'Grid', space = space)"
   ]
  },
  {
   "cell_type": "markdown",
   "id": "5154de18",
   "metadata": {},
   "source": [
    "### Benchmark model: sample mean"
   ]
  },
  {
   "cell_type": "code",
   "execution_count": 133,
   "id": "3ec2057e",
   "metadata": {},
   "outputs": [],
   "source": [
    "sm_pred, sm_mse = bench.sample_mean(y, \"1988-01-01\", cv_outer = cv_outer)"
   ]
  },
  {
   "cell_type": "markdown",
   "id": "e2c80477",
   "metadata": {},
   "source": [
    "### $R^2$ plot"
   ]
  },
  {
   "cell_type": "code",
   "execution_count": 143,
   "id": "e7078b51",
   "metadata": {},
   "outputs": [],
   "source": [
    "R2 = 1-(-nls_mse)/sm_mse"
   ]
  },
  {
   "cell_type": "code",
   "execution_count": 168,
   "id": "ef2aaf9b",
   "metadata": {},
   "outputs": [],
   "source": [
    "OOS_sin = pd.DataFrame(\n",
    "    {'nls':-nls_mse, 'sm':sm_mse}\n",
    ")\n",
    "OOS_sin.to_excel('OOS_sin.xlsx')"
   ]
  },
  {
   "cell_type": "code",
   "execution_count": 162,
   "id": "a6104ea5",
   "metadata": {},
   "outputs": [
    {
     "data": {
      "text/plain": [
       "[<matplotlib.lines.Line2D at 0x1cf6cb1ea20>]"
      ]
     },
     "execution_count": 162,
     "metadata": {},
     "output_type": "execute_result"
    },
    {
     "data": {
      "image/png": "[encoded data removed]",
      "text/plain": [
       "<Figure size 432x288 with 1 Axes>"
      ]
     },
     "metadata": {
      "needs_background": "light"
     },
     "output_type": "display_data"
    }
   ],
   "source": [
    "plt.plot(-nls_mse)\n",
    "plt.plot(sm_mse)[]"
   ]
  },
  {
   "cell_type": "code",
   "execution_count": 163,
   "id": "693822ff",
   "metadata": {},
   "outputs": [
    {
     "data": {
      "text/plain": [
       "38"
      ]
     },
     "execution_count": 163,
     "metadata": {},
     "output_type": "execute_result"
    }
   ],
   "source": [
    "np.sum(-nls_mse<sm_mse)"
   ]
  },
  {
   "cell_type": "code",
   "execution_count": 170,
   "id": "d32c11cf",
   "metadata": {},
   "outputs": [
    {
     "data": {
      "image/png": "[encoded data removed]",
      "text/plain": [
       "<Figure size 432x288 with 1 Axes>"
      ]
     },
     "metadata": {
      "needs_background": "light"
     },
     "output_type": "display_data"
    }
   ],
   "source": [
    "plt.plot(R2)\n",
    "plt.savefig('sin_oos.jpg')"
   ]
  },
  {
   "cell_type": "code",
   "execution_count": 157,
   "id": "51afc5d4",
   "metadata": {},
   "outputs": [
    {
     "data": {
      "text/plain": [
       "[<matplotlib.lines.Line2D at 0x1cf6b9fbe10>]"
      ]
     },
     "execution_count": 157,
     "metadata": {},
     "output_type": "execute_result"
    },
    {
     "data": {
      "image/png": "[encoded data removed]",
      "text/plain": [
       "<Figure size 432x288 with 1 Axes>"
      ]
     },
     "metadata": {
      "needs_background": "light"
     },
     "output_type": "display_data"
    }
   ],
   "source": [
    "R2_new = 1 / (1 + np.exp(-np.array(R2)))\n",
    "plt.plot(R2_new[0:47])"
   ]
  },
  {
   "cell_type": "code",
   "execution_count": 68,
   "id": "e02a7fcf",
   "metadata": {},
   "outputs": [],
   "source": [
    "# bench.plot_R2(y_test[::3], c, sm_pred, adjust = False, alpha = 0.8)"
   ]
  },
  {
   "cell_type": "code",
   "execution_count": null,
   "id": "fc6b3616",
   "metadata": {},
   "outputs": [],
   "source": []
  },
  {
   "cell_type": "code",
   "execution_count": null,
   "id": "78b664fb",
   "metadata": {},
   "outputs": [],
   "source": []
  },
  {
   "cell_type": "code",
   "execution_count": null,
   "id": "1cb10c78",
   "metadata": {},
   "outputs": [],
   "source": []
  }
 ],
 "metadata": {
  "kernelspec": {
   "display_name": "Python 3",
   "language": "python",
   "name": "python3"
  },
  "language_info": {
   "codemirror_mode": {
    "name": "ipython",
    "version": 3
   },
   "file_extension": ".py",
   "mimetype": "text/x-python",
   "name": "python",
   "nbconvert_exporter": "python",
   "pygments_lexer": "ipython3",
   "version": "3.7.3"
  }
 },
 "nbformat": 4,
 "nbformat_minor": 5
}
