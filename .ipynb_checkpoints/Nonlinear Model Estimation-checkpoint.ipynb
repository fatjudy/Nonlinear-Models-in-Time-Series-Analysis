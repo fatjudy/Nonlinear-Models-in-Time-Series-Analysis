{
 "cells": [
  {
   "cell_type": "code",
   "execution_count": 1,
   "id": "846755cc",
   "metadata": {},
   "outputs": [],
   "source": [
    "import DataPreparation as dpr\n",
    "import ModelRun as mr\n",
    "# import benchmarks as bench\n",
    "\n",
    "import numpy as np\n",
    "import pandas as pd\n",
    "from scipy.optimize import minimize\n",
    "from sklearn.model_selection import TimeSeriesSplit\n",
    "\n",
    "from MyEstimators import CLS_Estimator"
   ]
  },
  {
   "cell_type": "markdown",
   "id": "7c16d8c1",
   "metadata": {},
   "source": [
    "### Load data"
   ]
  },
  {
   "cell_type": "code",
   "execution_count": 40,
   "id": "122f4c6a",
   "metadata": {},
   "outputs": [],
   "source": [
    "df = dpr.read_data('EQP_Quarterly')\n",
    "df = dpr.data_clean(df, '1956-01-01')"
   ]
  },
  {
   "cell_type": "code",
   "execution_count": 41,
   "id": "cd407162",
   "metadata": {},
   "outputs": [
    {
     "data": {
      "text/html": [
       "<div>\n",
       "<style scoped>\n",
       "    .dataframe tbody tr th:only-of-type {\n",
       "        vertical-align: middle;\n",
       "    }\n",
       "\n",
       "    .dataframe tbody tr th {\n",
       "        vertical-align: top;\n",
       "    }\n",
       "\n",
       "    .dataframe thead th {\n",
       "        text-align: right;\n",
       "    }\n",
       "</style>\n",
       "<table border=\"1\" class=\"dataframe\">\n",
       "  <thead>\n",
       "    <tr style=\"text-align: right;\">\n",
       "      <th></th>\n",
       "      <th>EQP</th>\n",
       "      <th>DP</th>\n",
       "      <th>DY</th>\n",
       "      <th>EP</th>\n",
       "      <th>DE</th>\n",
       "      <th>svar</th>\n",
       "      <th>b/m</th>\n",
       "      <th>ntis</th>\n",
       "      <th>tbl</th>\n",
       "      <th>lty</th>\n",
       "      <th>...</th>\n",
       "      <th>TMS</th>\n",
       "      <th>DFR</th>\n",
       "      <th>DFY</th>\n",
       "      <th>infl</th>\n",
       "      <th>c</th>\n",
       "      <th>w</th>\n",
       "      <th>y</th>\n",
       "      <th>cay</th>\n",
       "      <th>AAA</th>\n",
       "      <th>BAA</th>\n",
       "    </tr>\n",
       "    <tr>\n",
       "      <th>time</th>\n",
       "      <th></th>\n",
       "      <th></th>\n",
       "      <th></th>\n",
       "      <th></th>\n",
       "      <th></th>\n",
       "      <th></th>\n",
       "      <th></th>\n",
       "      <th></th>\n",
       "      <th></th>\n",
       "      <th></th>\n",
       "      <th></th>\n",
       "      <th></th>\n",
       "      <th></th>\n",
       "      <th></th>\n",
       "      <th></th>\n",
       "      <th></th>\n",
       "      <th></th>\n",
       "      <th></th>\n",
       "      <th></th>\n",
       "      <th></th>\n",
       "      <th></th>\n",
       "    </tr>\n",
       "  </thead>\n",
       "  <tbody>\n",
       "    <tr>\n",
       "      <th>1956-03-01</th>\n",
       "      <td>0.066512</td>\n",
       "      <td>-3.333030</td>\n",
       "      <td>-3.269151</td>\n",
       "      <td>-2.575525</td>\n",
       "      <td>-0.757505</td>\n",
       "      <td>0.003289</td>\n",
       "      <td>0.531077</td>\n",
       "      <td>0.026695</td>\n",
       "      <td>0.0225</td>\n",
       "      <td>0.0303</td>\n",
       "      <td>...</td>\n",
       "      <td>0.0078</td>\n",
       "      <td>0.005159</td>\n",
       "      <td>0.0050</td>\n",
       "      <td>0.000000</td>\n",
       "      <td>9.272498</td>\n",
       "      <td>11.092725</td>\n",
       "      <td>9.100386</td>\n",
       "      <td>0.007275</td>\n",
       "      <td>0.0310</td>\n",
       "      <td>0.0360</td>\n",
       "    </tr>\n",
       "    <tr>\n",
       "      <th>1956-06-01</th>\n",
       "      <td>-0.028264</td>\n",
       "      <td>-3.261722</td>\n",
       "      <td>-3.293365</td>\n",
       "      <td>-2.568575</td>\n",
       "      <td>-0.693147</td>\n",
       "      <td>0.003688</td>\n",
       "      <td>0.551565</td>\n",
       "      <td>0.025672</td>\n",
       "      <td>0.0249</td>\n",
       "      <td>0.0299</td>\n",
       "      <td>...</td>\n",
       "      <td>0.0050</td>\n",
       "      <td>-0.021824</td>\n",
       "      <td>0.0050</td>\n",
       "      <td>0.014925</td>\n",
       "      <td>9.271728</td>\n",
       "      <td>11.091665</td>\n",
       "      <td>9.107828</td>\n",
       "      <td>0.000775</td>\n",
       "      <td>0.0326</td>\n",
       "      <td>0.0376</td>\n",
       "    </tr>\n",
       "    <tr>\n",
       "      <th>1956-09-01</th>\n",
       "      <td>-0.034415</td>\n",
       "      <td>-3.204645</td>\n",
       "      <td>-3.239744</td>\n",
       "      <td>-2.573142</td>\n",
       "      <td>-0.631503</td>\n",
       "      <td>0.002519</td>\n",
       "      <td>0.571910</td>\n",
       "      <td>0.029362</td>\n",
       "      <td>0.0284</td>\n",
       "      <td>0.0324</td>\n",
       "      <td>...</td>\n",
       "      <td>0.0040</td>\n",
       "      <td>0.005663</td>\n",
       "      <td>0.0051</td>\n",
       "      <td>0.007353</td>\n",
       "      <td>9.269304</td>\n",
       "      <td>11.086198</td>\n",
       "      <td>9.106428</td>\n",
       "      <td>0.000663</td>\n",
       "      <td>0.0356</td>\n",
       "      <td>0.0407</td>\n",
       "    </tr>\n",
       "    <tr>\n",
       "      <th>1956-12-01</th>\n",
       "      <td>0.033241</td>\n",
       "      <td>-3.289216</td>\n",
       "      <td>-3.260525</td>\n",
       "      <td>-2.616389</td>\n",
       "      <td>-0.672827</td>\n",
       "      <td>0.004394</td>\n",
       "      <td>0.544177</td>\n",
       "      <td>0.026149</td>\n",
       "      <td>0.0321</td>\n",
       "      <td>0.0345</td>\n",
       "      <td>...</td>\n",
       "      <td>0.0024</td>\n",
       "      <td>-0.002208</td>\n",
       "      <td>0.0062</td>\n",
       "      <td>0.007299</td>\n",
       "      <td>9.277993</td>\n",
       "      <td>11.096678</td>\n",
       "      <td>9.118405</td>\n",
       "      <td>-0.002524</td>\n",
       "      <td>0.0375</td>\n",
       "      <td>0.0437</td>\n",
       "    </tr>\n",
       "    <tr>\n",
       "      <th>1957-03-01</th>\n",
       "      <td>-0.050750</td>\n",
       "      <td>-3.238565</td>\n",
       "      <td>-3.294980</td>\n",
       "      <td>-2.562911</td>\n",
       "      <td>-0.675654</td>\n",
       "      <td>0.002288</td>\n",
       "      <td>0.599819</td>\n",
       "      <td>0.026600</td>\n",
       "      <td>0.0308</td>\n",
       "      <td>0.0331</td>\n",
       "      <td>...</td>\n",
       "      <td>0.0023</td>\n",
       "      <td>-0.000368</td>\n",
       "      <td>0.0077</td>\n",
       "      <td>0.007246</td>\n",
       "      <td>9.280482</td>\n",
       "      <td>11.090721</td>\n",
       "      <td>9.117433</td>\n",
       "      <td>0.002041</td>\n",
       "      <td>0.0366</td>\n",
       "      <td>0.0443</td>\n",
       "    </tr>\n",
       "  </tbody>\n",
       "</table>\n",
       "<p>5 rows × 21 columns</p>\n",
       "</div>"
      ],
      "text/plain": [
       "                 EQP        DP        DY        EP        DE      svar  \\\n",
       "time                                                                     \n",
       "1956-03-01  0.066512 -3.333030 -3.269151 -2.575525 -0.757505  0.003289   \n",
       "1956-06-01 -0.028264 -3.261722 -3.293365 -2.568575 -0.693147  0.003688   \n",
       "1956-09-01 -0.034415 -3.204645 -3.239744 -2.573142 -0.631503  0.002519   \n",
       "1956-12-01  0.033241 -3.289216 -3.260525 -2.616389 -0.672827  0.004394   \n",
       "1957-03-01 -0.050750 -3.238565 -3.294980 -2.562911 -0.675654  0.002288   \n",
       "\n",
       "                 b/m      ntis     tbl     lty  ...     TMS       DFR     DFY  \\\n",
       "time                                            ...                             \n",
       "1956-03-01  0.531077  0.026695  0.0225  0.0303  ...  0.0078  0.005159  0.0050   \n",
       "1956-06-01  0.551565  0.025672  0.0249  0.0299  ...  0.0050 -0.021824  0.0050   \n",
       "1956-09-01  0.571910  0.029362  0.0284  0.0324  ...  0.0040  0.005663  0.0051   \n",
       "1956-12-01  0.544177  0.026149  0.0321  0.0345  ...  0.0024 -0.002208  0.0062   \n",
       "1957-03-01  0.599819  0.026600  0.0308  0.0331  ...  0.0023 -0.000368  0.0077   \n",
       "\n",
       "                infl         c          w         y       cay     AAA     BAA  \n",
       "time                                                                           \n",
       "1956-03-01  0.000000  9.272498  11.092725  9.100386  0.007275  0.0310  0.0360  \n",
       "1956-06-01  0.014925  9.271728  11.091665  9.107828  0.000775  0.0326  0.0376  \n",
       "1956-09-01  0.007353  9.269304  11.086198  9.106428  0.000663  0.0356  0.0407  \n",
       "1956-12-01  0.007299  9.277993  11.096678  9.118405 -0.002524  0.0375  0.0437  \n",
       "1957-03-01  0.007246  9.280482  11.090721  9.117433  0.002041  0.0366  0.0443  \n",
       "\n",
       "[5 rows x 21 columns]"
      ]
     },
     "execution_count": 41,
     "metadata": {},
     "output_type": "execute_result"
    }
   ],
   "source": [
    "df.head()"
   ]
  },
  {
   "cell_type": "markdown",
   "id": "c9d180e8",
   "metadata": {},
   "source": [
    "### Add $y_{t-1}$ and construct X and y"
   ]
  },
  {
   "cell_type": "code",
   "execution_count": 42,
   "id": "a4aeb277",
   "metadata": {},
   "outputs": [
    {
     "data": {
      "text/html": [
       "<div>\n",
       "<style scoped>\n",
       "    .dataframe tbody tr th:only-of-type {\n",
       "        vertical-align: middle;\n",
       "    }\n",
       "\n",
       "    .dataframe tbody tr th {\n",
       "        vertical-align: top;\n",
       "    }\n",
       "\n",
       "    .dataframe thead th {\n",
       "        text-align: right;\n",
       "    }\n",
       "</style>\n",
       "<table border=\"1\" class=\"dataframe\">\n",
       "  <thead>\n",
       "    <tr style=\"text-align: right;\">\n",
       "      <th></th>\n",
       "      <th>EQP</th>\n",
       "      <th>DP</th>\n",
       "      <th>DY</th>\n",
       "      <th>EP</th>\n",
       "      <th>DE</th>\n",
       "      <th>svar</th>\n",
       "      <th>b/m</th>\n",
       "      <th>ntis</th>\n",
       "      <th>tbl</th>\n",
       "      <th>lty</th>\n",
       "      <th>...</th>\n",
       "      <th>DFR</th>\n",
       "      <th>DFY</th>\n",
       "      <th>infl</th>\n",
       "      <th>c</th>\n",
       "      <th>w</th>\n",
       "      <th>y</th>\n",
       "      <th>cay</th>\n",
       "      <th>AAA</th>\n",
       "      <th>BAA</th>\n",
       "      <th>y_lag</th>\n",
       "    </tr>\n",
       "    <tr>\n",
       "      <th>time</th>\n",
       "      <th></th>\n",
       "      <th></th>\n",
       "      <th></th>\n",
       "      <th></th>\n",
       "      <th></th>\n",
       "      <th></th>\n",
       "      <th></th>\n",
       "      <th></th>\n",
       "      <th></th>\n",
       "      <th></th>\n",
       "      <th></th>\n",
       "      <th></th>\n",
       "      <th></th>\n",
       "      <th></th>\n",
       "      <th></th>\n",
       "      <th></th>\n",
       "      <th></th>\n",
       "      <th></th>\n",
       "      <th></th>\n",
       "      <th></th>\n",
       "      <th></th>\n",
       "    </tr>\n",
       "  </thead>\n",
       "  <tbody>\n",
       "    <tr>\n",
       "      <th>1956-06-01</th>\n",
       "      <td>-0.028264</td>\n",
       "      <td>-3.261722</td>\n",
       "      <td>-3.293365</td>\n",
       "      <td>-2.568575</td>\n",
       "      <td>-0.693147</td>\n",
       "      <td>0.003688</td>\n",
       "      <td>0.551565</td>\n",
       "      <td>0.025672</td>\n",
       "      <td>0.0249</td>\n",
       "      <td>0.0299</td>\n",
       "      <td>...</td>\n",
       "      <td>-0.021824</td>\n",
       "      <td>0.0050</td>\n",
       "      <td>0.014925</td>\n",
       "      <td>9.271728</td>\n",
       "      <td>11.091665</td>\n",
       "      <td>9.107828</td>\n",
       "      <td>0.000775</td>\n",
       "      <td>0.0326</td>\n",
       "      <td>0.0376</td>\n",
       "      <td>0.066512</td>\n",
       "    </tr>\n",
       "    <tr>\n",
       "      <th>1956-09-01</th>\n",
       "      <td>-0.034415</td>\n",
       "      <td>-3.204645</td>\n",
       "      <td>-3.239744</td>\n",
       "      <td>-2.573142</td>\n",
       "      <td>-0.631503</td>\n",
       "      <td>0.002519</td>\n",
       "      <td>0.571910</td>\n",
       "      <td>0.029362</td>\n",
       "      <td>0.0284</td>\n",
       "      <td>0.0324</td>\n",
       "      <td>...</td>\n",
       "      <td>0.005663</td>\n",
       "      <td>0.0051</td>\n",
       "      <td>0.007353</td>\n",
       "      <td>9.269304</td>\n",
       "      <td>11.086198</td>\n",
       "      <td>9.106428</td>\n",
       "      <td>0.000663</td>\n",
       "      <td>0.0356</td>\n",
       "      <td>0.0407</td>\n",
       "      <td>-0.028264</td>\n",
       "    </tr>\n",
       "    <tr>\n",
       "      <th>1956-12-01</th>\n",
       "      <td>0.033241</td>\n",
       "      <td>-3.289216</td>\n",
       "      <td>-3.260525</td>\n",
       "      <td>-2.616389</td>\n",
       "      <td>-0.672827</td>\n",
       "      <td>0.004394</td>\n",
       "      <td>0.544177</td>\n",
       "      <td>0.026149</td>\n",
       "      <td>0.0321</td>\n",
       "      <td>0.0345</td>\n",
       "      <td>...</td>\n",
       "      <td>-0.002208</td>\n",
       "      <td>0.0062</td>\n",
       "      <td>0.007299</td>\n",
       "      <td>9.277993</td>\n",
       "      <td>11.096678</td>\n",
       "      <td>9.118405</td>\n",
       "      <td>-0.002524</td>\n",
       "      <td>0.0375</td>\n",
       "      <td>0.0437</td>\n",
       "      <td>-0.034415</td>\n",
       "    </tr>\n",
       "    <tr>\n",
       "      <th>1957-03-01</th>\n",
       "      <td>-0.050750</td>\n",
       "      <td>-3.238565</td>\n",
       "      <td>-3.294980</td>\n",
       "      <td>-2.562911</td>\n",
       "      <td>-0.675654</td>\n",
       "      <td>0.002288</td>\n",
       "      <td>0.599819</td>\n",
       "      <td>0.026600</td>\n",
       "      <td>0.0308</td>\n",
       "      <td>0.0331</td>\n",
       "      <td>...</td>\n",
       "      <td>-0.000368</td>\n",
       "      <td>0.0077</td>\n",
       "      <td>0.007246</td>\n",
       "      <td>9.280482</td>\n",
       "      <td>11.090721</td>\n",
       "      <td>9.117433</td>\n",
       "      <td>0.002041</td>\n",
       "      <td>0.0366</td>\n",
       "      <td>0.0443</td>\n",
       "      <td>0.033241</td>\n",
       "    </tr>\n",
       "    <tr>\n",
       "      <th>1957-06-01</th>\n",
       "      <td>0.075114</td>\n",
       "      <td>-3.309868</td>\n",
       "      <td>-3.238565</td>\n",
       "      <td>-2.628349</td>\n",
       "      <td>-0.681519</td>\n",
       "      <td>0.001363</td>\n",
       "      <td>0.565877</td>\n",
       "      <td>0.030528</td>\n",
       "      <td>0.0329</td>\n",
       "      <td>0.0361</td>\n",
       "      <td>...</td>\n",
       "      <td>-0.003789</td>\n",
       "      <td>0.0072</td>\n",
       "      <td>0.010791</td>\n",
       "      <td>9.278119</td>\n",
       "      <td>11.104916</td>\n",
       "      <td>9.118823</td>\n",
       "      <td>-0.004528</td>\n",
       "      <td>0.0391</td>\n",
       "      <td>0.0463</td>\n",
       "      <td>-0.050750</td>\n",
       "    </tr>\n",
       "  </tbody>\n",
       "</table>\n",
       "<p>5 rows × 22 columns</p>\n",
       "</div>"
      ],
      "text/plain": [
       "                 EQP        DP        DY        EP        DE      svar  \\\n",
       "time                                                                     \n",
       "1956-06-01 -0.028264 -3.261722 -3.293365 -2.568575 -0.693147  0.003688   \n",
       "1956-09-01 -0.034415 -3.204645 -3.239744 -2.573142 -0.631503  0.002519   \n",
       "1956-12-01  0.033241 -3.289216 -3.260525 -2.616389 -0.672827  0.004394   \n",
       "1957-03-01 -0.050750 -3.238565 -3.294980 -2.562911 -0.675654  0.002288   \n",
       "1957-06-01  0.075114 -3.309868 -3.238565 -2.628349 -0.681519  0.001363   \n",
       "\n",
       "                 b/m      ntis     tbl     lty  ...       DFR     DFY  \\\n",
       "time                                            ...                     \n",
       "1956-06-01  0.551565  0.025672  0.0249  0.0299  ... -0.021824  0.0050   \n",
       "1956-09-01  0.571910  0.029362  0.0284  0.0324  ...  0.005663  0.0051   \n",
       "1956-12-01  0.544177  0.026149  0.0321  0.0345  ... -0.002208  0.0062   \n",
       "1957-03-01  0.599819  0.026600  0.0308  0.0331  ... -0.000368  0.0077   \n",
       "1957-06-01  0.565877  0.030528  0.0329  0.0361  ... -0.003789  0.0072   \n",
       "\n",
       "                infl         c          w         y       cay     AAA     BAA  \\\n",
       "time                                                                            \n",
       "1956-06-01  0.014925  9.271728  11.091665  9.107828  0.000775  0.0326  0.0376   \n",
       "1956-09-01  0.007353  9.269304  11.086198  9.106428  0.000663  0.0356  0.0407   \n",
       "1956-12-01  0.007299  9.277993  11.096678  9.118405 -0.002524  0.0375  0.0437   \n",
       "1957-03-01  0.007246  9.280482  11.090721  9.117433  0.002041  0.0366  0.0443   \n",
       "1957-06-01  0.010791  9.278119  11.104916  9.118823 -0.004528  0.0391  0.0463   \n",
       "\n",
       "               y_lag  \n",
       "time                  \n",
       "1956-06-01  0.066512  \n",
       "1956-09-01 -0.028264  \n",
       "1956-12-01 -0.034415  \n",
       "1957-03-01  0.033241  \n",
       "1957-06-01 -0.050750  \n",
       "\n",
       "[5 rows x 22 columns]"
      ]
     },
     "execution_count": 42,
     "metadata": {},
     "output_type": "execute_result"
    }
   ],
   "source": [
    "df['y_lag'] = df['EQP'].shift()\n",
    "df = df.dropna()\n",
    "df.head()"
   ]
  },
  {
   "cell_type": "code",
   "execution_count": 53,
   "id": "e20ce772",
   "metadata": {},
   "outputs": [],
   "source": [
    "AB = df[['DP','EP','b/m']]"
   ]
  },
  {
   "cell_type": "code",
   "execution_count": 54,
   "id": "8caa52c3",
   "metadata": {},
   "outputs": [
    {
     "data": {
      "text/html": [
       "<div>\n",
       "<style scoped>\n",
       "    .dataframe tbody tr th:only-of-type {\n",
       "        vertical-align: middle;\n",
       "    }\n",
       "\n",
       "    .dataframe tbody tr th {\n",
       "        vertical-align: top;\n",
       "    }\n",
       "\n",
       "    .dataframe thead th {\n",
       "        text-align: right;\n",
       "    }\n",
       "</style>\n",
       "<table border=\"1\" class=\"dataframe\">\n",
       "  <thead>\n",
       "    <tr style=\"text-align: right;\">\n",
       "      <th></th>\n",
       "      <th>DP</th>\n",
       "      <th>EP</th>\n",
       "      <th>b/m</th>\n",
       "      <th>y_lag</th>\n",
       "      <th>cay</th>\n",
       "    </tr>\n",
       "    <tr>\n",
       "      <th>time</th>\n",
       "      <th></th>\n",
       "      <th></th>\n",
       "      <th></th>\n",
       "      <th></th>\n",
       "      <th></th>\n",
       "    </tr>\n",
       "  </thead>\n",
       "  <tbody>\n",
       "    <tr>\n",
       "      <th>1956-06-01</th>\n",
       "      <td>-3.261722</td>\n",
       "      <td>-2.568575</td>\n",
       "      <td>0.551565</td>\n",
       "      <td>0.066512</td>\n",
       "      <td>0.000775</td>\n",
       "    </tr>\n",
       "    <tr>\n",
       "      <th>1956-09-01</th>\n",
       "      <td>-3.204645</td>\n",
       "      <td>-2.573142</td>\n",
       "      <td>0.571910</td>\n",
       "      <td>-0.028264</td>\n",
       "      <td>0.000663</td>\n",
       "    </tr>\n",
       "  </tbody>\n",
       "</table>\n",
       "</div>"
      ],
      "text/plain": [
       "                  DP        EP       b/m     y_lag       cay\n",
       "time                                                        \n",
       "1956-06-01 -3.261722 -2.568575  0.551565  0.066512  0.000775\n",
       "1956-09-01 -3.204645 -2.573142  0.571910 -0.028264  0.000663"
      ]
     },
     "execution_count": 54,
     "metadata": {},
     "output_type": "execute_result"
    }
   ],
   "source": [
    "station = df[['y_lag', 'cay']]\n",
    "X = AB.join(station)\n",
    "y = df[['EQP']].squeeze()\n",
    "X.head(2)"
   ]
  },
  {
   "cell_type": "markdown",
   "id": "6e03f14e",
   "metadata": {},
   "source": [
    "### Construct single-index and nonlinear models"
   ]
  },
  {
   "cell_type": "code",
   "execution_count": 55,
   "id": "24da26b3",
   "metadata": {},
   "outputs": [],
   "source": [
    "def single_index(x):\n",
    "    if isinstance(x, (pd.DataFrame, np.ndarray)):\n",
    "        if isinstance(x, pd.DataFrame):\n",
    "            x_values = x.values\n",
    "        else:\n",
    "            pass\n",
    "    else:\n",
    "        raise Exception('wrong type')\n",
    "\n",
    "    def u(theta):\n",
    "        if len(theta) == x_values.shape[1]:\n",
    "            sum_up = [x_values[:, i] * theta[i] for i in range(x_values.shape[1])]\n",
    "            index = np.sum(sum_up, axis=0)\n",
    "        else:\n",
    "            raise Exception('wrong parameter dimension')\n",
    "        return index\n",
    "\n",
    "    return u"
   ]
  },
  {
   "cell_type": "code",
   "execution_count": 160,
   "id": "37ec4390",
   "metadata": {},
   "outputs": [],
   "source": [
    "def dimensions(non_sta, sta):\n",
    "    stas = sta.shape[1]\n",
    "    nonstas = non_sta.shape[1]\n",
    "    return nonstas, stas"
   ]
  },
  {
   "cell_type": "code",
   "execution_count": 210,
   "id": "395d0b6d",
   "metadata": {},
   "outputs": [
    {
     "data": {
      "text/plain": [
       "3"
      ]
     },
     "execution_count": 210,
     "metadata": {},
     "output_type": "execute_result"
    }
   ],
   "source": [
    "d1, d2 = dimensions(AB, station)\n",
    "d1"
   ]
  },
  {
   "cell_type": "code",
   "execution_count": 219,
   "id": "b64e4cac",
   "metadata": {},
   "outputs": [],
   "source": [
    "def sin_func(x):\n",
    "    def objective_func(params):\n",
    "        func = np.sin(single_index(x.iloc[:,:-d2])(params[0:d1])+params[d1])+np.dot(\n",
    "            x.iloc[:,-d2:], params[-d2:])\n",
    "        return func\n",
    "    return objective_func"
   ]
  },
  {
   "cell_type": "code",
   "execution_count": 220,
   "id": "cd7ec4fc",
   "metadata": {},
   "outputs": [],
   "source": [
    "def cos_func(x):\n",
    "    def objective_func(params):\n",
    "        func = np.cos(single_index(x.iloc[:,:-d2])(params[0:d1])+params[d1])+np.dot(\n",
    "            x.iloc[:,-d2:], params[-d2:])\n",
    "        return func\n",
    "    return objective_func"
   ]
  },
  {
   "cell_type": "code",
   "execution_count": 221,
   "id": "2d660659",
   "metadata": {},
   "outputs": [],
   "source": [
    "def scaled_sin_func(x):\n",
    "    def objective_func(params):\n",
    "        func = np.sin(params[d1+1]*single_index(x.iloc[:,:-d2])(params[0:d1])+params[d1])+np.dot(\n",
    "            x.iloc[:,-d2:], params[-d2:])\n",
    "        return func\n",
    "    return objective_func"
   ]
  },
  {
   "cell_type": "code",
   "execution_count": 222,
   "id": "e40efcb7",
   "metadata": {},
   "outputs": [],
   "source": [
    "def scaled_cos_func(x):\n",
    "    def objective_func(params):\n",
    "        func = np.cos(params[d1+1]*single_index(x.iloc[:,:-d2])(params[0:d1])+params[d1])+np.dot(\n",
    "            x.iloc[:,-d2:], params[-d2:])\n",
    "        return func\n",
    "    return objective_func"
   ]
  },
  {
   "cell_type": "code",
   "execution_count": 223,
   "id": "a8d48477",
   "metadata": {},
   "outputs": [],
   "source": [
    "def exp_shift_func(x):\n",
    "    def objective_func(params):\n",
    "        func = 1 - np.exp(params[d1]*((single_index(x.iloc[:,:-d2])(params[0:d1]))-params[d1+1])**2\n",
    "                         )+np.dot(x.iloc[:,-d2:], params[-d2:])\n",
    "        return func\n",
    "    return objective_func"
   ]
  },
  {
   "cell_type": "code",
   "execution_count": 224,
   "id": "62c2cf5c",
   "metadata": {},
   "outputs": [],
   "source": [
    "def exp_func(x):\n",
    "    def objective_func(params):\n",
    "        func = params[d1]*np.exp(-params[d1+1]*(single_index(x.iloc[:,:-d2])(params[0:d1]))**2\n",
    "                                )+np.dot(x.iloc[:,-d2:], params[-d2:])\n",
    "        return func\n",
    "    return objective_func"
   ]
  },
  {
   "cell_type": "code",
   "execution_count": 182,
   "id": "9751de0a",
   "metadata": {},
   "outputs": [],
   "source": [
    "# def poly_func(x):\n",
    "#     lx = x.iloc[:,:-2].shape[1]\n",
    "#     def objective_func(params):\n",
    "#         func = params[lx]+params[lx+1]*(single_index(x.iloc[:,:-2])(params[0:lx]))+params[lx+2]*((\n",
    "#             single_index(x.iloc[:,:-2])(params[0:lx]))**2)+np.dot(x.iloc[:,-2:], params[-2:])\n",
    "#         return func\n",
    "#     return objective_func"
   ]
  },
  {
   "cell_type": "code",
   "execution_count": 183,
   "id": "a28e01fe",
   "metadata": {},
   "outputs": [],
   "source": [
    "def poly_func(x):\n",
    "    def objective_func(params):\n",
    "        func = params[d1]+params[d1+1]*(single_index(x.iloc[:,:-d2])(params[0:d1]))+params[d1+2]*((\n",
    "            single_index(x.iloc[:,:-d2])(params[0:d1]))**2)+np.dot(x.iloc[:,-d2:], params[-d2:])\n",
    "        return func\n",
    "    return objective_func"
   ]
  },
  {
   "cell_type": "markdown",
   "id": "7e97d438",
   "metadata": {},
   "source": [
    "### Model Estimation"
   ]
  },
  {
   "cell_type": "code",
   "execution_count": 184,
   "id": "eb982ee6",
   "metadata": {},
   "outputs": [],
   "source": [
    "def constraint_func(x):\n",
    "    def constraint(params):\n",
    "        con = 0\n",
    "        for j in np.arange(0, x.iloc[:,:-2].shape[1]):\n",
    "            con += params[j]**2\n",
    "            cons = con - 1\n",
    "        return cons\n",
    "    return {'type':'eq', 'fun': constraint}"
   ]
  },
  {
   "cell_type": "code",
   "execution_count": 185,
   "id": "9dc1c3c0",
   "metadata": {},
   "outputs": [],
   "source": [
    "def loss(x, y, obj_func):\n",
    "    def loss_func(params):\n",
    "        error = np.sum((y - obj_func(x)(params)) ** 2)\n",
    "        return error\n",
    "    return loss_func"
   ]
  },
  {
   "cell_type": "code",
   "execution_count": 237,
   "id": "c6814118",
   "metadata": {},
   "outputs": [],
   "source": [
    "# cls_nls = CLS_Estimator(obj_func = poly_func, x0 = [0.001]*6)\n",
    "cls = CLS_Estimator(obj_func = exp_shift_func, x0 = [0.001]*9, constraints = constraint_func(X))"
   ]
  },
  {
   "cell_type": "code",
   "execution_count": 238,
   "id": "525ab7db",
   "metadata": {},
   "outputs": [
    {
     "data": {
      "text/plain": [
       "CLS_Estimator(constraints={'fun': <function constraint_func.<locals>.constraint at 0x0000018BB5013488>,\n",
       "                           'type': 'eq'},\n",
       "              obj_func=<function exp_shift_func at 0x0000018BB52989D8>,\n",
       "              x0=[0.001, 0.001, 0.001, 0.001, 0.001, 0.001, 0.001, 0.001,\n",
       "                  0.001])"
      ]
     },
     "execution_count": 238,
     "metadata": {},
     "output_type": "execute_result"
    }
   ],
   "source": [
    "# cls_nls.fit(X,y)\n",
    "cls.fit(X,y)"
   ]
  },
  {
   "cell_type": "code",
   "execution_count": 239,
   "id": "b65b346d",
   "metadata": {},
   "outputs": [
    {
     "name": "stdout",
     "output_type": "stream",
     "text": [
      "[-5.25407939e-02 -3.50822127e-01  9.34967329e-01 -1.49383116e-01\n",
      "  1.90077885e+00  1.00000000e-03  1.00000000e-03  6.53250808e-02\n",
      " -3.72885784e-01]\n"
     ]
    }
   ],
   "source": [
    "# print(cls_nls.params_)\n",
    "print(cls.params_)"
   ]
  },
  {
   "cell_type": "code",
   "execution_count": 240,
   "id": "87981645",
   "metadata": {},
   "outputs": [
    {
     "data": {
      "text/plain": [
       "1.000000605437351"
      ]
     },
     "execution_count": 240,
     "metadata": {},
     "output_type": "execute_result"
    }
   ],
   "source": [
    "cls.params_[0]**2+cls.params_[1]**2+cls.params_[2]**2"
   ]
  },
  {
   "cell_type": "code",
   "execution_count": null,
   "id": "b67c7e67",
   "metadata": {},
   "outputs": [],
   "source": []
  },
  {
   "cell_type": "markdown",
   "id": "1504a90e",
   "metadata": {},
   "source": [
    "### GridSearch and CrossValidation"
   ]
  },
  {
   "cell_type": "markdown",
   "id": "5e89f7e5",
   "metadata": {},
   "source": [
    "### Train_test split"
   ]
  },
  {
   "cell_type": "code",
   "execution_count": 19,
   "id": "65d36ec0",
   "metadata": {},
   "outputs": [],
   "source": [
    "# X_train, X_test, y_train, y_test = dpr.data_split(df, 'EQP', \"1987-12-01\", \"2019-12-01\")"
   ]
  },
  {
   "cell_type": "code",
   "execution_count": 20,
   "id": "cecd9af0",
   "metadata": {},
   "outputs": [],
   "source": [
    "# val_length = 1\n",
    "# test_length = 32\n",
    "# step = 3\n",
    "# cv_outer = TimeSeriesSplit(gap=0, max_train_size=None, n_splits=int((12/step) * test_length), test_size=step)\n",
    "# cv_inner = TimeSeriesSplit(gap=0, max_train_size=None, n_splits=int((12/step) * val_length), test_size=step)"
   ]
  },
  {
   "cell_type": "code",
   "execution_count": 68,
   "id": "86a4b3f7",
   "metadata": {},
   "outputs": [],
   "source": [
    "# space = dict()\n",
    "# space['constraints'] = [(), constraint_func(X_train)]\n",
    "# space[x0] = [[0.01]*4,[1]*4]"
   ]
  },
  {
   "cell_type": "code",
   "execution_count": null,
   "id": "b8560483",
   "metadata": {
    "scrolled": true
   },
   "outputs": [],
   "source": [
    "# models, c, model_mse = mr.Nested_CV(X = X, y = y, model = cls, \n",
    "#                                              cv_inner = cv_inner, cv_outer = cv_outer, \n",
    "#                                              search_method = 'Grid', space = space)"
   ]
  },
  {
   "cell_type": "markdown",
   "id": "5154de18",
   "metadata": {},
   "source": [
    "### Benchmark model: sample mean"
   ]
  },
  {
   "cell_type": "code",
   "execution_count": null,
   "id": "3ec2057e",
   "metadata": {},
   "outputs": [],
   "source": [
    "# sm_pred, sm_mse = bench.sample_mean(y, \"1988-01-01\", cv_outer = cv_outer)"
   ]
  },
  {
   "cell_type": "markdown",
   "id": "e2c80477",
   "metadata": {},
   "source": [
    "### $R^2$ plot"
   ]
  },
  {
   "cell_type": "code",
   "execution_count": null,
   "id": "e02a7fcf",
   "metadata": {},
   "outputs": [],
   "source": [
    "# bench.plot_R2(y_test[::3], c, sm_pred, adjust = False, alpha = 0.8)"
   ]
  },
  {
   "cell_type": "code",
   "execution_count": null,
   "id": "fc6b3616",
   "metadata": {},
   "outputs": [],
   "source": []
  },
  {
   "cell_type": "code",
   "execution_count": null,
   "id": "78b664fb",
   "metadata": {},
   "outputs": [],
   "source": []
  },
  {
   "cell_type": "code",
   "execution_count": null,
   "id": "1cb10c78",
   "metadata": {},
   "outputs": [],
   "source": []
  }
 ],
 "metadata": {
  "kernelspec": {
   "display_name": "Python 3",
   "language": "python",
   "name": "python3"
  },
  "language_info": {
   "codemirror_mode": {
    "name": "ipython",
    "version": 3
   },
   "file_extension": ".py",
   "mimetype": "text/x-python",
   "name": "python",
   "nbconvert_exporter": "python",
   "pygments_lexer": "ipython3",
   "version": "3.7.3"
  }
 },
 "nbformat": 4,
 "nbformat_minor": 5
}
