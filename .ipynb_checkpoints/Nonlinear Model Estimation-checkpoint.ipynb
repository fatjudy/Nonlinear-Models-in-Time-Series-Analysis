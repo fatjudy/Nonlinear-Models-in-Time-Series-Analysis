{
 "cells": [
  {
   "cell_type": "code",
   "execution_count": 1,
   "id": "846755cc",
   "metadata": {},
   "outputs": [],
   "source": [
    "import DataPreparation as dpr\n",
    "import ModelRun as mr\n",
    "# import benchmarks as bench\n",
    "\n",
    "import os\n",
    "import itertools\n",
    "import numpy as np\n",
    "import pandas as pd\n",
    "from scipy.optimize import minimize\n",
    "from sklearn.model_selection import TimeSeriesSplit\n",
    "\n",
    "from MyEstimators import CLS_Estimator"
   ]
  },
  {
   "cell_type": "markdown",
   "id": "7c16d8c1",
   "metadata": {},
   "source": [
    "### Load data"
   ]
  },
  {
   "cell_type": "code",
   "execution_count": 2,
   "id": "122f4c6a",
   "metadata": {},
   "outputs": [],
   "source": [
    "df = dpr.read_data('EQP_Quarterly')\n",
    "df = dpr.data_clean(df, '1956-01-01')"
   ]
  },
  {
   "cell_type": "code",
   "execution_count": 3,
   "id": "cd407162",
   "metadata": {},
   "outputs": [
    {
     "data": {
      "text/html": [
       "<div>\n",
       "<style scoped>\n",
       "    .dataframe tbody tr th:only-of-type {\n",
       "        vertical-align: middle;\n",
       "    }\n",
       "\n",
       "    .dataframe tbody tr th {\n",
       "        vertical-align: top;\n",
       "    }\n",
       "\n",
       "    .dataframe thead th {\n",
       "        text-align: right;\n",
       "    }\n",
       "</style>\n",
       "<table border=\"1\" class=\"dataframe\">\n",
       "  <thead>\n",
       "    <tr style=\"text-align: right;\">\n",
       "      <th></th>\n",
       "      <th>EQP</th>\n",
       "      <th>DP</th>\n",
       "      <th>DY</th>\n",
       "      <th>EP</th>\n",
       "      <th>DE</th>\n",
       "      <th>svar</th>\n",
       "      <th>b/m</th>\n",
       "      <th>ntis</th>\n",
       "      <th>tbl</th>\n",
       "      <th>lty</th>\n",
       "      <th>...</th>\n",
       "      <th>TMS</th>\n",
       "      <th>DFR</th>\n",
       "      <th>DFY</th>\n",
       "      <th>infl</th>\n",
       "      <th>c</th>\n",
       "      <th>w</th>\n",
       "      <th>y</th>\n",
       "      <th>cay</th>\n",
       "      <th>AAA</th>\n",
       "      <th>BAA</th>\n",
       "    </tr>\n",
       "    <tr>\n",
       "      <th>time</th>\n",
       "      <th></th>\n",
       "      <th></th>\n",
       "      <th></th>\n",
       "      <th></th>\n",
       "      <th></th>\n",
       "      <th></th>\n",
       "      <th></th>\n",
       "      <th></th>\n",
       "      <th></th>\n",
       "      <th></th>\n",
       "      <th></th>\n",
       "      <th></th>\n",
       "      <th></th>\n",
       "      <th></th>\n",
       "      <th></th>\n",
       "      <th></th>\n",
       "      <th></th>\n",
       "      <th></th>\n",
       "      <th></th>\n",
       "      <th></th>\n",
       "      <th></th>\n",
       "    </tr>\n",
       "  </thead>\n",
       "  <tbody>\n",
       "    <tr>\n",
       "      <th>1956-03-01</th>\n",
       "      <td>0.066512</td>\n",
       "      <td>-3.333030</td>\n",
       "      <td>-3.269151</td>\n",
       "      <td>-2.575525</td>\n",
       "      <td>-0.757505</td>\n",
       "      <td>0.003289</td>\n",
       "      <td>0.531077</td>\n",
       "      <td>0.026695</td>\n",
       "      <td>0.0225</td>\n",
       "      <td>0.0303</td>\n",
       "      <td>...</td>\n",
       "      <td>0.0078</td>\n",
       "      <td>0.005159</td>\n",
       "      <td>0.0050</td>\n",
       "      <td>0.000000</td>\n",
       "      <td>9.272498</td>\n",
       "      <td>11.092725</td>\n",
       "      <td>9.100386</td>\n",
       "      <td>0.007275</td>\n",
       "      <td>0.0310</td>\n",
       "      <td>0.0360</td>\n",
       "    </tr>\n",
       "    <tr>\n",
       "      <th>1956-06-01</th>\n",
       "      <td>-0.028264</td>\n",
       "      <td>-3.261722</td>\n",
       "      <td>-3.293365</td>\n",
       "      <td>-2.568575</td>\n",
       "      <td>-0.693147</td>\n",
       "      <td>0.003688</td>\n",
       "      <td>0.551565</td>\n",
       "      <td>0.025672</td>\n",
       "      <td>0.0249</td>\n",
       "      <td>0.0299</td>\n",
       "      <td>...</td>\n",
       "      <td>0.0050</td>\n",
       "      <td>-0.021824</td>\n",
       "      <td>0.0050</td>\n",
       "      <td>0.014925</td>\n",
       "      <td>9.271728</td>\n",
       "      <td>11.091665</td>\n",
       "      <td>9.107828</td>\n",
       "      <td>0.000775</td>\n",
       "      <td>0.0326</td>\n",
       "      <td>0.0376</td>\n",
       "    </tr>\n",
       "    <tr>\n",
       "      <th>1956-09-01</th>\n",
       "      <td>-0.034415</td>\n",
       "      <td>-3.204645</td>\n",
       "      <td>-3.239744</td>\n",
       "      <td>-2.573142</td>\n",
       "      <td>-0.631503</td>\n",
       "      <td>0.002519</td>\n",
       "      <td>0.571910</td>\n",
       "      <td>0.029362</td>\n",
       "      <td>0.0284</td>\n",
       "      <td>0.0324</td>\n",
       "      <td>...</td>\n",
       "      <td>0.0040</td>\n",
       "      <td>0.005663</td>\n",
       "      <td>0.0051</td>\n",
       "      <td>0.007353</td>\n",
       "      <td>9.269304</td>\n",
       "      <td>11.086198</td>\n",
       "      <td>9.106428</td>\n",
       "      <td>0.000663</td>\n",
       "      <td>0.0356</td>\n",
       "      <td>0.0407</td>\n",
       "    </tr>\n",
       "    <tr>\n",
       "      <th>1956-12-01</th>\n",
       "      <td>0.033241</td>\n",
       "      <td>-3.289216</td>\n",
       "      <td>-3.260525</td>\n",
       "      <td>-2.616389</td>\n",
       "      <td>-0.672827</td>\n",
       "      <td>0.004394</td>\n",
       "      <td>0.544177</td>\n",
       "      <td>0.026149</td>\n",
       "      <td>0.0321</td>\n",
       "      <td>0.0345</td>\n",
       "      <td>...</td>\n",
       "      <td>0.0024</td>\n",
       "      <td>-0.002208</td>\n",
       "      <td>0.0062</td>\n",
       "      <td>0.007299</td>\n",
       "      <td>9.277993</td>\n",
       "      <td>11.096678</td>\n",
       "      <td>9.118405</td>\n",
       "      <td>-0.002524</td>\n",
       "      <td>0.0375</td>\n",
       "      <td>0.0437</td>\n",
       "    </tr>\n",
       "    <tr>\n",
       "      <th>1957-03-01</th>\n",
       "      <td>-0.050750</td>\n",
       "      <td>-3.238565</td>\n",
       "      <td>-3.294980</td>\n",
       "      <td>-2.562911</td>\n",
       "      <td>-0.675654</td>\n",
       "      <td>0.002288</td>\n",
       "      <td>0.599819</td>\n",
       "      <td>0.026600</td>\n",
       "      <td>0.0308</td>\n",
       "      <td>0.0331</td>\n",
       "      <td>...</td>\n",
       "      <td>0.0023</td>\n",
       "      <td>-0.000368</td>\n",
       "      <td>0.0077</td>\n",
       "      <td>0.007246</td>\n",
       "      <td>9.280482</td>\n",
       "      <td>11.090721</td>\n",
       "      <td>9.117433</td>\n",
       "      <td>0.002041</td>\n",
       "      <td>0.0366</td>\n",
       "      <td>0.0443</td>\n",
       "    </tr>\n",
       "  </tbody>\n",
       "</table>\n",
       "<p>5 rows × 21 columns</p>\n",
       "</div>"
      ],
      "text/plain": [
       "                 EQP        DP        DY        EP        DE      svar  \\\n",
       "time                                                                     \n",
       "1956-03-01  0.066512 -3.333030 -3.269151 -2.575525 -0.757505  0.003289   \n",
       "1956-06-01 -0.028264 -3.261722 -3.293365 -2.568575 -0.693147  0.003688   \n",
       "1956-09-01 -0.034415 -3.204645 -3.239744 -2.573142 -0.631503  0.002519   \n",
       "1956-12-01  0.033241 -3.289216 -3.260525 -2.616389 -0.672827  0.004394   \n",
       "1957-03-01 -0.050750 -3.238565 -3.294980 -2.562911 -0.675654  0.002288   \n",
       "\n",
       "                 b/m      ntis     tbl     lty  ...     TMS       DFR     DFY  \\\n",
       "time                                            ...                             \n",
       "1956-03-01  0.531077  0.026695  0.0225  0.0303  ...  0.0078  0.005159  0.0050   \n",
       "1956-06-01  0.551565  0.025672  0.0249  0.0299  ...  0.0050 -0.021824  0.0050   \n",
       "1956-09-01  0.571910  0.029362  0.0284  0.0324  ...  0.0040  0.005663  0.0051   \n",
       "1956-12-01  0.544177  0.026149  0.0321  0.0345  ...  0.0024 -0.002208  0.0062   \n",
       "1957-03-01  0.599819  0.026600  0.0308  0.0331  ...  0.0023 -0.000368  0.0077   \n",
       "\n",
       "                infl         c          w         y       cay     AAA     BAA  \n",
       "time                                                                           \n",
       "1956-03-01  0.000000  9.272498  11.092725  9.100386  0.007275  0.0310  0.0360  \n",
       "1956-06-01  0.014925  9.271728  11.091665  9.107828  0.000775  0.0326  0.0376  \n",
       "1956-09-01  0.007353  9.269304  11.086198  9.106428  0.000663  0.0356  0.0407  \n",
       "1956-12-01  0.007299  9.277993  11.096678  9.118405 -0.002524  0.0375  0.0437  \n",
       "1957-03-01  0.007246  9.280482  11.090721  9.117433  0.002041  0.0366  0.0443  \n",
       "\n",
       "[5 rows x 21 columns]"
      ]
     },
     "execution_count": 3,
     "metadata": {},
     "output_type": "execute_result"
    }
   ],
   "source": [
    "df.head()"
   ]
  },
  {
   "cell_type": "markdown",
   "id": "c9d180e8",
   "metadata": {},
   "source": [
    "### Add $y_{t-1}$ and construct X and y"
   ]
  },
  {
   "cell_type": "code",
   "execution_count": 4,
   "id": "a4aeb277",
   "metadata": {},
   "outputs": [
    {
     "data": {
      "text/html": [
       "<div>\n",
       "<style scoped>\n",
       "    .dataframe tbody tr th:only-of-type {\n",
       "        vertical-align: middle;\n",
       "    }\n",
       "\n",
       "    .dataframe tbody tr th {\n",
       "        vertical-align: top;\n",
       "    }\n",
       "\n",
       "    .dataframe thead th {\n",
       "        text-align: right;\n",
       "    }\n",
       "</style>\n",
       "<table border=\"1\" class=\"dataframe\">\n",
       "  <thead>\n",
       "    <tr style=\"text-align: right;\">\n",
       "      <th></th>\n",
       "      <th>EQP</th>\n",
       "      <th>DP</th>\n",
       "      <th>DY</th>\n",
       "      <th>EP</th>\n",
       "      <th>DE</th>\n",
       "      <th>svar</th>\n",
       "      <th>b/m</th>\n",
       "      <th>ntis</th>\n",
       "      <th>tbl</th>\n",
       "      <th>lty</th>\n",
       "      <th>...</th>\n",
       "      <th>DFR</th>\n",
       "      <th>DFY</th>\n",
       "      <th>infl</th>\n",
       "      <th>c</th>\n",
       "      <th>w</th>\n",
       "      <th>y</th>\n",
       "      <th>cay</th>\n",
       "      <th>AAA</th>\n",
       "      <th>BAA</th>\n",
       "      <th>y_lag</th>\n",
       "    </tr>\n",
       "    <tr>\n",
       "      <th>time</th>\n",
       "      <th></th>\n",
       "      <th></th>\n",
       "      <th></th>\n",
       "      <th></th>\n",
       "      <th></th>\n",
       "      <th></th>\n",
       "      <th></th>\n",
       "      <th></th>\n",
       "      <th></th>\n",
       "      <th></th>\n",
       "      <th></th>\n",
       "      <th></th>\n",
       "      <th></th>\n",
       "      <th></th>\n",
       "      <th></th>\n",
       "      <th></th>\n",
       "      <th></th>\n",
       "      <th></th>\n",
       "      <th></th>\n",
       "      <th></th>\n",
       "      <th></th>\n",
       "    </tr>\n",
       "  </thead>\n",
       "  <tbody>\n",
       "    <tr>\n",
       "      <th>1956-06-01</th>\n",
       "      <td>-0.028264</td>\n",
       "      <td>-3.261722</td>\n",
       "      <td>-3.293365</td>\n",
       "      <td>-2.568575</td>\n",
       "      <td>-0.693147</td>\n",
       "      <td>0.003688</td>\n",
       "      <td>0.551565</td>\n",
       "      <td>0.025672</td>\n",
       "      <td>0.0249</td>\n",
       "      <td>0.0299</td>\n",
       "      <td>...</td>\n",
       "      <td>-0.021824</td>\n",
       "      <td>0.0050</td>\n",
       "      <td>0.014925</td>\n",
       "      <td>9.271728</td>\n",
       "      <td>11.091665</td>\n",
       "      <td>9.107828</td>\n",
       "      <td>0.000775</td>\n",
       "      <td>0.0326</td>\n",
       "      <td>0.0376</td>\n",
       "      <td>0.066512</td>\n",
       "    </tr>\n",
       "    <tr>\n",
       "      <th>1956-09-01</th>\n",
       "      <td>-0.034415</td>\n",
       "      <td>-3.204645</td>\n",
       "      <td>-3.239744</td>\n",
       "      <td>-2.573142</td>\n",
       "      <td>-0.631503</td>\n",
       "      <td>0.002519</td>\n",
       "      <td>0.571910</td>\n",
       "      <td>0.029362</td>\n",
       "      <td>0.0284</td>\n",
       "      <td>0.0324</td>\n",
       "      <td>...</td>\n",
       "      <td>0.005663</td>\n",
       "      <td>0.0051</td>\n",
       "      <td>0.007353</td>\n",
       "      <td>9.269304</td>\n",
       "      <td>11.086198</td>\n",
       "      <td>9.106428</td>\n",
       "      <td>0.000663</td>\n",
       "      <td>0.0356</td>\n",
       "      <td>0.0407</td>\n",
       "      <td>-0.028264</td>\n",
       "    </tr>\n",
       "    <tr>\n",
       "      <th>1956-12-01</th>\n",
       "      <td>0.033241</td>\n",
       "      <td>-3.289216</td>\n",
       "      <td>-3.260525</td>\n",
       "      <td>-2.616389</td>\n",
       "      <td>-0.672827</td>\n",
       "      <td>0.004394</td>\n",
       "      <td>0.544177</td>\n",
       "      <td>0.026149</td>\n",
       "      <td>0.0321</td>\n",
       "      <td>0.0345</td>\n",
       "      <td>...</td>\n",
       "      <td>-0.002208</td>\n",
       "      <td>0.0062</td>\n",
       "      <td>0.007299</td>\n",
       "      <td>9.277993</td>\n",
       "      <td>11.096678</td>\n",
       "      <td>9.118405</td>\n",
       "      <td>-0.002524</td>\n",
       "      <td>0.0375</td>\n",
       "      <td>0.0437</td>\n",
       "      <td>-0.034415</td>\n",
       "    </tr>\n",
       "    <tr>\n",
       "      <th>1957-03-01</th>\n",
       "      <td>-0.050750</td>\n",
       "      <td>-3.238565</td>\n",
       "      <td>-3.294980</td>\n",
       "      <td>-2.562911</td>\n",
       "      <td>-0.675654</td>\n",
       "      <td>0.002288</td>\n",
       "      <td>0.599819</td>\n",
       "      <td>0.026600</td>\n",
       "      <td>0.0308</td>\n",
       "      <td>0.0331</td>\n",
       "      <td>...</td>\n",
       "      <td>-0.000368</td>\n",
       "      <td>0.0077</td>\n",
       "      <td>0.007246</td>\n",
       "      <td>9.280482</td>\n",
       "      <td>11.090721</td>\n",
       "      <td>9.117433</td>\n",
       "      <td>0.002041</td>\n",
       "      <td>0.0366</td>\n",
       "      <td>0.0443</td>\n",
       "      <td>0.033241</td>\n",
       "    </tr>\n",
       "    <tr>\n",
       "      <th>1957-06-01</th>\n",
       "      <td>0.075114</td>\n",
       "      <td>-3.309868</td>\n",
       "      <td>-3.238565</td>\n",
       "      <td>-2.628349</td>\n",
       "      <td>-0.681519</td>\n",
       "      <td>0.001363</td>\n",
       "      <td>0.565877</td>\n",
       "      <td>0.030528</td>\n",
       "      <td>0.0329</td>\n",
       "      <td>0.0361</td>\n",
       "      <td>...</td>\n",
       "      <td>-0.003789</td>\n",
       "      <td>0.0072</td>\n",
       "      <td>0.010791</td>\n",
       "      <td>9.278119</td>\n",
       "      <td>11.104916</td>\n",
       "      <td>9.118823</td>\n",
       "      <td>-0.004528</td>\n",
       "      <td>0.0391</td>\n",
       "      <td>0.0463</td>\n",
       "      <td>-0.050750</td>\n",
       "    </tr>\n",
       "  </tbody>\n",
       "</table>\n",
       "<p>5 rows × 22 columns</p>\n",
       "</div>"
      ],
      "text/plain": [
       "                 EQP        DP        DY        EP        DE      svar  \\\n",
       "time                                                                     \n",
       "1956-06-01 -0.028264 -3.261722 -3.293365 -2.568575 -0.693147  0.003688   \n",
       "1956-09-01 -0.034415 -3.204645 -3.239744 -2.573142 -0.631503  0.002519   \n",
       "1956-12-01  0.033241 -3.289216 -3.260525 -2.616389 -0.672827  0.004394   \n",
       "1957-03-01 -0.050750 -3.238565 -3.294980 -2.562911 -0.675654  0.002288   \n",
       "1957-06-01  0.075114 -3.309868 -3.238565 -2.628349 -0.681519  0.001363   \n",
       "\n",
       "                 b/m      ntis     tbl     lty  ...       DFR     DFY  \\\n",
       "time                                            ...                     \n",
       "1956-06-01  0.551565  0.025672  0.0249  0.0299  ... -0.021824  0.0050   \n",
       "1956-09-01  0.571910  0.029362  0.0284  0.0324  ...  0.005663  0.0051   \n",
       "1956-12-01  0.544177  0.026149  0.0321  0.0345  ... -0.002208  0.0062   \n",
       "1957-03-01  0.599819  0.026600  0.0308  0.0331  ... -0.000368  0.0077   \n",
       "1957-06-01  0.565877  0.030528  0.0329  0.0361  ... -0.003789  0.0072   \n",
       "\n",
       "                infl         c          w         y       cay     AAA     BAA  \\\n",
       "time                                                                            \n",
       "1956-06-01  0.014925  9.271728  11.091665  9.107828  0.000775  0.0326  0.0376   \n",
       "1956-09-01  0.007353  9.269304  11.086198  9.106428  0.000663  0.0356  0.0407   \n",
       "1956-12-01  0.007299  9.277993  11.096678  9.118405 -0.002524  0.0375  0.0437   \n",
       "1957-03-01  0.007246  9.280482  11.090721  9.117433  0.002041  0.0366  0.0443   \n",
       "1957-06-01  0.010791  9.278119  11.104916  9.118823 -0.004528  0.0391  0.0463   \n",
       "\n",
       "               y_lag  \n",
       "time                  \n",
       "1956-06-01  0.066512  \n",
       "1956-09-01 -0.028264  \n",
       "1956-12-01 -0.034415  \n",
       "1957-03-01  0.033241  \n",
       "1957-06-01 -0.050750  \n",
       "\n",
       "[5 rows x 22 columns]"
      ]
     },
     "execution_count": 4,
     "metadata": {},
     "output_type": "execute_result"
    }
   ],
   "source": [
    "df['y_lag'] = df['EQP'].shift()\n",
    "df = df.dropna()\n",
    "df.head()"
   ]
  },
  {
   "cell_type": "code",
   "execution_count": 5,
   "id": "8caa52c3",
   "metadata": {},
   "outputs": [
    {
     "data": {
      "text/html": [
       "<div>\n",
       "<style scoped>\n",
       "    .dataframe tbody tr th:only-of-type {\n",
       "        vertical-align: middle;\n",
       "    }\n",
       "\n",
       "    .dataframe tbody tr th {\n",
       "        vertical-align: top;\n",
       "    }\n",
       "\n",
       "    .dataframe thead th {\n",
       "        text-align: right;\n",
       "    }\n",
       "</style>\n",
       "<table border=\"1\" class=\"dataframe\">\n",
       "  <thead>\n",
       "    <tr style=\"text-align: right;\">\n",
       "      <th></th>\n",
       "      <th>DP</th>\n",
       "      <th>DY</th>\n",
       "    </tr>\n",
       "    <tr>\n",
       "      <th>time</th>\n",
       "      <th></th>\n",
       "      <th></th>\n",
       "    </tr>\n",
       "  </thead>\n",
       "  <tbody>\n",
       "    <tr>\n",
       "      <th>1956-06-01</th>\n",
       "      <td>-3.261722</td>\n",
       "      <td>-3.293365</td>\n",
       "    </tr>\n",
       "    <tr>\n",
       "      <th>1956-09-01</th>\n",
       "      <td>-3.204645</td>\n",
       "      <td>-3.239744</td>\n",
       "    </tr>\n",
       "  </tbody>\n",
       "</table>\n",
       "</div>"
      ],
      "text/plain": [
       "                  DP        DY\n",
       "time                          \n",
       "1956-06-01 -3.261722 -3.293365\n",
       "1956-09-01 -3.204645 -3.239744"
      ]
     },
     "execution_count": 5,
     "metadata": {},
     "output_type": "execute_result"
    }
   ],
   "source": [
    "X = df[['DP','DY']]\n",
    "station = pd.DataFrame()\n",
    "y = df[['EQP']].squeeze()\n",
    "X.head(2)"
   ]
  },
  {
   "cell_type": "markdown",
   "id": "6e03f14e",
   "metadata": {},
   "source": [
    "### Construct single-index and nonlinear models"
   ]
  },
  {
   "cell_type": "code",
   "execution_count": 6,
   "id": "24da26b3",
   "metadata": {},
   "outputs": [],
   "source": [
    "def single_index(x):\n",
    "    if isinstance(x, (pd.DataFrame, np.ndarray)):\n",
    "        if isinstance(x, pd.DataFrame):\n",
    "            x_values = x.values\n",
    "        else:\n",
    "            pass\n",
    "    else:\n",
    "        raise Exception('wrong type')\n",
    "\n",
    "    def u(theta):\n",
    "        if len(theta) == x_values.shape[1]:\n",
    "            sum_up = [x_values[:, i] * theta[i] for i in range(x_values.shape[1])]\n",
    "            index = np.sum(sum_up, axis=0)\n",
    "        else:\n",
    "            raise Exception('wrong parameter dimension')\n",
    "        return index\n",
    "\n",
    "    return u"
   ]
  },
  {
   "cell_type": "code",
   "execution_count": 7,
   "id": "dbdda074",
   "metadata": {},
   "outputs": [],
   "source": [
    "extra_params = {'sin_func':1,\n",
    "               'cos_func':1,\n",
    "               'scaled_sin_func':2,\n",
    "               'scaled_cos_func':2,\n",
    "               'exp_func':2,\n",
    "               'exp_shift_func':2,\n",
    "                'poly_func':3\n",
    "               }"
   ]
  },
  {
   "cell_type": "code",
   "execution_count": 8,
   "id": "37ec4390",
   "metadata": {},
   "outputs": [],
   "source": [
    "def dimensions(non_sta, sta, func):\n",
    "    stas = sta.shape[1]\n",
    "    nonstas = non_sta.shape[1]\n",
    "    extra = range(0, extra_params[func])\n",
    "    return nonstas, stas, extra"
   ]
  },
  {
   "cell_type": "code",
   "execution_count": 9,
   "id": "b64e4cac",
   "metadata": {},
   "outputs": [],
   "source": [
    "def sin_func(x):\n",
    "    def objective_func(params):\n",
    "        func = np.sin(single_index(x.iloc[:,:d1])(params[0:d1])+params[d1+d2+extra[0]])+np.dot(\n",
    "            x.iloc[:,d1:d1+d2], params[d1:d1+d2])\n",
    "        return func\n",
    "    return objective_func"
   ]
  },
  {
   "cell_type": "code",
   "execution_count": 10,
   "id": "cd7ec4fc",
   "metadata": {},
   "outputs": [],
   "source": [
    "def cos_func(x):\n",
    "    def objective_func(params):\n",
    "        func = np.cos(single_index(x.iloc[:,:d1])(params[0:d1])+params[d1+d2+extra[0]])+np.dot(\n",
    "            x.iloc[:,d1:d1+d2], params[d1:d1+d2])\n",
    "        return func\n",
    "    return objective_func"
   ]
  },
  {
   "cell_type": "code",
   "execution_count": 11,
   "id": "2d660659",
   "metadata": {},
   "outputs": [],
   "source": [
    "def scaled_sin_func(x):\n",
    "    def objective_func(params):\n",
    "        func = np.sin(params[d1+d2+extra[1]]*single_index(x.iloc[:,:d1])(\n",
    "            params[0:d1])+params[d1+d2+extra[0]])+np.dot(x.iloc[:,d1:d1+d2], params[d1:d1+d2])\n",
    "        return func\n",
    "    return objective_func"
   ]
  },
  {
   "cell_type": "code",
   "execution_count": 12,
   "id": "e40efcb7",
   "metadata": {},
   "outputs": [],
   "source": [
    "def scaled_cos_func(x):\n",
    "    def objective_func(params):\n",
    "        func = np.cos(params[d1+d2+extra[1]]*single_index(x.iloc[:,:d1])(\n",
    "            params[0:d1])+params[d1+d2+extra[0]])+np.dot(x.iloc[:,d1:d1+d2], params[d1:d1+d2])\n",
    "        return func\n",
    "    return objective_func"
   ]
  },
  {
   "cell_type": "code",
   "execution_count": 13,
   "id": "a8d48477",
   "metadata": {},
   "outputs": [],
   "source": [
    "def exp_shift_func(x):\n",
    "    def objective_func(params):\n",
    "        func = 1 - np.exp(params[d1+d2+extra[1]]*((single_index(x.iloc[:,:d1])(\n",
    "            params[0:d1]))-params[d1+d2+extra[0]])**2)+np.dot(x.iloc[:,d1:d1+d2], params[d1:d1+d2])\n",
    "        return func\n",
    "    return objective_func"
   ]
  },
  {
   "cell_type": "code",
   "execution_count": 14,
   "id": "62c2cf5c",
   "metadata": {},
   "outputs": [],
   "source": [
    "def exp_func(x):\n",
    "    def objective_func(params):\n",
    "        func = params[d1+d2+extra[0]]*np.exp(-params[d1+d2+extra[1]]*(single_index(x.iloc[:,:d1])(params[0:d1]))**2\n",
    "                                )+np.dot(x.iloc[:,d1:d1+d2], params[d1:d1+d2])\n",
    "        return func\n",
    "    return objective_func"
   ]
  },
  {
   "cell_type": "code",
   "execution_count": 15,
   "id": "a28e01fe",
   "metadata": {},
   "outputs": [],
   "source": [
    "def poly_func(x):\n",
    "    def objective_func(params):\n",
    "        func = params[d1+d2+extra[0]]+params[d1+d2+extra[1]]*(single_index(x.iloc[:,:d1])(\n",
    "            params[0:d1]))+params[d1+d2+extra[2]]*((single_index(x.iloc[:,:d1])(\n",
    "            params[0:d1]))**2)+np.dot(x.iloc[:,d1:d1+d2], params[d1:d1+d2])\n",
    "#                (single_index(x.iloc[:,:d1])(params[0:d1])\n",
    "        return func\n",
    "    return objective_func"
   ]
  },
  {
   "cell_type": "markdown",
   "id": "7e97d438",
   "metadata": {},
   "source": [
    "### Model Estimation"
   ]
  },
  {
   "cell_type": "code",
   "execution_count": 16,
   "id": "eb982ee6",
   "metadata": {},
   "outputs": [],
   "source": [
    "def constraint_func(x):\n",
    "    def constraint(params):\n",
    "        con = 0\n",
    "        for j in np.arange(0, x.iloc[:,:d1].shape[1]):\n",
    "            con += params[j]**2\n",
    "            cons = con - 1\n",
    "        return cons\n",
    "    return {'type':'eq', 'fun': constraint}"
   ]
  },
  {
   "cell_type": "code",
   "execution_count": 17,
   "id": "c6814118",
   "metadata": {},
   "outputs": [],
   "source": [
    "d1, d2, extra = dimensions(X, station,'poly_func')\n",
    "cls_nls = CLS_Estimator(obj_func = poly_func, x0 = [0.001]*(d1+d2+extra[-1]+1))\n",
    "cls = CLS_Estimator(obj_func = poly_func, x0 = [0.001]*(d1+d2+extra[-1]+1), constraints = constraint_func(X))"
   ]
  },
  {
   "cell_type": "code",
   "execution_count": 18,
   "id": "525ab7db",
   "metadata": {},
   "outputs": [
    {
     "data": {
      "text/plain": [
       "CLS_Estimator(constraints={'fun': <function constraint_func.<locals>.constraint at 0x000001A4551E71E0>,\n",
       "                           'type': 'eq'},\n",
       "              obj_func=<function poly_func at 0x000001A4551E2BF8>,\n",
       "              x0=[0.001, 0.001, 0.001, 0.001, 0.001])"
      ]
     },
     "execution_count": 18,
     "metadata": {},
     "output_type": "execute_result"
    }
   ],
   "source": [
    "cls_nls.fit(X,y)\n",
    "cls.fit(X,y)"
   ]
  },
  {
   "cell_type": "code",
   "execution_count": 19,
   "id": "b65b346d",
   "metadata": {},
   "outputs": [
    {
     "name": "stdout",
     "output_type": "stream",
     "text": [
      "[-8.94841330e-04  1.92702711e-03  1.24399499e-02 -2.56973660e-05\n",
      "  1.01218548e-03]\n",
      "[-0.16930924  0.98556298  0.00341686 -0.03364998 -0.01037493]\n"
     ]
    }
   ],
   "source": [
    "print(cls_nls.params_)\n",
    "print(cls.params_)"
   ]
  },
  {
   "cell_type": "code",
   "execution_count": 20,
   "id": "332ebe6d",
   "metadata": {},
   "outputs": [
    {
     "data": {
      "text/plain": [
       "-0.16930923753093413"
      ]
     },
     "execution_count": 20,
     "metadata": {},
     "output_type": "execute_result"
    }
   ],
   "source": [
    "cls.params_[0]"
   ]
  },
  {
   "cell_type": "code",
   "execution_count": 21,
   "id": "150c57ae",
   "metadata": {},
   "outputs": [
    {
     "data": {
      "text/plain": [
       "1.0000000010637105"
      ]
     },
     "execution_count": 21,
     "metadata": {},
     "output_type": "execute_result"
    }
   ],
   "source": [
    "cls.params_[0]**2+cls.params_[1]**2"
   ]
  },
  {
   "cell_type": "markdown",
   "id": "12dfc443",
   "metadata": {},
   "source": [
    "## Empirical Study"
   ]
  },
  {
   "cell_type": "markdown",
   "id": "89ef5845",
   "metadata": {},
   "source": [
    "### Cointegrated predictors\n",
    "- dividend-price ratio and dividend yield\n",
    "- T-bill rate and long-term yield\n",
    "- dividend-price ratio and earningprice ratio\n",
    "- baa- and aaa-rated corporate bond yields"
   ]
  },
  {
   "cell_type": "code",
   "execution_count": 22,
   "id": "a7c43534",
   "metadata": {},
   "outputs": [],
   "source": [
    "co1 = df[['DP', 'DY']]\n",
    "co2 = df[['tbl', 'lty']]\n",
    "co3 = df[['DP', 'EP']]\n",
    "co4 = df[['BAA', 'AAA']]"
   ]
  },
  {
   "cell_type": "code",
   "execution_count": 23,
   "id": "27478a2d",
   "metadata": {},
   "outputs": [],
   "source": [
    "cointe_variables = [co1, co2, co3, co4]"
   ]
  },
  {
   "cell_type": "markdown",
   "id": "bb4964be",
   "metadata": {},
   "source": [
    "### Stationary variables"
   ]
  },
  {
   "cell_type": "code",
   "execution_count": 114,
   "id": "c7d98212",
   "metadata": {},
   "outputs": [],
   "source": [
    "station = df[['y_lag', 'cay']]"
   ]
  },
  {
   "cell_type": "markdown",
   "id": "e25b1b8e",
   "metadata": {},
   "source": [
    "### Fit model and Save Results"
   ]
  },
  {
   "cell_type": "code",
   "execution_count": 25,
   "id": "f4e98549",
   "metadata": {},
   "outputs": [],
   "source": [
    "def get_df_name(df):\n",
    "    name =[x for x in globals() if globals()[x] is df][0]\n",
    "    return name"
   ]
  },
  {
   "cell_type": "code",
   "execution_count": 26,
   "id": "b67c7e67",
   "metadata": {},
   "outputs": [],
   "source": [
    "fun_list = [sin_func,\n",
    "            cos_func,\n",
    "            scaled_sin_func,\n",
    "            scaled_cos_func,\n",
    "            exp_func,\n",
    "            exp_shift_func,\n",
    "            poly_func\n",
    "           ]"
   ]
  },
  {
   "cell_type": "code",
   "execution_count": 27,
   "id": "8b571081",
   "metadata": {},
   "outputs": [],
   "source": [
    "# Set up hierachical index\n",
    "fun_names = [i.__name__ for i in fun_list]\n",
    "cointe_names = [get_df_name(i) for i in cointe_variables]\n",
    "iterables_a = [fun_names, cointe_names]"
   ]
  },
  {
   "cell_type": "code",
   "execution_count": 28,
   "id": "d2aa57c7",
   "metadata": {},
   "outputs": [],
   "source": [
    "#Set up directory\n",
    "parent = os.getcwd()\n",
    "folder = 'results'\n",
    "path = os.path.join(parent, folder)\n",
    "if not os.path.exists(path):\n",
    "    os.makedirs(path)"
   ]
  },
  {
   "cell_type": "code",
   "execution_count": 29,
   "id": "32f68e32",
   "metadata": {
    "scrolled": true
   },
   "outputs": [],
   "source": [
    "results = pd.DataFrame()\n",
    "for i, j in itertools.product(fun_list, cointe_variables):\n",
    "    # Set up dimensions\n",
    "    d1, d2, extra= dimensions(j,station, i.__name__)\n",
    "    initial_len = d1+d2+extra[-1]+1\n",
    "    \n",
    "    # Set up dataframes\n",
    "    iterables = [[i.__name__], [get_df_name(j)]]\n",
    "    sec_columns = ['param_'+str(i) for i in range(1,initial_len+1)]\n",
    "    multi_index = pd.MultiIndex.from_product(iterables, names=[\"function\", \"variables\"])\n",
    "    multi_columns = pd.MultiIndex.from_product([['NLS', 'CLS'], sec_columns],\n",
    "                                               names=['Estimator', 'Parameters'])\n",
    "    result = pd.DataFrame(index = multi_index, columns = multi_columns)\n",
    "    # Prepare X\n",
    "    X_ = j.join(station)\n",
    "    # Fit models\n",
    "    nls = CLS_Estimator(obj_func = i, x0 = [0.001]*initial_len)\n",
    "    cls = CLS_Estimator(obj_func = i, x0 = [0.001]*initial_len, constraints = constraint_func(X_))\n",
    "    nls.params_ = nls.fit(X_,y).params_\n",
    "    cls.params_ = cls.fit(X_,y).params_\n",
    "    # Save results to dataframe\n",
    "    result.loc[i.__name__,get_df_name(j)].loc['NLS'] = nls.params_ \n",
    "    result.loc[i.__name__,get_df_name(j)].loc['CLS'] = cls.params_ \n",
    "    # Put into one table\n",
    "    results = results.append(result, ignore_index = False, sort = False)\n",
    "    \n",
    "# Export to Excel\n",
    "results.to_excel('Results/full_sample.xlsx')"
   ]
  },
  {
   "cell_type": "code",
   "execution_count": 30,
   "id": "8a9b4c08",
   "metadata": {},
   "outputs": [
    {
     "data": {
      "text/html": [
       "<div>\n",
       "<style scoped>\n",
       "    .dataframe tbody tr th:only-of-type {\n",
       "        vertical-align: middle;\n",
       "    }\n",
       "\n",
       "    .dataframe tbody tr th {\n",
       "        vertical-align: top;\n",
       "    }\n",
       "\n",
       "    .dataframe thead tr th {\n",
       "        text-align: left;\n",
       "    }\n",
       "\n",
       "    .dataframe thead tr:last-of-type th {\n",
       "        text-align: right;\n",
       "    }\n",
       "</style>\n",
       "<table border=\"1\" class=\"dataframe\">\n",
       "  <thead>\n",
       "    <tr>\n",
       "      <th></th>\n",
       "      <th>Estimator</th>\n",
       "      <th colspan=\"7\" halign=\"left\">CLS</th>\n",
       "      <th colspan=\"7\" halign=\"left\">NLS</th>\n",
       "    </tr>\n",
       "    <tr>\n",
       "      <th></th>\n",
       "      <th>Parameters</th>\n",
       "      <th>param_1</th>\n",
       "      <th>param_2</th>\n",
       "      <th>param_3</th>\n",
       "      <th>param_4</th>\n",
       "      <th>param_5</th>\n",
       "      <th>param_6</th>\n",
       "      <th>param_7</th>\n",
       "      <th>param_1</th>\n",
       "      <th>param_2</th>\n",
       "      <th>param_3</th>\n",
       "      <th>param_4</th>\n",
       "      <th>param_5</th>\n",
       "      <th>param_6</th>\n",
       "      <th>param_7</th>\n",
       "    </tr>\n",
       "    <tr>\n",
       "      <th>function</th>\n",
       "      <th>variables</th>\n",
       "      <th></th>\n",
       "      <th></th>\n",
       "      <th></th>\n",
       "      <th></th>\n",
       "      <th></th>\n",
       "      <th></th>\n",
       "      <th></th>\n",
       "      <th></th>\n",
       "      <th></th>\n",
       "      <th></th>\n",
       "      <th></th>\n",
       "      <th></th>\n",
       "      <th></th>\n",
       "      <th></th>\n",
       "    </tr>\n",
       "  </thead>\n",
       "  <tbody>\n",
       "    <tr>\n",
       "      <th rowspan=\"3\" valign=\"top\">sin_func</th>\n",
       "      <th>co1</th>\n",
       "      <td>0.709838</td>\n",
       "      <td>-0.704365</td>\n",
       "      <td>0.022517</td>\n",
       "      <td>-0.104848</td>\n",
       "      <td>-15.689339</td>\n",
       "      <td>NaN</td>\n",
       "      <td>NaN</td>\n",
       "      <td>-1.008436</td>\n",
       "      <td>1.002847</td>\n",
       "      <td>0.000839</td>\n",
       "      <td>-0.073964</td>\n",
       "      <td>-0.023462</td>\n",
       "      <td>NaN</td>\n",
       "      <td>NaN</td>\n",
       "    </tr>\n",
       "    <tr>\n",
       "      <th>co2</th>\n",
       "      <td>0.495116</td>\n",
       "      <td>-0.868827</td>\n",
       "      <td>0.079209</td>\n",
       "      <td>0.054524</td>\n",
       "      <td>-50.222284</td>\n",
       "      <td>NaN</td>\n",
       "      <td>NaN</td>\n",
       "      <td>-0.786401</td>\n",
       "      <td>0.690315</td>\n",
       "      <td>0.066833</td>\n",
       "      <td>-0.247875</td>\n",
       "      <td>0.003686</td>\n",
       "      <td>NaN</td>\n",
       "      <td>NaN</td>\n",
       "    </tr>\n",
       "    <tr>\n",
       "      <th>co3</th>\n",
       "      <td>0.715437</td>\n",
       "      <td>-0.698678</td>\n",
       "      <td>-0.221696</td>\n",
       "      <td>-0.790349</td>\n",
       "      <td>-2.565328</td>\n",
       "      <td>NaN</td>\n",
       "      <td>NaN</td>\n",
       "      <td>-0.026356</td>\n",
       "      <td>-0.00009</td>\n",
       "      <td>0.059006</td>\n",
       "      <td>-0.224006</td>\n",
       "      <td>-0.083221</td>\n",
       "      <td>NaN</td>\n",
       "      <td>NaN</td>\n",
       "    </tr>\n",
       "  </tbody>\n",
       "</table>\n",
       "</div>"
      ],
      "text/plain": [
       "Estimator                CLS                                                   \\\n",
       "Parameters           param_1   param_2   param_3   param_4    param_5 param_6   \n",
       "function variables                                                              \n",
       "sin_func co1        0.709838 -0.704365  0.022517 -0.104848 -15.689339     NaN   \n",
       "         co2        0.495116 -0.868827  0.079209  0.054524 -50.222284     NaN   \n",
       "         co3        0.715437 -0.698678 -0.221696 -0.790349  -2.565328     NaN   \n",
       "\n",
       "Estimator                        NLS                                          \\\n",
       "Parameters         param_7   param_1   param_2   param_3   param_4   param_5   \n",
       "function variables                                                             \n",
       "sin_func co1           NaN -1.008436  1.002847  0.000839 -0.073964 -0.023462   \n",
       "         co2           NaN -0.786401  0.690315  0.066833 -0.247875  0.003686   \n",
       "         co3           NaN -0.026356  -0.00009  0.059006 -0.224006 -0.083221   \n",
       "\n",
       "Estimator                           \n",
       "Parameters         param_6 param_7  \n",
       "function variables                  \n",
       "sin_func co1           NaN     NaN  \n",
       "         co2           NaN     NaN  \n",
       "         co3           NaN     NaN  "
      ]
     },
     "execution_count": 30,
     "metadata": {},
     "output_type": "execute_result"
    }
   ],
   "source": [
    "results.head(3)"
   ]
  },
  {
   "cell_type": "markdown",
   "id": "659a427c",
   "metadata": {},
   "source": [
    "# WTF is hapenning here?!!!"
   ]
  },
  {
   "cell_type": "code",
   "execution_count": 31,
   "id": "3d76252f",
   "metadata": {},
   "outputs": [],
   "source": [
    "# def fit_model(functions, variables, file_name):   \n",
    "#     results = pd.DataFrame()\n",
    "#     for i, j in itertools.product(functions, variables):\n",
    "#         # Set up dimensions\n",
    "#         d1, d2, extra= dimensions(j,station, i.__name__)\n",
    "# #         print(d1,d2,extra[-1])\n",
    "#         initial_len = d1+d2+extra[-1]+1\n",
    "\n",
    "#         # Set up dataframes\n",
    "#         iterables = [[i.__name__], [get_df_name(j)]]\n",
    "#         sec_columns = ['param_'+str(i) for i in range(1,initial_len+1)]\n",
    "#         multi_index = pd.MultiIndex.from_product(iterables, names=[\"function\", \"variables\"])\n",
    "#         multi_columns = pd.MultiIndex.from_product([['NLS', 'CLS'], sec_columns],\n",
    "#                                                    names=['Estimator', 'Parameters'])\n",
    "#         result = pd.DataFrame(index = multi_index, columns = multi_columns)\n",
    "#         # Prepare X\n",
    "#         X_ = j.join(station)\n",
    "#         # Fit models\n",
    "#         nls = CLS_Estimator(obj_func = i, x0 = [0.001]*initial_len)\n",
    "#         cls = CLS_Estimator(obj_func = i, x0 = [0.001]*initial_len, constraints = constraint_func(X))\n",
    "#         nls.params_ = nls.fit(X_,y).params_\n",
    "#         cls.params_ = cls.fit(X_,y).params_\n",
    "#         print(initial_len)\n",
    "#         # Save results to dataframe\n",
    "#         result.loc[i.__name__,get_df_name(j)].loc['NLS'] = nls.params_ \n",
    "#         result.loc[i.__name__,get_df_name(j)].loc['CLS'] = cls.params_ \n",
    "#         # Put into one table\n",
    "#         results = results.append(result, ignore_index = False, sort = False)\n",
    "#     # Export to Excel\n",
    "#     path = 'Results/' + file_name +'.xlsx'\n",
    "#     results.to_excel(path)\n",
    "#     return results"
   ]
  },
  {
   "cell_type": "code",
   "execution_count": 32,
   "id": "d6f46062",
   "metadata": {},
   "outputs": [],
   "source": [
    "# fit_model(fun_list, cointe_variables,'results_1835')"
   ]
  },
  {
   "cell_type": "markdown",
   "id": "07159b26",
   "metadata": {},
   "source": [
    "## Use initial values from Linear regression (using Taylor expansion)"
   ]
  },
  {
   "cell_type": "code",
   "execution_count": 33,
   "id": "dfb4029b",
   "metadata": {},
   "outputs": [],
   "source": [
    "from sklearn.linear_model import LinearRegression"
   ]
  },
  {
   "cell_type": "markdown",
   "id": "2c4dc9fd",
   "metadata": {},
   "source": [
    "### Initial values for $\\theta$"
   ]
  },
  {
   "cell_type": "code",
   "execution_count": 143,
   "id": "42f09d98",
   "metadata": {},
   "outputs": [],
   "source": [
    "LR = LinearRegression()"
   ]
  },
  {
   "cell_type": "code",
   "execution_count": 144,
   "id": "875cdf9d",
   "metadata": {},
   "outputs": [],
   "source": [
    "LR_theta = LR.fit(co1.iloc[:,1:], co1.iloc[:,:1])"
   ]
  },
  {
   "cell_type": "code",
   "execution_count": 145,
   "id": "ef5c1a58",
   "metadata": {},
   "outputs": [
    {
     "data": {
      "text/plain": [
       "array([-0.7138883 , -0.70025959])"
      ]
     },
     "execution_count": 145,
     "metadata": {},
     "output_type": "execute_result"
    }
   ],
   "source": [
    "alpha = np.append(1,LR_theta.coef_)\n",
    "theta = np.array(-alpha/np.linalg.norm(alpha))\n",
    "theta"
   ]
  },
  {
   "cell_type": "markdown",
   "id": "347b759f",
   "metadata": {},
   "source": [
    "### Initial values for $\\beta$ and $\\gamma$"
   ]
  },
  {
   "cell_type": "markdown",
   "id": "dd73059a",
   "metadata": {},
   "source": [
    "#### 1st order Taylor"
   ]
  },
  {
   "cell_type": "code",
   "execution_count": 146,
   "id": "d151529d",
   "metadata": {},
   "outputs": [],
   "source": [
    "u = single_index(co1)(theta)"
   ]
  },
  {
   "cell_type": "code",
   "execution_count": 147,
   "id": "e3c10d9e",
   "metadata": {},
   "outputs": [
    {
     "data": {
      "text/html": [
       "<div>\n",
       "<style scoped>\n",
       "    .dataframe tbody tr th:only-of-type {\n",
       "        vertical-align: middle;\n",
       "    }\n",
       "\n",
       "    .dataframe tbody tr th {\n",
       "        vertical-align: top;\n",
       "    }\n",
       "\n",
       "    .dataframe thead th {\n",
       "        text-align: right;\n",
       "    }\n",
       "</style>\n",
       "<table border=\"1\" class=\"dataframe\">\n",
       "  <thead>\n",
       "    <tr style=\"text-align: right;\">\n",
       "      <th></th>\n",
       "      <th>y_lag</th>\n",
       "      <th>cay</th>\n",
       "      <th>u</th>\n",
       "      <th>u2</th>\n",
       "    </tr>\n",
       "    <tr>\n",
       "      <th>time</th>\n",
       "      <th></th>\n",
       "      <th></th>\n",
       "      <th></th>\n",
       "      <th></th>\n",
       "    </tr>\n",
       "  </thead>\n",
       "  <tbody>\n",
       "    <tr>\n",
       "      <th>1956-06-01</th>\n",
       "      <td>0.066512</td>\n",
       "      <td>0.000775</td>\n",
       "      <td>4.634716</td>\n",
       "      <td>21.480589</td>\n",
       "    </tr>\n",
       "    <tr>\n",
       "      <th>1956-09-01</th>\n",
       "      <td>-0.028264</td>\n",
       "      <td>0.000663</td>\n",
       "      <td>4.556420</td>\n",
       "      <td>20.760961</td>\n",
       "    </tr>\n",
       "    <tr>\n",
       "      <th>1956-12-01</th>\n",
       "      <td>-0.034415</td>\n",
       "      <td>-0.002524</td>\n",
       "      <td>4.631347</td>\n",
       "      <td>21.449376</td>\n",
       "    </tr>\n",
       "  </tbody>\n",
       "</table>\n",
       "</div>"
      ],
      "text/plain": [
       "               y_lag       cay         u         u2\n",
       "time                                               \n",
       "1956-06-01  0.066512  0.000775  4.634716  21.480589\n",
       "1956-09-01 -0.028264  0.000663  4.556420  20.760961\n",
       "1956-12-01 -0.034415 -0.002524  4.631347  21.449376"
      ]
     },
     "execution_count": 147,
     "metadata": {},
     "output_type": "execute_result"
    }
   ],
   "source": [
    "X_order1 = station\n",
    "X_order1['u'] = u\n",
    "X_order1.head(3)"
   ]
  },
  {
   "cell_type": "code",
   "execution_count": 148,
   "id": "7cc1eb3c",
   "metadata": {},
   "outputs": [],
   "source": [
    "LR_O1 = LR.fit(X_order1, y)"
   ]
  },
  {
   "cell_type": "markdown",
   "id": "b945b689",
   "metadata": {},
   "source": [
    "#### Initials for sin_func and scaled_sin_func"
   ]
  },
  {
   "cell_type": "code",
   "execution_count": 149,
   "id": "09d890f9",
   "metadata": {},
   "outputs": [
    {
     "data": {
      "text/plain": [
       "array([-0.7138883 , -0.70025959,  0.0681076 , -0.14806838, -0.3015171 ])"
      ]
     },
     "execution_count": 149,
     "metadata": {},
     "output_type": "execute_result"
    }
   ],
   "source": [
    "ini_sin = np.append(np.append(theta,LR_O1.coef_[:d2]), LR_O1.intercept_)\n",
    "ini_sin"
   ]
  },
  {
   "cell_type": "code",
   "execution_count": 150,
   "id": "073ec3c1",
   "metadata": {},
   "outputs": [
    {
     "data": {
      "text/plain": [
       "array([-0.7138883 , -0.70025959,  0.0681076 , -0.14806838, -0.3015171 ,\n",
       "        0.0681076 ])"
      ]
     },
     "execution_count": 150,
     "metadata": {},
     "output_type": "execute_result"
    }
   ],
   "source": [
    "ini_scaled_sin = np.append(np.append(theta, LR_O1.coef_[:d2]),([LR_O1.intercept_], [LR_O1.coef_[0]]))\n",
    "ini_scaled_sin"
   ]
  },
  {
   "cell_type": "markdown",
   "id": "10778eab",
   "metadata": {},
   "source": [
    "#### 2nd order Taylor"
   ]
  },
  {
   "cell_type": "code",
   "execution_count": 151,
   "id": "5a33eff9",
   "metadata": {},
   "outputs": [
    {
     "data": {
      "text/html": [
       "<div>\n",
       "<style scoped>\n",
       "    .dataframe tbody tr th:only-of-type {\n",
       "        vertical-align: middle;\n",
       "    }\n",
       "\n",
       "    .dataframe tbody tr th {\n",
       "        vertical-align: top;\n",
       "    }\n",
       "\n",
       "    .dataframe thead th {\n",
       "        text-align: right;\n",
       "    }\n",
       "</style>\n",
       "<table border=\"1\" class=\"dataframe\">\n",
       "  <thead>\n",
       "    <tr style=\"text-align: right;\">\n",
       "      <th></th>\n",
       "      <th>y_lag</th>\n",
       "      <th>cay</th>\n",
       "      <th>u</th>\n",
       "      <th>u2</th>\n",
       "    </tr>\n",
       "    <tr>\n",
       "      <th>time</th>\n",
       "      <th></th>\n",
       "      <th></th>\n",
       "      <th></th>\n",
       "      <th></th>\n",
       "    </tr>\n",
       "  </thead>\n",
       "  <tbody>\n",
       "    <tr>\n",
       "      <th>1956-06-01</th>\n",
       "      <td>0.066512</td>\n",
       "      <td>0.000775</td>\n",
       "      <td>4.634716</td>\n",
       "      <td>21.480589</td>\n",
       "    </tr>\n",
       "    <tr>\n",
       "      <th>1956-09-01</th>\n",
       "      <td>-0.028264</td>\n",
       "      <td>0.000663</td>\n",
       "      <td>4.556420</td>\n",
       "      <td>20.760961</td>\n",
       "    </tr>\n",
       "    <tr>\n",
       "      <th>1956-12-01</th>\n",
       "      <td>-0.034415</td>\n",
       "      <td>-0.002524</td>\n",
       "      <td>4.631347</td>\n",
       "      <td>21.449376</td>\n",
       "    </tr>\n",
       "  </tbody>\n",
       "</table>\n",
       "</div>"
      ],
      "text/plain": [
       "               y_lag       cay         u         u2\n",
       "time                                               \n",
       "1956-06-01  0.066512  0.000775  4.634716  21.480589\n",
       "1956-09-01 -0.028264  0.000663  4.556420  20.760961\n",
       "1956-12-01 -0.034415 -0.002524  4.631347  21.449376"
      ]
     },
     "execution_count": 151,
     "metadata": {},
     "output_type": "execute_result"
    }
   ],
   "source": [
    "X_order2 = X_order1\n",
    "X_order2['u2'] = u**2\n",
    "X_order2.head(3)"
   ]
  },
  {
   "cell_type": "code",
   "execution_count": 163,
   "id": "d3810c2a",
   "metadata": {},
   "outputs": [],
   "source": [
    "LR_O2 = LR.fit(X_order2, y)"
   ]
  },
  {
   "cell_type": "markdown",
   "id": "e7b2e875",
   "metadata": {},
   "source": [
    "#### Initials for cos_func and scaled_cos_func"
   ]
  },
  {
   "cell_type": "code",
   "execution_count": 165,
   "id": "14c51d85",
   "metadata": {},
   "outputs": [
    {
     "data": {
      "text/plain": [
       "array([-0.7138883 , -0.70025959,  0.0681076 , -0.14806838, -0.11954364])"
      ]
     },
     "execution_count": 165,
     "metadata": {},
     "output_type": "execute_result"
    }
   ],
   "source": [
    "ini_cos = np.append(np.append(theta,LR_O2.coef_[:d2]), [-LR_O2.coef_[d2]])\n",
    "ini_cos"
   ]
  },
  {
   "cell_type": "code",
   "execution_count": 166,
   "id": "72c9204f",
   "metadata": {},
   "outputs": [
    {
     "data": {
      "text/plain": [
       "array([-0.7138883 , -0.70025959,  0.0681076 , -0.14806838, -0.79623137,\n",
       "        0.15013681])"
      ]
     },
     "execution_count": 166,
     "metadata": {},
     "output_type": "execute_result"
    }
   ],
   "source": [
    "ini_scaled_cos = np.append(np.append(theta, LR_O2.coef_[:d2]),([-LR_O2.coef_[2]/np.sqrt(\n",
    "    -2*LR_O2.coef_[3])], [np.sqrt(-2*LR_O2.coef_[3])]))\n",
    "ini_scaled_cos"
   ]
  },
  {
   "cell_type": "markdown",
   "id": "e0e9861e",
   "metadata": {},
   "source": [
    "#### Initials for poly_func"
   ]
  },
  {
   "cell_type": "code",
   "execution_count": 167,
   "id": "8349216a",
   "metadata": {},
   "outputs": [
    {
     "data": {
      "text/plain": [
       "array([-0.7138883 , -0.70025959,  0.0681076 , -0.14806838, -0.3015171 ,\n",
       "        0.11954364, -0.01127053])"
      ]
     },
     "execution_count": 167,
     "metadata": {},
     "output_type": "execute_result"
    }
   ],
   "source": [
    "ini_scaled_poly = np.append(np.append(theta, LR_O2.coef_[:d2]),LR_O2.coef_[d2:])\n",
    "ini_scaled_poly = np.insert(ini_scaled_poly, 4, LR_O2.intercept_)\n",
    "ini_scaled_poly"
   ]
  },
  {
   "cell_type": "markdown",
   "id": "b781ed99",
   "metadata": {},
   "source": [
    "#### 3rd Taylor"
   ]
  },
  {
   "cell_type": "code",
   "execution_count": 169,
   "id": "f86b4dd1",
   "metadata": {},
   "outputs": [
    {
     "data": {
      "text/html": [
       "<div>\n",
       "<style scoped>\n",
       "    .dataframe tbody tr th:only-of-type {\n",
       "        vertical-align: middle;\n",
       "    }\n",
       "\n",
       "    .dataframe tbody tr th {\n",
       "        vertical-align: top;\n",
       "    }\n",
       "\n",
       "    .dataframe thead th {\n",
       "        text-align: right;\n",
       "    }\n",
       "</style>\n",
       "<table border=\"1\" class=\"dataframe\">\n",
       "  <thead>\n",
       "    <tr style=\"text-align: right;\">\n",
       "      <th></th>\n",
       "      <th>y_lag</th>\n",
       "      <th>cay</th>\n",
       "      <th>u</th>\n",
       "      <th>u2</th>\n",
       "      <th>u3</th>\n",
       "    </tr>\n",
       "    <tr>\n",
       "      <th>time</th>\n",
       "      <th></th>\n",
       "      <th></th>\n",
       "      <th></th>\n",
       "      <th></th>\n",
       "      <th></th>\n",
       "    </tr>\n",
       "  </thead>\n",
       "  <tbody>\n",
       "    <tr>\n",
       "      <th>1956-06-01</th>\n",
       "      <td>0.066512</td>\n",
       "      <td>0.000775</td>\n",
       "      <td>4.634716</td>\n",
       "      <td>21.480589</td>\n",
       "      <td>99.556425</td>\n",
       "    </tr>\n",
       "    <tr>\n",
       "      <th>1956-09-01</th>\n",
       "      <td>-0.028264</td>\n",
       "      <td>0.000663</td>\n",
       "      <td>4.556420</td>\n",
       "      <td>20.760961</td>\n",
       "      <td>94.595654</td>\n",
       "    </tr>\n",
       "    <tr>\n",
       "      <th>1956-12-01</th>\n",
       "      <td>-0.034415</td>\n",
       "      <td>-0.002524</td>\n",
       "      <td>4.631347</td>\n",
       "      <td>21.449376</td>\n",
       "      <td>99.339504</td>\n",
       "    </tr>\n",
       "  </tbody>\n",
       "</table>\n",
       "</div>"
      ],
      "text/plain": [
       "               y_lag       cay         u         u2         u3\n",
       "time                                                          \n",
       "1956-06-01  0.066512  0.000775  4.634716  21.480589  99.556425\n",
       "1956-09-01 -0.028264  0.000663  4.556420  20.760961  94.595654\n",
       "1956-12-01 -0.034415 -0.002524  4.631347  21.449376  99.339504"
      ]
     },
     "execution_count": 169,
     "metadata": {},
     "output_type": "execute_result"
    }
   ],
   "source": [
    "X_order3 = X_order2\n",
    "X_order3['u3'] = u**3\n",
    "X_order3.head(3)"
   ]
  },
  {
   "cell_type": "code",
   "execution_count": null,
   "id": "b4dcdc19",
   "metadata": {},
   "outputs": [],
   "source": []
  },
  {
   "cell_type": "code",
   "execution_count": null,
   "id": "6326d702",
   "metadata": {},
   "outputs": [],
   "source": []
  },
  {
   "cell_type": "code",
   "execution_count": null,
   "id": "e0429498",
   "metadata": {},
   "outputs": [],
   "source": []
  },
  {
   "cell_type": "code",
   "execution_count": null,
   "id": "01fde796",
   "metadata": {},
   "outputs": [],
   "source": []
  },
  {
   "cell_type": "code",
   "execution_count": null,
   "id": "7105e404",
   "metadata": {},
   "outputs": [],
   "source": []
  },
  {
   "cell_type": "code",
   "execution_count": null,
   "id": "d628520b",
   "metadata": {},
   "outputs": [],
   "source": []
  },
  {
   "cell_type": "code",
   "execution_count": null,
   "id": "8584d113",
   "metadata": {},
   "outputs": [],
   "source": []
  },
  {
   "cell_type": "code",
   "execution_count": null,
   "id": "7a63b2f3",
   "metadata": {},
   "outputs": [],
   "source": []
  },
  {
   "cell_type": "code",
   "execution_count": null,
   "id": "76045c6a",
   "metadata": {},
   "outputs": [],
   "source": []
  },
  {
   "cell_type": "code",
   "execution_count": null,
   "id": "c1f16cb0",
   "metadata": {},
   "outputs": [],
   "source": []
  },
  {
   "cell_type": "code",
   "execution_count": null,
   "id": "25285735",
   "metadata": {},
   "outputs": [],
   "source": []
  },
  {
   "cell_type": "markdown",
   "id": "1504a90e",
   "metadata": {},
   "source": [
    "### GridSearch and CrossValidation"
   ]
  },
  {
   "cell_type": "markdown",
   "id": "5e89f7e5",
   "metadata": {},
   "source": [
    "### Train_test split"
   ]
  },
  {
   "cell_type": "code",
   "execution_count": 43,
   "id": "65d36ec0",
   "metadata": {},
   "outputs": [],
   "source": [
    "X_train, X_test, y_train, y_test = dpr.data_split(df, 'EQP', \"1987-12-01\", \"2019-12-01\")"
   ]
  },
  {
   "cell_type": "code",
   "execution_count": 44,
   "id": "cecd9af0",
   "metadata": {},
   "outputs": [],
   "source": [
    "val_length = 1\n",
    "test_length = 1\n",
    "step = 1\n",
    "# cv_outer = TimeSeriesSplit(gap=0, max_train_size=None, n_splits=int((12/step) * test_length), test_size=step)\n",
    "# cv_inner = TimeSeriesSplit(gap=0, max_train_size=None, n_splits=int((12/step) * val_length), test_size=step)\n",
    "cv_outer = TimeSeriesSplit(gap=0, max_train_size=None, n_splits=2, test_size=step)\n",
    "cv_inner = TimeSeriesSplit(gap=0, max_train_size=None, n_splits=2, test_size=step)"
   ]
  },
  {
   "cell_type": "code",
   "execution_count": 45,
   "id": "86a4b3f7",
   "metadata": {},
   "outputs": [],
   "source": [
    "space = dict()\n",
    "space['constraints'] = [(), constraint_func(X_train)]\n",
    "space['x0'] = [[0.01]*8,[1]*8]"
   ]
  },
  {
   "cell_type": "code",
   "execution_count": 46,
   "id": "b8560483",
   "metadata": {
    "scrolled": true
   },
   "outputs": [],
   "source": [
    "# models, c, model_mse = mr.Nested_CV(X = X, y = y, model = cls, \n",
    "#                                              cv_inner = cv_inner, cv_outer = cv_outer, \n",
    "#                                              search_method = 'Grid', space = space)"
   ]
  },
  {
   "cell_type": "markdown",
   "id": "5154de18",
   "metadata": {},
   "source": [
    "### Benchmark model: sample mean"
   ]
  },
  {
   "cell_type": "code",
   "execution_count": 47,
   "id": "3ec2057e",
   "metadata": {},
   "outputs": [],
   "source": [
    "# sm_pred, sm_mse = bench.sample_mean(y, \"1988-01-01\", cv_outer = cv_outer)"
   ]
  },
  {
   "cell_type": "markdown",
   "id": "e2c80477",
   "metadata": {},
   "source": [
    "### $R^2$ plot"
   ]
  },
  {
   "cell_type": "code",
   "execution_count": 48,
   "id": "e02a7fcf",
   "metadata": {},
   "outputs": [],
   "source": [
    "# bench.plot_R2(y_test[::3], c, sm_pred, adjust = False, alpha = 0.8)"
   ]
  },
  {
   "cell_type": "code",
   "execution_count": null,
   "id": "fc6b3616",
   "metadata": {},
   "outputs": [],
   "source": []
  },
  {
   "cell_type": "code",
   "execution_count": null,
   "id": "78b664fb",
   "metadata": {},
   "outputs": [],
   "source": []
  },
  {
   "cell_type": "code",
   "execution_count": null,
   "id": "1cb10c78",
   "metadata": {},
   "outputs": [],
   "source": []
  }
 ],
 "metadata": {
  "kernelspec": {
   "display_name": "Python 3",
   "language": "python",
   "name": "python3"
  },
  "language_info": {
   "codemirror_mode": {
    "name": "ipython",
    "version": 3
   },
   "file_extension": ".py",
   "mimetype": "text/x-python",
   "name": "python",
   "nbconvert_exporter": "python",
   "pygments_lexer": "ipython3",
   "version": "3.7.3"
  }
 },
 "nbformat": 4,
 "nbformat_minor": 5
}
