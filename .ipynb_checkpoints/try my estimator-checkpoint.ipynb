{
 "cells": [
  {
   "cell_type": "code",
   "execution_count": 1,
   "id": "846755cc",
   "metadata": {},
   "outputs": [],
   "source": [
    "import numpy as np\n",
    "import pandas as pd\n",
    "\n",
    "from scipy.optimize import minimize"
   ]
  },
  {
   "cell_type": "markdown",
   "id": "59ca91cb",
   "metadata": {},
   "source": [
    "## Try my estimator"
   ]
  },
  {
   "cell_type": "markdown",
   "id": "581846c2",
   "metadata": {},
   "source": [
    "## load data"
   ]
  },
  {
   "cell_type": "code",
   "execution_count": 5,
   "id": "90b58b62",
   "metadata": {},
   "outputs": [],
   "source": [
    "x = pd.read_excel('data/EQP_Monthly.xlsx')\n",
    "x1 = x[['DP', 'EP', 'b/m']]\n",
    "y_train = x['EQP']"
   ]
  },
  {
   "cell_type": "code",
   "execution_count": 6,
   "id": "518735cb",
   "metadata": {},
   "outputs": [
    {
     "data": {
      "text/html": [
       "<div>\n",
       "<style scoped>\n",
       "    .dataframe tbody tr th:only-of-type {\n",
       "        vertical-align: middle;\n",
       "    }\n",
       "\n",
       "    .dataframe tbody tr th {\n",
       "        vertical-align: top;\n",
       "    }\n",
       "\n",
       "    .dataframe thead th {\n",
       "        text-align: right;\n",
       "    }\n",
       "</style>\n",
       "<table border=\"1\" class=\"dataframe\">\n",
       "  <thead>\n",
       "    <tr style=\"text-align: right;\">\n",
       "      <th></th>\n",
       "      <th>DP</th>\n",
       "      <th>EP</th>\n",
       "      <th>b/m</th>\n",
       "    </tr>\n",
       "  </thead>\n",
       "  <tbody>\n",
       "    <tr>\n",
       "      <th>0</th>\n",
       "      <td>-2.942374</td>\n",
       "      <td>-2.374773</td>\n",
       "      <td>0.443706</td>\n",
       "    </tr>\n",
       "    <tr>\n",
       "      <th>1</th>\n",
       "      <td>-2.979535</td>\n",
       "      <td>-2.430353</td>\n",
       "      <td>0.428501</td>\n",
       "    </tr>\n",
       "    <tr>\n",
       "      <th>2</th>\n",
       "      <td>-2.976535</td>\n",
       "      <td>-2.445079</td>\n",
       "      <td>0.469765</td>\n",
       "    </tr>\n",
       "    <tr>\n",
       "      <th>3</th>\n",
       "      <td>-2.984225</td>\n",
       "      <td>-2.471309</td>\n",
       "      <td>0.456754</td>\n",
       "    </tr>\n",
       "    <tr>\n",
       "      <th>4</th>\n",
       "      <td>-3.025963</td>\n",
       "      <td>-2.531446</td>\n",
       "      <td>0.434783</td>\n",
       "    </tr>\n",
       "  </tbody>\n",
       "</table>\n",
       "</div>"
      ],
      "text/plain": [
       "         DP        EP       b/m\n",
       "0 -2.942374 -2.374773  0.443706\n",
       "1 -2.979535 -2.430353  0.428501\n",
       "2 -2.976535 -2.445079  0.469765\n",
       "3 -2.984225 -2.471309  0.456754\n",
       "4 -3.025963 -2.531446  0.434783"
      ]
     },
     "execution_count": 6,
     "metadata": {},
     "output_type": "execute_result"
    }
   ],
   "source": [
    "x1.head()"
   ]
  },
  {
   "cell_type": "code",
   "execution_count": 7,
   "id": "f53f5936",
   "metadata": {},
   "outputs": [
    {
     "data": {
      "text/plain": [
       "0   -0.005469\n",
       "1    0.041828\n",
       "2    0.004559\n",
       "3    0.010274\n",
       "4    0.057665\n",
       "Name: EQP, dtype: float64"
      ]
     },
     "execution_count": 7,
     "metadata": {},
     "output_type": "execute_result"
    }
   ],
   "source": [
    "y_train.head()"
   ]
  },
  {
   "cell_type": "markdown",
   "id": "f91a4d53",
   "metadata": {},
   "source": [
    "##  Nonlinear function with unknown parameters"
   ]
  },
  {
   "cell_type": "markdown",
   "id": "7c58c5f3",
   "metadata": {},
   "source": [
    "We define a linear combination of x with unknown parameter $\\theta$ and we call it the \"single-index\":"
   ]
  },
  {
   "cell_type": "markdown",
   "id": "de63ea5f",
   "metadata": {},
   "source": [
    "$$\n",
    "single\\_index = \\theta x^{T}\n",
    "$$"
   ]
  },
  {
   "cell_type": "markdown",
   "id": "c18115d6",
   "metadata": {},
   "source": [
    "The function below calculate the single-index and return a function with unknown parameter $\\theta$:"
   ]
  },
  {
   "cell_type": "markdown",
   "id": "4d8faa01",
   "metadata": {},
   "source": [
    "We then put this single-index into nonlinear functions. \n",
    "Take sin function as an example:\n",
    "$$\n",
    "f = sin\\left(\\left(\\theta x^{T}\\right) + \\gamma\\right)\n",
    "$$\n",
    "where $\\theta$ and $\\gamma$ are unkown parameters."
   ]
  },
  {
   "cell_type": "markdown",
   "id": "f32d5c70",
   "metadata": {},
   "source": [
    "The function below defines the above sin function and returns a function with unknow parameters $\\theta$\n",
    "and $\\gamma$:"
   ]
  },
  {
   "cell_type": "markdown",
   "id": "c8b38e6f",
   "metadata": {},
   "source": [
    "## Construct loss function\n",
    "Loss function is defined as the sum of squared errors:\n",
    "$$\n",
    "Loss = \\sum\\left(y-sin\\left(\\left(\\theta x^{T}\\right) + \\gamma\\right)\\right)^2\n",
    "$$"
   ]
  },
  {
   "cell_type": "markdown",
   "id": "6c7bd498",
   "metadata": {},
   "source": [
    "The loss function below returns a function with unknow parameters $\\theta$ and $\\gamma$:"
   ]
  },
  {
   "cell_type": "markdown",
   "id": "8cf4b6c2",
   "metadata": {},
   "source": [
    "## run the minimizer:\n",
    "We minimize the loss function and get a estimate of $\\theta$ and $\\gamma$"
   ]
  },
  {
   "cell_type": "markdown",
   "id": "6e03f14e",
   "metadata": {},
   "source": [
    "## Using BaseEstimator:"
   ]
  },
  {
   "cell_type": "code",
   "execution_count": 8,
   "id": "0addd75d",
   "metadata": {},
   "outputs": [],
   "source": [
    "from sklearn.base import BaseEstimator\n",
    "from sklearn.base import RegressorMixin\n",
    "from sklearn.utils.validation import check_X_y, check_array, check_is_fitted"
   ]
  },
  {
   "cell_type": "code",
   "execution_count": 219,
   "id": "4488c822",
   "metadata": {},
   "outputs": [],
   "source": [
    "def single_index(x):\n",
    "    if isinstance(x, (pd.DataFrame, np.ndarray)):\n",
    "        if isinstance(x,pd.DataFrame):\n",
    "            x_values = x.values\n",
    "        else:\n",
    "            pass\n",
    "    else:\n",
    "        raise Exception('wrong type')\n",
    "\n",
    "    def u(theta):\n",
    "        if len(theta) == x_values.shape[1]:\n",
    "            sum_up = [x_values[:,i]*theta[i] for i in range(x_values.shape[1])]\n",
    "            index = np.sum(sum_up, axis = 0)\n",
    "        else:\n",
    "            raise Exception('wrong parameter dimension')\n",
    "        return index\n",
    "    return u\n",
    "    \n",
    "class CLS_Estimator(BaseEstimator, RegressorMixin):\n",
    "\n",
    "    \n",
    "    def __init__(self, obj_func=None, x0=0, method='SLSQP', constraints = ()):\n",
    "        self.obj_func = obj_func\n",
    "        self.x0 = x0\n",
    "        self.method = method\n",
    "        self.constraints = constraints\n",
    "        self.params_ = None\n",
    "        \n",
    "    def constraint_func(self, x):\n",
    "        def constraint(params):\n",
    "            con = 0\n",
    "            for j in np.arange(0, x1.shape[1]):\n",
    "                con += params[j]**2\n",
    "                cons = con - 1\n",
    "            return cons\n",
    "        return {'type':'eq', 'fun': constraint}\n",
    "\n",
    "    def loss(self, x, y):\n",
    "        def loss_func(params):\n",
    "            error = np.sum((y - self.obj_func(x)(params)) ** 2)\n",
    "            return error\n",
    "        return loss_func\n",
    "    \n",
    "    def fit(self, x, y):\n",
    "        self._train_data = x\n",
    "        self._train_target = y\n",
    "\n",
    "        res = minimize(\n",
    "            self.loss(x,y),\n",
    "            x0 = self.x0,\n",
    "            method = self.method,\n",
    "            constraints = self.constraints\n",
    "        )\n",
    "\n",
    "#         res = self.optimizer\n",
    "        if res.success:\n",
    "            self.params_ = res.x\n",
    "        return self\n",
    "    \n",
    "    def predict(self, X):\n",
    "        self.yhat=self.obj_func(X)(self.params_)\n",
    "        return self.yhat"
   ]
  },
  {
   "cell_type": "code",
   "execution_count": 220,
   "id": "86d4f0b3",
   "metadata": {},
   "outputs": [],
   "source": [
    "def sin_func(x):\n",
    "    def objective_func(params):\n",
    "        func = np.sin(single_index(x)(params[0:x.shape[1]])+params[x.shape[1]])\n",
    "        return func\n",
    "    return objective_func"
   ]
  },
  {
   "cell_type": "code",
   "execution_count": 221,
   "id": "ceacf736",
   "metadata": {},
   "outputs": [],
   "source": [
    "def constraint_func(x):\n",
    "    def constraint(params):\n",
    "        con = 0\n",
    "        for j in np.arange(0, x1.shape[1]):\n",
    "            con += params[j]**2\n",
    "            cons = con - 1\n",
    "        return cons\n",
    "    return {'type':'eq', 'fun': constraint}"
   ]
  },
  {
   "cell_type": "code",
   "execution_count": 222,
   "id": "c6814118",
   "metadata": {},
   "outputs": [],
   "source": [
    "cls = CLS_Estimator(obj_func = sin_func, x0 = [0.001]*4)"
   ]
  },
  {
   "cell_type": "code",
   "execution_count": 223,
   "id": "525ab7db",
   "metadata": {},
   "outputs": [
    {
     "data": {
      "text/plain": [
       "CLS_Estimator(obj_func=<function sin_func at 0x000001AB0B16ED90>,\n",
       "              x0=[0.001, 0.001, 0.001, 0.001])"
      ]
     },
     "execution_count": 223,
     "metadata": {},
     "output_type": "execute_result"
    }
   ],
   "source": [
    "cls.fit(x1,y_train)"
   ]
  },
  {
   "cell_type": "code",
   "execution_count": 224,
   "id": "1071cfae",
   "metadata": {},
   "outputs": [],
   "source": [
    "yhat = cls.predict(x1[-1:])"
   ]
  },
  {
   "cell_type": "code",
   "execution_count": 225,
   "id": "49d1a857",
   "metadata": {},
   "outputs": [
    {
     "data": {
      "text/plain": [
       "array([0.01107173])"
      ]
     },
     "execution_count": 225,
     "metadata": {},
     "output_type": "execute_result"
    }
   ],
   "source": [
    "yhat"
   ]
  },
  {
   "cell_type": "code",
   "execution_count": null,
   "id": "32892083",
   "metadata": {},
   "outputs": [],
   "source": []
  },
  {
   "cell_type": "code",
   "execution_count": null,
   "id": "578d906d",
   "metadata": {},
   "outputs": [],
   "source": []
  },
  {
   "cell_type": "code",
   "execution_count": null,
   "id": "f7fc29ed",
   "metadata": {},
   "outputs": [],
   "source": []
  },
  {
   "cell_type": "code",
   "execution_count": null,
   "id": "61362076",
   "metadata": {},
   "outputs": [],
   "source": []
  },
  {
   "cell_type": "code",
   "execution_count": null,
   "id": "97407810",
   "metadata": {},
   "outputs": [],
   "source": []
  },
  {
   "cell_type": "code",
   "execution_count": null,
   "id": "20dc81f8",
   "metadata": {},
   "outputs": [],
   "source": []
  },
  {
   "cell_type": "code",
   "execution_count": null,
   "id": "a2c2b90e",
   "metadata": {},
   "outputs": [],
   "source": []
  },
  {
   "cell_type": "code",
   "execution_count": null,
   "id": "d6a62b6b",
   "metadata": {},
   "outputs": [],
   "source": []
  },
  {
   "cell_type": "code",
   "execution_count": null,
   "id": "856a27fb",
   "metadata": {},
   "outputs": [],
   "source": []
  },
  {
   "cell_type": "code",
   "execution_count": null,
   "id": "767b3678",
   "metadata": {},
   "outputs": [],
   "source": []
  },
  {
   "cell_type": "code",
   "execution_count": null,
   "id": "48076571",
   "metadata": {},
   "outputs": [],
   "source": []
  },
  {
   "cell_type": "code",
   "execution_count": null,
   "id": "38498f93",
   "metadata": {},
   "outputs": [],
   "source": []
  }
 ],
 "metadata": {
  "kernelspec": {
   "display_name": "Python 3",
   "language": "python",
   "name": "python3"
  },
  "language_info": {
   "codemirror_mode": {
    "name": "ipython",
    "version": 3
   },
   "file_extension": ".py",
   "mimetype": "text/x-python",
   "name": "python",
   "nbconvert_exporter": "python",
   "pygments_lexer": "ipython3",
   "version": "3.7.3"
  }
 },
 "nbformat": 4,
 "nbformat_minor": 5
}
