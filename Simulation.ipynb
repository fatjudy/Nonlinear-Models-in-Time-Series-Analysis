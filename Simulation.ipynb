{
 "cells": [
  {
   "cell_type": "code",
   "execution_count": 1,
   "id": "ac381434",
   "metadata": {},
   "outputs": [
    {
     "data": {
      "text/plain": [
       "<Figure size 720x360 with 0 Axes>"
      ]
     },
     "metadata": {},
     "output_type": "display_data"
    }
   ],
   "source": [
    "import os\n",
    "import itertools\n",
    "import xlsxwriter\n",
    "\n",
    "import numpy as np\n",
    "import pandas as pd\n",
    "from scipy.optimize import minimize\n",
    "from sklearn.model_selection import TimeSeriesSplit\n",
    "from sklearn.linear_model import LinearRegression\n",
    "from sklearn.model_selection import cross_validate\n",
    "import statsmodels.api as sm \n",
    "import matplotlib.pyplot as plt\n",
    "\n",
    "import DataPreparation as dpr\n",
    "import Models\n",
    "import benchmarks as bench\n",
    "from MyEstimators import CLS_Estimator"
   ]
  },
  {
   "cell_type": "code",
   "execution_count": 5,
   "id": "80263544",
   "metadata": {},
   "outputs": [
    {
     "data": {
      "text/plain": [
       "(array([ 1.93691941, -0.10235938,  0.74940663, ...,  1.07449755,\n",
       "         0.90605023,  1.81707733]),\n",
       " array([100.55350683,  99.64633967,  98.28067447, ...,  99.69380946,\n",
       "        100.5807049 ,  99.92890338]))"
      ]
     },
     "execution_count": 5,
     "metadata": {},
     "output_type": "execute_result"
    }
   ],
   "source": [
    "import os\n",
    "import itertools\n",
    "\n",
    "import numpy as np\n",
    "import pandas as pd\n",
    "from sklearn.linear_model import LinearRegression\n",
    "import statsmodels.api as sm\n",
    "\n",
    "import Models\n",
    "\n",
    "def xy_generator(parameters, sample_size, function, **options):\n",
    "    # error generation\n",
    "    v1, v2 = np.random.standard_normal(sample_size + 100), np.random.standard_normal(sample_size + 100)\n",
    "\n",
    "    x = v1+1\n",
    "    y = v2+100\n",
    "\n",
    "    return x, y\n",
    "\n",
    "opt = {'stationary' : True,\n",
    "       'error_type': 'standard',\n",
    "       'constraint' : True}\n",
    "\n",
    "xy_generator(parameters=1, sample_size=1000, function='a', options = opt)"
   ]
  },
  {
   "cell_type": "code",
   "execution_count": 7,
   "id": "551d1900",
   "metadata": {},
   "outputs": [
    {
     "ename": "ValueError",
     "evalue": "not enough values to unpack (expected 5, got 2)",
     "output_type": "error",
     "traceback": [
      "\u001b[1;31m---------------------------------------------------------------------------\u001b[0m",
      "\u001b[1;31mValueError\u001b[0m                                Traceback (most recent call last)",
      "\u001b[1;32m<ipython-input-7-dc4ffe3365e9>\u001b[0m in \u001b[0;36m<module>\u001b[1;34m\u001b[0m\n\u001b[1;32m----> 1\u001b[1;33m \u001b[0mdata\u001b[0m\u001b[1;33m,\u001b[0m \u001b[0my\u001b[0m\u001b[1;33m,\u001b[0m \u001b[0my_lag\u001b[0m\u001b[1;33m,\u001b[0m \u001b[0mx\u001b[0m\u001b[1;33m,\u001b[0m \u001b[0mz\u001b[0m \u001b[1;33m=\u001b[0m \u001b[0mxy_generator\u001b[0m\u001b[1;33m(\u001b[0m\u001b[0mparameters\u001b[0m\u001b[1;33m=\u001b[0m\u001b[1;36m1\u001b[0m\u001b[1;33m,\u001b[0m \u001b[0msample_size\u001b[0m\u001b[1;33m=\u001b[0m\u001b[1;36m1000\u001b[0m\u001b[1;33m,\u001b[0m \u001b[0mfunction\u001b[0m\u001b[1;33m=\u001b[0m\u001b[1;34m'a'\u001b[0m\u001b[1;33m,\u001b[0m \u001b[0moptions\u001b[0m \u001b[1;33m=\u001b[0m \u001b[0mopt\u001b[0m\u001b[1;33m)\u001b[0m\u001b[1;33m\u001b[0m\u001b[1;33m\u001b[0m\u001b[0m\n\u001b[0m",
      "\u001b[1;31mValueError\u001b[0m: not enough values to unpack (expected 5, got 2)"
     ]
    }
   ],
   "source": [
    "data, y, y_lag, x, z = xy_generator(parameters=1, sample_size=1000, function='a', options = opt)"
   ]
  },
  {
   "cell_type": "code",
   "execution_count": 8,
   "id": "616047d6",
   "metadata": {},
   "outputs": [
    {
     "data": {
      "text/plain": [
       "(array([0.41601044, 0.3125801 , 0.75954434, ..., 0.68162168, 1.87484269,\n",
       "        1.04481202]),\n",
       " array([100.42217689, 101.05567719,  99.67021513, ...,  99.11390476,\n",
       "         99.43904796,  98.92020121]))"
      ]
     },
     "execution_count": 8,
     "metadata": {},
     "output_type": "execute_result"
    }
   ],
   "source": [
    "xy_generator(parameters=1, sample_size=1000, function='a', options = opt)"
   ]
  },
  {
   "cell_type": "code",
   "execution_count": null,
   "id": "1375e5ff",
   "metadata": {},
   "outputs": [],
   "source": []
  }
 ],
 "metadata": {
  "kernelspec": {
   "display_name": "Python 3",
   "language": "python",
   "name": "python3"
  },
  "language_info": {
   "codemirror_mode": {
    "name": "ipython",
    "version": 3
   },
   "file_extension": ".py",
   "mimetype": "text/x-python",
   "name": "python",
   "nbconvert_exporter": "python",
   "pygments_lexer": "ipython3",
   "version": "3.8.8"
  }
 },
 "nbformat": 4,
 "nbformat_minor": 5
}
