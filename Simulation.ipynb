{
 "cells": [
  {
   "cell_type": "code",
   "execution_count": 1,
   "id": "ac381434",
   "metadata": {},
   "outputs": [
    {
     "data": {
      "text/plain": [
       "<Figure size 720x360 with 0 Axes>"
      ]
     },
     "metadata": {},
     "output_type": "display_data"
    }
   ],
   "source": [
    "import os\n",
    "import itertools\n",
    "import xlsxwriter\n",
    "\n",
    "import numpy as np\n",
    "import pandas as pd\n",
    "from scipy.optimize import minimize\n",
    "from sklearn.model_selection import TimeSeriesSplit\n",
    "from sklearn.linear_model import LinearRegression\n",
    "from sklearn.model_selection import cross_validate\n",
    "import statsmodels.api as sm \n",
    "import matplotlib.pyplot as plt\n",
    "\n",
    "import DataPreparation as dpr\n",
    "import Models\n",
    "import benchmarks as bench\n",
    "from MyEstimators import CLS_Estimator"
   ]
  },
  {
   "cell_type": "code",
   "execution_count": 3,
   "id": "80263544",
   "metadata": {},
   "outputs": [
    {
     "data": {
      "text/plain": [
       "(array([ 1.28535447,  0.79668768, -0.18109558, ..., -0.15430222,\n",
       "         1.06014232, -1.40851892]),\n",
       " array([100.34573854,  99.49750508,  99.27079165, ..., 101.20870868,\n",
       "         99.41906393,  99.17883302]))"
      ]
     },
     "execution_count": 3,
     "metadata": {},
     "output_type": "execute_result"
    }
   ],
   "source": [
    "import os\n",
    "import itertools\n",
    "\n",
    "import numpy as np\n",
    "import pandas as pd\n",
    "from sklearn.linear_model import LinearRegression\n",
    "import statsmodels.api as sm\n",
    "\n",
    "import Models\n",
    "\n",
    "def xy_generator(parameters, sample_size, function, **options):\n",
    "    # error generation\n",
    "    v1, v2 = np.random.standard_normal(sample_size + 100), np.random.standard_normal(sample_size + 100)\n",
    "\n",
    "    x = v1+1\n",
    "    y = v2+100\n",
    "\n",
    "    return x, y\n",
    "\n",
    "opt = {'stationary' : True,\n",
    "       'error_type': 'standard',\n",
    "       'constraint' : True}\n",
    "\n",
    "xy_generator(parameters=1, sample_size=1000, function='a', options = opt)"
   ]
  },
  {
   "cell_type": "code",
   "execution_count": null,
   "id": "551d1900",
   "metadata": {},
   "outputs": [],
   "source": []
  }
 ],
 "metadata": {
  "kernelspec": {
   "display_name": "Python 3",
   "language": "python",
   "name": "python3"
  },
  "language_info": {
   "codemirror_mode": {
    "name": "ipython",
    "version": 3
   },
   "file_extension": ".py",
   "mimetype": "text/x-python",
   "name": "python",
   "nbconvert_exporter": "python",
   "pygments_lexer": "ipython3",
   "version": "3.8.8"
  }
 },
 "nbformat": 4,
 "nbformat_minor": 5
}
