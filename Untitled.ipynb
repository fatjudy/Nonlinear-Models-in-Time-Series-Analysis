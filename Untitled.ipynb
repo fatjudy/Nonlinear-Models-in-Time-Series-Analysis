{
 "cells": [
  {
   "cell_type": "code",
   "execution_count": 1,
   "id": "905da7ce",
   "metadata": {},
   "outputs": [
    {
     "data": {
      "text/plain": [
       "<Figure size 720x360 with 0 Axes>"
      ]
     },
     "metadata": {},
     "output_type": "display_data"
    }
   ],
   "source": [
    "import os\n",
    "import itertools\n",
    "import xlsxwriter\n",
    "\n",
    "import numpy as np\n",
    "import pandas as pd\n",
    "from scipy.optimize import minimize\n",
    "from sklearn.model_selection import TimeSeriesSplit\n",
    "from sklearn.linear_model import LinearRegression\n",
    "from sklearn.model_selection import cross_validate\n",
    "import matplotlib.pyplot as plt\n",
    "\n",
    "import DataPreparation as dpr\n",
    "import Models\n",
    "import benchmarks as bench\n",
    "from MyEstimators import CLS_Estimator"
   ]
  },
  {
   "cell_type": "code",
   "execution_count": 2,
   "id": "e16483e0",
   "metadata": {},
   "outputs": [],
   "source": [
    "df = pd.read_excel('data/EQP_Quarterly.xlsx', index_col = 0)"
   ]
  },
  {
   "cell_type": "code",
   "execution_count": 3,
   "id": "2316bcdd",
   "metadata": {},
   "outputs": [],
   "source": [
    "df = df.dropna()\n",
    "df['yyyyq'] = df['yyyyq'].astype('int32')\n",
    "\n",
    "df['time'] = [pd.to_datetime(str(x)[:4]) + pd.offsets.QuarterEnd(int(str(x)[4:])) for x in df['yyyyq']]\n",
    "df = df.set_index('time')\n",
    "df = df.drop(['yyyyq'], axis = 1)\n",
    "\n",
    "df = df.loc['1956-03-31':'2018-12-31']\n",
    "\n",
    "df['new_cay'] = df['c'] - 0.218*df['w'] - 0.801*df['y']"
   ]
  },
  {
   "cell_type": "code",
   "execution_count": 4,
   "id": "1d0cd07c",
   "metadata": {},
   "outputs": [],
   "source": [
    "co1 = df[['DP', 'DY']]\n",
    "co2 = df[['tbl', 'lty']]\n",
    "co3 = df[['DP', 'EP']]\n",
    "co4 = df[['BAA', 'AAA']]\n",
    "y = df[['EQP']].squeeze()\n",
    "\n",
    "station_ar1 = df[['y_lag', 'new_cay']]\n",
    "\n",
    "cointe_ar1 = [co1, co2, co3, co4]\n",
    "names_ar1 = ['co1', 'co2', 'co3', 'co4']\n",
    "\n",
    "for i in range(len(cointe_ar1)):\n",
    "    cointe_ar1[i].name = names_ar1[i]"
   ]
  },
  {
   "cell_type": "code",
   "execution_count": 5,
   "id": "1a14c299",
   "metadata": {},
   "outputs": [],
   "source": [
    "extra_params = {'sin_func':1,\n",
    "               'cos_func':1,\n",
    "               'scaled_sin_func':2,\n",
    "               'scaled_cos_func':2,\n",
    "               'exp_func':2,\n",
    "               'exp_shift_func':2,\n",
    "                'poly_func':3,\n",
    "                'linear_func':2\n",
    "               }"
   ]
  },
  {
   "cell_type": "code",
   "execution_count": 6,
   "id": "a2099335",
   "metadata": {},
   "outputs": [],
   "source": [
    "Models.param_num = {'theta':co1.shape[1],\n",
    "               'beta':station_ar1.shape[1],\n",
    "               'gamma':extra_params['poly_func']\n",
    "               }"
   ]
  },
  {
   "cell_type": "code",
   "execution_count": 7,
   "id": "4f49f4c6",
   "metadata": {},
   "outputs": [],
   "source": [
    "X_ = co1.join(station_ar1)"
   ]
  },
  {
   "cell_type": "code",
   "execution_count": 8,
   "id": "2392f363",
   "metadata": {},
   "outputs": [],
   "source": [
    "def constraint_func(x):\n",
    "    def constraint(params):\n",
    "        con = 0\n",
    "        for j in np.arange(0, x.shape[1]):\n",
    "            con += params[j]**2\n",
    "            cons = con - 1\n",
    "        return cons\n",
    "    return {'type':'eq', 'fun': constraint}"
   ]
  },
  {
   "cell_type": "code",
   "execution_count": 9,
   "id": "e1b26ce3",
   "metadata": {},
   "outputs": [
    {
     "data": {
      "text/plain": [
       "array([-5.32027607e-02,  9.98583730e-01,  7.81351283e-02,  5.02706441e-01,\n",
       "        3.00190059e-01,  1.83133431e-02, -3.60219419e-04])"
      ]
     },
     "execution_count": 9,
     "metadata": {},
     "output_type": "execute_result"
    }
   ],
   "source": [
    "cls = CLS_Estimator(obj_func = Models.poly_func, x0 = [0.001]*7, constraints = constraint_func(co1), options={'maxiter':50000})\n",
    "cls.fit(X_,y)\n",
    "cls.params_"
   ]
  },
  {
   "cell_type": "code",
   "execution_count": null,
   "id": "b02fade4",
   "metadata": {},
   "outputs": [],
   "source": []
  }
 ],
 "metadata": {
  "kernelspec": {
   "display_name": "Python 3",
   "language": "python",
   "name": "python3"
  },
  "language_info": {
   "codemirror_mode": {
    "name": "ipython",
    "version": 3
   },
   "file_extension": ".py",
   "mimetype": "text/x-python",
   "name": "python",
   "nbconvert_exporter": "python",
   "pygments_lexer": "ipython3",
   "version": "3.8.8"
  }
 },
 "nbformat": 4,
 "nbformat_minor": 5
}
